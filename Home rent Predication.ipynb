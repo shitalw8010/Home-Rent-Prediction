{
 "cells": [
  {
   "cell_type": "code",
   "execution_count": 1,
   "id": "1efbe8ad",
   "metadata": {},
   "outputs": [],
   "source": [
    "import pandas as pd"
   ]
  },
  {
   "cell_type": "code",
   "execution_count": 2,
   "id": "d9cc1e6d",
   "metadata": {},
   "outputs": [],
   "source": [
    "d1={'LotFrontage':['NA',''],'MasVnrArea':'NA','MasVnrType':'NA','Electrical':'NA','GarageYrBlt':'NA'}   #in some columns NA is missing but in some NA is treated as no value So in dictionary we give NA as missing value\n",
    "df_train=pd.read_csv('../../../Datasets/house-prices-advanced-regression-techniques/train.csv',keep_default_na=False,na_values=d1)\n"
   ]
  },
  {
   "cell_type": "code",
   "execution_count": 3,
   "id": "88e21be3",
   "metadata": {},
   "outputs": [
    {
     "data": {
      "text/html": [
       "<div>\n",
       "<style scoped>\n",
       "    .dataframe tbody tr th:only-of-type {\n",
       "        vertical-align: middle;\n",
       "    }\n",
       "\n",
       "    .dataframe tbody tr th {\n",
       "        vertical-align: top;\n",
       "    }\n",
       "\n",
       "    .dataframe thead th {\n",
       "        text-align: right;\n",
       "    }\n",
       "</style>\n",
       "<table border=\"1\" class=\"dataframe\">\n",
       "  <thead>\n",
       "    <tr style=\"text-align: right;\">\n",
       "      <th></th>\n",
       "      <th>Id</th>\n",
       "      <th>MSSubClass</th>\n",
       "      <th>MSZoning</th>\n",
       "      <th>LotFrontage</th>\n",
       "      <th>LotArea</th>\n",
       "      <th>Street</th>\n",
       "      <th>Alley</th>\n",
       "      <th>LotShape</th>\n",
       "      <th>LandContour</th>\n",
       "      <th>Utilities</th>\n",
       "      <th>...</th>\n",
       "      <th>PoolArea</th>\n",
       "      <th>PoolQC</th>\n",
       "      <th>Fence</th>\n",
       "      <th>MiscFeature</th>\n",
       "      <th>MiscVal</th>\n",
       "      <th>MoSold</th>\n",
       "      <th>YrSold</th>\n",
       "      <th>SaleType</th>\n",
       "      <th>SaleCondition</th>\n",
       "      <th>SalePrice</th>\n",
       "    </tr>\n",
       "  </thead>\n",
       "  <tbody>\n",
       "    <tr>\n",
       "      <th>0</th>\n",
       "      <td>1</td>\n",
       "      <td>60</td>\n",
       "      <td>RL</td>\n",
       "      <td>65.0</td>\n",
       "      <td>8450</td>\n",
       "      <td>Pave</td>\n",
       "      <td>NA</td>\n",
       "      <td>Reg</td>\n",
       "      <td>Lvl</td>\n",
       "      <td>AllPub</td>\n",
       "      <td>...</td>\n",
       "      <td>0</td>\n",
       "      <td>NA</td>\n",
       "      <td>NA</td>\n",
       "      <td>NA</td>\n",
       "      <td>0</td>\n",
       "      <td>2</td>\n",
       "      <td>2008</td>\n",
       "      <td>WD</td>\n",
       "      <td>Normal</td>\n",
       "      <td>208500</td>\n",
       "    </tr>\n",
       "    <tr>\n",
       "      <th>1</th>\n",
       "      <td>2</td>\n",
       "      <td>20</td>\n",
       "      <td>RL</td>\n",
       "      <td>80.0</td>\n",
       "      <td>9600</td>\n",
       "      <td>Pave</td>\n",
       "      <td>NA</td>\n",
       "      <td>Reg</td>\n",
       "      <td>Lvl</td>\n",
       "      <td>AllPub</td>\n",
       "      <td>...</td>\n",
       "      <td>0</td>\n",
       "      <td>NA</td>\n",
       "      <td>NA</td>\n",
       "      <td>NA</td>\n",
       "      <td>0</td>\n",
       "      <td>5</td>\n",
       "      <td>2007</td>\n",
       "      <td>WD</td>\n",
       "      <td>Normal</td>\n",
       "      <td>181500</td>\n",
       "    </tr>\n",
       "    <tr>\n",
       "      <th>2</th>\n",
       "      <td>3</td>\n",
       "      <td>60</td>\n",
       "      <td>RL</td>\n",
       "      <td>68.0</td>\n",
       "      <td>11250</td>\n",
       "      <td>Pave</td>\n",
       "      <td>NA</td>\n",
       "      <td>IR1</td>\n",
       "      <td>Lvl</td>\n",
       "      <td>AllPub</td>\n",
       "      <td>...</td>\n",
       "      <td>0</td>\n",
       "      <td>NA</td>\n",
       "      <td>NA</td>\n",
       "      <td>NA</td>\n",
       "      <td>0</td>\n",
       "      <td>9</td>\n",
       "      <td>2008</td>\n",
       "      <td>WD</td>\n",
       "      <td>Normal</td>\n",
       "      <td>223500</td>\n",
       "    </tr>\n",
       "    <tr>\n",
       "      <th>3</th>\n",
       "      <td>4</td>\n",
       "      <td>70</td>\n",
       "      <td>RL</td>\n",
       "      <td>60.0</td>\n",
       "      <td>9550</td>\n",
       "      <td>Pave</td>\n",
       "      <td>NA</td>\n",
       "      <td>IR1</td>\n",
       "      <td>Lvl</td>\n",
       "      <td>AllPub</td>\n",
       "      <td>...</td>\n",
       "      <td>0</td>\n",
       "      <td>NA</td>\n",
       "      <td>NA</td>\n",
       "      <td>NA</td>\n",
       "      <td>0</td>\n",
       "      <td>2</td>\n",
       "      <td>2006</td>\n",
       "      <td>WD</td>\n",
       "      <td>Abnorml</td>\n",
       "      <td>140000</td>\n",
       "    </tr>\n",
       "    <tr>\n",
       "      <th>4</th>\n",
       "      <td>5</td>\n",
       "      <td>60</td>\n",
       "      <td>RL</td>\n",
       "      <td>84.0</td>\n",
       "      <td>14260</td>\n",
       "      <td>Pave</td>\n",
       "      <td>NA</td>\n",
       "      <td>IR1</td>\n",
       "      <td>Lvl</td>\n",
       "      <td>AllPub</td>\n",
       "      <td>...</td>\n",
       "      <td>0</td>\n",
       "      <td>NA</td>\n",
       "      <td>NA</td>\n",
       "      <td>NA</td>\n",
       "      <td>0</td>\n",
       "      <td>12</td>\n",
       "      <td>2008</td>\n",
       "      <td>WD</td>\n",
       "      <td>Normal</td>\n",
       "      <td>250000</td>\n",
       "    </tr>\n",
       "    <tr>\n",
       "      <th>5</th>\n",
       "      <td>6</td>\n",
       "      <td>50</td>\n",
       "      <td>RL</td>\n",
       "      <td>85.0</td>\n",
       "      <td>14115</td>\n",
       "      <td>Pave</td>\n",
       "      <td>NA</td>\n",
       "      <td>IR1</td>\n",
       "      <td>Lvl</td>\n",
       "      <td>AllPub</td>\n",
       "      <td>...</td>\n",
       "      <td>0</td>\n",
       "      <td>NA</td>\n",
       "      <td>MnPrv</td>\n",
       "      <td>Shed</td>\n",
       "      <td>700</td>\n",
       "      <td>10</td>\n",
       "      <td>2009</td>\n",
       "      <td>WD</td>\n",
       "      <td>Normal</td>\n",
       "      <td>143000</td>\n",
       "    </tr>\n",
       "    <tr>\n",
       "      <th>6</th>\n",
       "      <td>7</td>\n",
       "      <td>20</td>\n",
       "      <td>RL</td>\n",
       "      <td>75.0</td>\n",
       "      <td>10084</td>\n",
       "      <td>Pave</td>\n",
       "      <td>NA</td>\n",
       "      <td>Reg</td>\n",
       "      <td>Lvl</td>\n",
       "      <td>AllPub</td>\n",
       "      <td>...</td>\n",
       "      <td>0</td>\n",
       "      <td>NA</td>\n",
       "      <td>NA</td>\n",
       "      <td>NA</td>\n",
       "      <td>0</td>\n",
       "      <td>8</td>\n",
       "      <td>2007</td>\n",
       "      <td>WD</td>\n",
       "      <td>Normal</td>\n",
       "      <td>307000</td>\n",
       "    </tr>\n",
       "    <tr>\n",
       "      <th>7</th>\n",
       "      <td>8</td>\n",
       "      <td>60</td>\n",
       "      <td>RL</td>\n",
       "      <td>NaN</td>\n",
       "      <td>10382</td>\n",
       "      <td>Pave</td>\n",
       "      <td>NA</td>\n",
       "      <td>IR1</td>\n",
       "      <td>Lvl</td>\n",
       "      <td>AllPub</td>\n",
       "      <td>...</td>\n",
       "      <td>0</td>\n",
       "      <td>NA</td>\n",
       "      <td>NA</td>\n",
       "      <td>Shed</td>\n",
       "      <td>350</td>\n",
       "      <td>11</td>\n",
       "      <td>2009</td>\n",
       "      <td>WD</td>\n",
       "      <td>Normal</td>\n",
       "      <td>200000</td>\n",
       "    </tr>\n",
       "    <tr>\n",
       "      <th>8</th>\n",
       "      <td>9</td>\n",
       "      <td>50</td>\n",
       "      <td>RM</td>\n",
       "      <td>51.0</td>\n",
       "      <td>6120</td>\n",
       "      <td>Pave</td>\n",
       "      <td>NA</td>\n",
       "      <td>Reg</td>\n",
       "      <td>Lvl</td>\n",
       "      <td>AllPub</td>\n",
       "      <td>...</td>\n",
       "      <td>0</td>\n",
       "      <td>NA</td>\n",
       "      <td>NA</td>\n",
       "      <td>NA</td>\n",
       "      <td>0</td>\n",
       "      <td>4</td>\n",
       "      <td>2008</td>\n",
       "      <td>WD</td>\n",
       "      <td>Abnorml</td>\n",
       "      <td>129900</td>\n",
       "    </tr>\n",
       "    <tr>\n",
       "      <th>9</th>\n",
       "      <td>10</td>\n",
       "      <td>190</td>\n",
       "      <td>RL</td>\n",
       "      <td>50.0</td>\n",
       "      <td>7420</td>\n",
       "      <td>Pave</td>\n",
       "      <td>NA</td>\n",
       "      <td>Reg</td>\n",
       "      <td>Lvl</td>\n",
       "      <td>AllPub</td>\n",
       "      <td>...</td>\n",
       "      <td>0</td>\n",
       "      <td>NA</td>\n",
       "      <td>NA</td>\n",
       "      <td>NA</td>\n",
       "      <td>0</td>\n",
       "      <td>1</td>\n",
       "      <td>2008</td>\n",
       "      <td>WD</td>\n",
       "      <td>Normal</td>\n",
       "      <td>118000</td>\n",
       "    </tr>\n",
       "  </tbody>\n",
       "</table>\n",
       "<p>10 rows × 81 columns</p>\n",
       "</div>"
      ],
      "text/plain": [
       "   Id  MSSubClass MSZoning  LotFrontage  LotArea Street Alley LotShape  \\\n",
       "0   1          60       RL         65.0     8450   Pave    NA      Reg   \n",
       "1   2          20       RL         80.0     9600   Pave    NA      Reg   \n",
       "2   3          60       RL         68.0    11250   Pave    NA      IR1   \n",
       "3   4          70       RL         60.0     9550   Pave    NA      IR1   \n",
       "4   5          60       RL         84.0    14260   Pave    NA      IR1   \n",
       "5   6          50       RL         85.0    14115   Pave    NA      IR1   \n",
       "6   7          20       RL         75.0    10084   Pave    NA      Reg   \n",
       "7   8          60       RL          NaN    10382   Pave    NA      IR1   \n",
       "8   9          50       RM         51.0     6120   Pave    NA      Reg   \n",
       "9  10         190       RL         50.0     7420   Pave    NA      Reg   \n",
       "\n",
       "  LandContour Utilities  ... PoolArea PoolQC  Fence MiscFeature MiscVal  \\\n",
       "0         Lvl    AllPub  ...        0     NA     NA          NA       0   \n",
       "1         Lvl    AllPub  ...        0     NA     NA          NA       0   \n",
       "2         Lvl    AllPub  ...        0     NA     NA          NA       0   \n",
       "3         Lvl    AllPub  ...        0     NA     NA          NA       0   \n",
       "4         Lvl    AllPub  ...        0     NA     NA          NA       0   \n",
       "5         Lvl    AllPub  ...        0     NA  MnPrv        Shed     700   \n",
       "6         Lvl    AllPub  ...        0     NA     NA          NA       0   \n",
       "7         Lvl    AllPub  ...        0     NA     NA        Shed     350   \n",
       "8         Lvl    AllPub  ...        0     NA     NA          NA       0   \n",
       "9         Lvl    AllPub  ...        0     NA     NA          NA       0   \n",
       "\n",
       "  MoSold YrSold  SaleType  SaleCondition  SalePrice  \n",
       "0      2   2008        WD         Normal     208500  \n",
       "1      5   2007        WD         Normal     181500  \n",
       "2      9   2008        WD         Normal     223500  \n",
       "3      2   2006        WD        Abnorml     140000  \n",
       "4     12   2008        WD         Normal     250000  \n",
       "5     10   2009        WD         Normal     143000  \n",
       "6      8   2007        WD         Normal     307000  \n",
       "7     11   2009        WD         Normal     200000  \n",
       "8      4   2008        WD        Abnorml     129900  \n",
       "9      1   2008        WD         Normal     118000  \n",
       "\n",
       "[10 rows x 81 columns]"
      ]
     },
     "execution_count": 3,
     "metadata": {},
     "output_type": "execute_result"
    }
   ],
   "source": [
    "df_train.head(10)"
   ]
  },
  {
   "cell_type": "code",
   "execution_count": 4,
   "id": "81dfed84",
   "metadata": {},
   "outputs": [
    {
     "name": "stdout",
     "output_type": "stream",
     "text": [
      "<class 'pandas.core.frame.DataFrame'>\n",
      "RangeIndex: 1460 entries, 0 to 1459\n",
      "Data columns (total 81 columns):\n",
      " #   Column         Non-Null Count  Dtype  \n",
      "---  ------         --------------  -----  \n",
      " 0   Id             1460 non-null   int64  \n",
      " 1   MSSubClass     1460 non-null   int64  \n",
      " 2   MSZoning       1460 non-null   object \n",
      " 3   LotFrontage    1201 non-null   float64\n",
      " 4   LotArea        1460 non-null   int64  \n",
      " 5   Street         1460 non-null   object \n",
      " 6   Alley          1460 non-null   object \n",
      " 7   LotShape       1460 non-null   object \n",
      " 8   LandContour    1460 non-null   object \n",
      " 9   Utilities      1460 non-null   object \n",
      " 10  LotConfig      1460 non-null   object \n",
      " 11  LandSlope      1460 non-null   object \n",
      " 12  Neighborhood   1460 non-null   object \n",
      " 13  Condition1     1460 non-null   object \n",
      " 14  Condition2     1460 non-null   object \n",
      " 15  BldgType       1460 non-null   object \n",
      " 16  HouseStyle     1460 non-null   object \n",
      " 17  OverallQual    1460 non-null   int64  \n",
      " 18  OverallCond    1460 non-null   int64  \n",
      " 19  YearBuilt      1460 non-null   int64  \n",
      " 20  YearRemodAdd   1460 non-null   int64  \n",
      " 21  RoofStyle      1460 non-null   object \n",
      " 22  RoofMatl       1460 non-null   object \n",
      " 23  Exterior1st    1460 non-null   object \n",
      " 24  Exterior2nd    1460 non-null   object \n",
      " 25  MasVnrType     1452 non-null   object \n",
      " 26  MasVnrArea     1452 non-null   float64\n",
      " 27  ExterQual      1460 non-null   object \n",
      " 28  ExterCond      1460 non-null   object \n",
      " 29  Foundation     1460 non-null   object \n",
      " 30  BsmtQual       1460 non-null   object \n",
      " 31  BsmtCond       1460 non-null   object \n",
      " 32  BsmtExposure   1460 non-null   object \n",
      " 33  BsmtFinType1   1460 non-null   object \n",
      " 34  BsmtFinSF1     1460 non-null   int64  \n",
      " 35  BsmtFinType2   1460 non-null   object \n",
      " 36  BsmtFinSF2     1460 non-null   int64  \n",
      " 37  BsmtUnfSF      1460 non-null   int64  \n",
      " 38  TotalBsmtSF    1460 non-null   int64  \n",
      " 39  Heating        1460 non-null   object \n",
      " 40  HeatingQC      1460 non-null   object \n",
      " 41  CentralAir     1460 non-null   object \n",
      " 42  Electrical     1459 non-null   object \n",
      " 43  1stFlrSF       1460 non-null   int64  \n",
      " 44  2ndFlrSF       1460 non-null   int64  \n",
      " 45  LowQualFinSF   1460 non-null   int64  \n",
      " 46  GrLivArea      1460 non-null   int64  \n",
      " 47  BsmtFullBath   1460 non-null   int64  \n",
      " 48  BsmtHalfBath   1460 non-null   int64  \n",
      " 49  FullBath       1460 non-null   int64  \n",
      " 50  HalfBath       1460 non-null   int64  \n",
      " 51  BedroomAbvGr   1460 non-null   int64  \n",
      " 52  KitchenAbvGr   1460 non-null   int64  \n",
      " 53  KitchenQual    1460 non-null   object \n",
      " 54  TotRmsAbvGrd   1460 non-null   int64  \n",
      " 55  Functional     1460 non-null   object \n",
      " 56  Fireplaces     1460 non-null   int64  \n",
      " 57  FireplaceQu    1460 non-null   object \n",
      " 58  GarageType     1460 non-null   object \n",
      " 59  GarageYrBlt    1379 non-null   float64\n",
      " 60  GarageFinish   1460 non-null   object \n",
      " 61  GarageCars     1460 non-null   int64  \n",
      " 62  GarageArea     1460 non-null   int64  \n",
      " 63  GarageQual     1460 non-null   object \n",
      " 64  GarageCond     1460 non-null   object \n",
      " 65  PavedDrive     1460 non-null   object \n",
      " 66  WoodDeckSF     1460 non-null   int64  \n",
      " 67  OpenPorchSF    1460 non-null   int64  \n",
      " 68  EnclosedPorch  1460 non-null   int64  \n",
      " 69  3SsnPorch      1460 non-null   int64  \n",
      " 70  ScreenPorch    1460 non-null   int64  \n",
      " 71  PoolArea       1460 non-null   int64  \n",
      " 72  PoolQC         1460 non-null   object \n",
      " 73  Fence          1460 non-null   object \n",
      " 74  MiscFeature    1460 non-null   object \n",
      " 75  MiscVal        1460 non-null   int64  \n",
      " 76  MoSold         1460 non-null   int64  \n",
      " 77  YrSold         1460 non-null   int64  \n",
      " 78  SaleType       1460 non-null   object \n",
      " 79  SaleCondition  1460 non-null   object \n",
      " 80  SalePrice      1460 non-null   int64  \n",
      "dtypes: float64(3), int64(35), object(43)\n",
      "memory usage: 924.0+ KB\n"
     ]
    }
   ],
   "source": [
    "df_train.info()"
   ]
  },
  {
   "cell_type": "code",
   "execution_count": 5,
   "id": "5254b357",
   "metadata": {},
   "outputs": [
    {
     "data": {
      "text/plain": [
       "Id               0\n",
       "MSSubClass       0\n",
       "MSZoning         0\n",
       "LotFrontage    259\n",
       "LotArea          0\n",
       "Street           0\n",
       "Alley            0\n",
       "LotShape         0\n",
       "LandContour      0\n",
       "Utilities        0\n",
       "dtype: int64"
      ]
     },
     "execution_count": 5,
     "metadata": {},
     "output_type": "execute_result"
    }
   ],
   "source": [
    "df_train.isna().sum()[:10]   #column sum of NA values"
   ]
  },
  {
   "cell_type": "markdown",
   "id": "f7871dd5",
   "metadata": {},
   "source": [
    "## Check for outliers"
   ]
  },
  {
   "cell_type": "code",
   "execution_count": 6,
   "id": "bb36c1d0",
   "metadata": {},
   "outputs": [
    {
     "data": {
      "text/plain": [
       "(array([148., 723., 373., 135.,  51.,  19.,   4.,   3.,   2.,   2.]),\n",
       " array([ 34900., 106910., 178920., 250930., 322940., 394950., 466960.,\n",
       "        538970., 610980., 682990., 755000.]),\n",
       " <BarContainer object of 10 artists>)"
      ]
     },
     "execution_count": 6,
     "metadata": {},
     "output_type": "execute_result"
    },
    {
     "data": {
      "image/png": "[encoded data removed]",
      "text/plain": [
       "<Figure size 432x288 with 1 Axes>"
      ]
     },
     "metadata": {
      "needs_background": "light"
     },
     "output_type": "display_data"
    }
   ],
   "source": [
    "import matplotlib.pyplot as plt\n",
    "plt.hist(df_train['SalePrice'])"
   ]
  },
  {
   "cell_type": "code",
   "execution_count": 7,
   "id": "3d46265f",
   "metadata": {},
   "outputs": [
    {
     "data": {
      "text/plain": [
       "{'whiskers': [<matplotlib.lines.Line2D at 0x14ee13cc670>,\n",
       "  <matplotlib.lines.Line2D at 0x14ee13cc850>],\n",
       " 'caps': [<matplotlib.lines.Line2D at 0x14ee13ccbb0>,\n",
       "  <matplotlib.lines.Line2D at 0x14ee13ccf10>],\n",
       " 'boxes': [<matplotlib.lines.Line2D at 0x14ee13cc310>],\n",
       " 'medians': [<matplotlib.lines.Line2D at 0x14ee13dd2b0>],\n",
       " 'fliers': [<matplotlib.lines.Line2D at 0x14ee13dd610>],\n",
       " 'means': []}"
      ]
     },
     "execution_count": 7,
     "metadata": {},
     "output_type": "execute_result"
    },
    {
     "data": {
      "image/png": "[encoded data removed]",
      "text/plain": [
       "<Figure size 432x288 with 1 Axes>"
      ]
     },
     "metadata": {
      "needs_background": "light"
     },
     "output_type": "display_data"
    }
   ],
   "source": [
    "plt.boxplot(df_train['SalePrice'])"
   ]
  },
  {
   "cell_type": "code",
   "execution_count": 8,
   "id": "213aca19",
   "metadata": {},
   "outputs": [
    {
     "data": {
      "text/plain": [
       "count      1460.000000\n",
       "mean     180921.195890\n",
       "std       79442.502883\n",
       "min       34900.000000\n",
       "25%      129975.000000\n",
       "50%      163000.000000\n",
       "75%      214000.000000\n",
       "max      755000.000000\n",
       "Name: SalePrice, dtype: float64"
      ]
     },
     "execution_count": 8,
     "metadata": {},
     "output_type": "execute_result"
    }
   ],
   "source": [
    "df_train['SalePrice'].describe()"
   ]
  },
  {
   "cell_type": "code",
   "execution_count": 9,
   "id": "c2eac82e",
   "metadata": {},
   "outputs": [
    {
     "data": {
      "text/plain": [
       "61"
      ]
     },
     "execution_count": 9,
     "metadata": {},
     "output_type": "execute_result"
    }
   ],
   "source": [
    "sum(df_train['SalePrice']>340000)  #total outliers"
   ]
  },
  {
   "cell_type": "code",
   "execution_count": 10,
   "id": "b37be63c",
   "metadata": {},
   "outputs": [
    {
     "data": {
      "text/plain": [
       "1399"
      ]
     },
     "execution_count": 10,
     "metadata": {},
     "output_type": "execute_result"
    }
   ],
   "source": [
    "sum(df_train['SalePrice']<=340000) #removing outliers"
   ]
  },
  {
   "cell_type": "code",
   "execution_count": 11,
   "id": "d07d6d25",
   "metadata": {},
   "outputs": [],
   "source": [
    "df_train=df_train[df_train['SalePrice']<=340000] #removed from df_train"
   ]
  },
  {
   "cell_type": "code",
   "execution_count": 12,
   "id": "376766e9",
   "metadata": {},
   "outputs": [],
   "source": [
    "df_train.drop('Id',axis=1,inplace=True)"
   ]
  },
  {
   "cell_type": "code",
   "execution_count": 13,
   "id": "affe0e0e",
   "metadata": {},
   "outputs": [
    {
     "name": "stdout",
     "output_type": "stream",
     "text": [
      "<class 'pandas.core.frame.DataFrame'>\n",
      "Int64Index: 1399 entries, 0 to 1459\n",
      "Data columns (total 80 columns):\n",
      " #   Column         Non-Null Count  Dtype  \n",
      "---  ------         --------------  -----  \n",
      " 0   MSSubClass     1399 non-null   int64  \n",
      " 1   MSZoning       1399 non-null   object \n",
      " 2   LotFrontage    1143 non-null   float64\n",
      " 3   LotArea        1399 non-null   int64  \n",
      " 4   Street         1399 non-null   object \n",
      " 5   Alley          1399 non-null   object \n",
      " 6   LotShape       1399 non-null   object \n",
      " 7   LandContour    1399 non-null   object \n",
      " 8   Utilities      1399 non-null   object \n",
      " 9   LotConfig      1399 non-null   object \n",
      " 10  LandSlope      1399 non-null   object \n",
      " 11  Neighborhood   1399 non-null   object \n",
      " 12  Condition1     1399 non-null   object \n",
      " 13  Condition2     1399 non-null   object \n",
      " 14  BldgType       1399 non-null   object \n",
      " 15  HouseStyle     1399 non-null   object \n",
      " 16  OverallQual    1399 non-null   int64  \n",
      " 17  OverallCond    1399 non-null   int64  \n",
      " 18  YearBuilt      1399 non-null   int64  \n",
      " 19  YearRemodAdd   1399 non-null   int64  \n",
      " 20  RoofStyle      1399 non-null   object \n",
      " 21  RoofMatl       1399 non-null   object \n",
      " 22  Exterior1st    1399 non-null   object \n",
      " 23  Exterior2nd    1399 non-null   object \n",
      " 24  MasVnrType     1392 non-null   object \n",
      " 25  MasVnrArea     1392 non-null   float64\n",
      " 26  ExterQual      1399 non-null   object \n",
      " 27  ExterCond      1399 non-null   object \n",
      " 28  Foundation     1399 non-null   object \n",
      " 29  BsmtQual       1399 non-null   object \n",
      " 30  BsmtCond       1399 non-null   object \n",
      " 31  BsmtExposure   1399 non-null   object \n",
      " 32  BsmtFinType1   1399 non-null   object \n",
      " 33  BsmtFinSF1     1399 non-null   int64  \n",
      " 34  BsmtFinType2   1399 non-null   object \n",
      " 35  BsmtFinSF2     1399 non-null   int64  \n",
      " 36  BsmtUnfSF      1399 non-null   int64  \n",
      " 37  TotalBsmtSF    1399 non-null   int64  \n",
      " 38  Heating        1399 non-null   object \n",
      " 39  HeatingQC      1399 non-null   object \n",
      " 40  CentralAir     1399 non-null   object \n",
      " 41  Electrical     1398 non-null   object \n",
      " 42  1stFlrSF       1399 non-null   int64  \n",
      " 43  2ndFlrSF       1399 non-null   int64  \n",
      " 44  LowQualFinSF   1399 non-null   int64  \n",
      " 45  GrLivArea      1399 non-null   int64  \n",
      " 46  BsmtFullBath   1399 non-null   int64  \n",
      " 47  BsmtHalfBath   1399 non-null   int64  \n",
      " 48  FullBath       1399 non-null   int64  \n",
      " 49  HalfBath       1399 non-null   int64  \n",
      " 50  BedroomAbvGr   1399 non-null   int64  \n",
      " 51  KitchenAbvGr   1399 non-null   int64  \n",
      " 52  KitchenQual    1399 non-null   object \n",
      " 53  TotRmsAbvGrd   1399 non-null   int64  \n",
      " 54  Functional     1399 non-null   object \n",
      " 55  Fireplaces     1399 non-null   int64  \n",
      " 56  FireplaceQu    1399 non-null   object \n",
      " 57  GarageType     1399 non-null   object \n",
      " 58  GarageYrBlt    1318 non-null   float64\n",
      " 59  GarageFinish   1399 non-null   object \n",
      " 60  GarageCars     1399 non-null   int64  \n",
      " 61  GarageArea     1399 non-null   int64  \n",
      " 62  GarageQual     1399 non-null   object \n",
      " 63  GarageCond     1399 non-null   object \n",
      " 64  PavedDrive     1399 non-null   object \n",
      " 65  WoodDeckSF     1399 non-null   int64  \n",
      " 66  OpenPorchSF    1399 non-null   int64  \n",
      " 67  EnclosedPorch  1399 non-null   int64  \n",
      " 68  3SsnPorch      1399 non-null   int64  \n",
      " 69  ScreenPorch    1399 non-null   int64  \n",
      " 70  PoolArea       1399 non-null   int64  \n",
      " 71  PoolQC         1399 non-null   object \n",
      " 72  Fence          1399 non-null   object \n",
      " 73  MiscFeature    1399 non-null   object \n",
      " 74  MiscVal        1399 non-null   int64  \n",
      " 75  MoSold         1399 non-null   int64  \n",
      " 76  YrSold         1399 non-null   int64  \n",
      " 77  SaleType       1399 non-null   object \n",
      " 78  SaleCondition  1399 non-null   object \n",
      " 79  SalePrice      1399 non-null   int64  \n",
      "dtypes: float64(3), int64(34), object(43)\n",
      "memory usage: 885.3+ KB\n"
     ]
    }
   ],
   "source": [
    "df_train.info()"
   ]
  },
  {
   "cell_type": "markdown",
   "id": "9d2f1997",
   "metadata": {},
   "source": [
    "## Fill Empty/NA values"
   ]
  },
  {
   "cell_type": "code",
   "execution_count": 14,
   "id": "5f205d9a",
   "metadata": {},
   "outputs": [],
   "source": [
    "df_train['LotFrontage'].fillna(df_train['LotFrontage'].mean(),inplace=True)"
   ]
  },
  {
   "cell_type": "code",
   "execution_count": 15,
   "id": "2f8dd123",
   "metadata": {},
   "outputs": [
    {
     "data": {
      "text/plain": [
       "'None'"
      ]
     },
     "execution_count": 15,
     "metadata": {},
     "output_type": "execute_result"
    }
   ],
   "source": [
    "df_train['MasVnrType'].mode()[0]"
   ]
  },
  {
   "cell_type": "code",
   "execution_count": 16,
   "id": "6afd61cd",
   "metadata": {},
   "outputs": [],
   "source": [
    "df_train['MasVnrType'].fillna(df_train['MasVnrType'].mode(),inplace=True)"
   ]
  },
  {
   "cell_type": "code",
   "execution_count": 17,
   "id": "1bc2d592",
   "metadata": {},
   "outputs": [],
   "source": [
    "df_train['MasVnrArea'].fillna(df_train['MasVnrArea'].mean(),inplace=True)"
   ]
  },
  {
   "cell_type": "code",
   "execution_count": 18,
   "id": "fac45ff8",
   "metadata": {},
   "outputs": [
    {
     "data": {
      "text/plain": [
       "'SBrkr'"
      ]
     },
     "execution_count": 18,
     "metadata": {},
     "output_type": "execute_result"
    }
   ],
   "source": [
    "df_train['Electrical'].mode()[0]"
   ]
  },
  {
   "cell_type": "code",
   "execution_count": 19,
   "id": "b16329b1",
   "metadata": {},
   "outputs": [],
   "source": [
    "df_train['Electrical'].fillna(df_train['Electrical'].mode()[0],inplace=True)"
   ]
  },
  {
   "cell_type": "code",
   "execution_count": 20,
   "id": "3a1ac03e",
   "metadata": {},
   "outputs": [
    {
     "data": {
      "text/plain": [
       "0    2005.0\n",
       "dtype: float64"
      ]
     },
     "execution_count": 20,
     "metadata": {},
     "output_type": "execute_result"
    }
   ],
   "source": [
    "df_train['GarageYrBlt'].mode()"
   ]
  },
  {
   "cell_type": "code",
   "execution_count": 21,
   "id": "072939e8",
   "metadata": {},
   "outputs": [
    {
     "data": {
      "text/plain": [
       "2005.0    60\n",
       "2004.0    51\n",
       "2006.0    49\n",
       "2003.0    45\n",
       "2007.0    44\n",
       "          ..\n",
       "1900.0     1\n",
       "1934.0     1\n",
       "1908.0     1\n",
       "1906.0     1\n",
       "1927.0     1\n",
       "Name: GarageYrBlt, Length: 97, dtype: int64"
      ]
     },
     "execution_count": 21,
     "metadata": {},
     "output_type": "execute_result"
    }
   ],
   "source": [
    "df_train['GarageYrBlt'].value_counts()"
   ]
  },
  {
   "cell_type": "code",
   "execution_count": 22,
   "id": "dfc76c71",
   "metadata": {},
   "outputs": [
    {
     "data": {
      "text/plain": [
       "1978.0"
      ]
     },
     "execution_count": 22,
     "metadata": {},
     "output_type": "execute_result"
    }
   ],
   "source": [
    "df_train['GarageYrBlt'].median()"
   ]
  },
  {
   "cell_type": "code",
   "execution_count": 23,
   "id": "2f018dde",
   "metadata": {},
   "outputs": [],
   "source": [
    "df_train['GarageYrBlt'].fillna(df_train['GarageYrBlt'].median(),inplace=True)"
   ]
  },
  {
   "cell_type": "markdown",
   "id": "1f3aa351",
   "metadata": {},
   "source": [
    "#### Data preprosessing"
   ]
  },
  {
   "cell_type": "code",
   "execution_count": 24,
   "id": "b90d80c8",
   "metadata": {},
   "outputs": [
    {
     "data": {
      "text/plain": [
       "RL         1093\n",
       "RM          216\n",
       "FV           64\n",
       "RH           16\n",
       "C (all)      10\n",
       "Name: MSZoning, dtype: int64"
      ]
     },
     "execution_count": 24,
     "metadata": {},
     "output_type": "execute_result"
    }
   ],
   "source": [
    "df_train['MSZoning'].value_counts()"
   ]
  },
  {
   "cell_type": "code",
   "execution_count": 25,
   "id": "d2068402",
   "metadata": {},
   "outputs": [],
   "source": [
    "zoning=df_train['MSZoning'].value_counts().iloc[:3].index #selecting first 3 rows of high values"
   ]
  },
  {
   "cell_type": "code",
   "execution_count": 26,
   "id": "c62f673c",
   "metadata": {},
   "outputs": [
    {
     "data": {
      "text/plain": [
       "0       RL\n",
       "1       RL\n",
       "2       RL\n",
       "3       RL\n",
       "4       RL\n",
       "        ..\n",
       "1455    RL\n",
       "1456    RL\n",
       "1457    RL\n",
       "1458    RL\n",
       "1459    RL\n",
       "Name: MSZoning, Length: 1399, dtype: object"
      ]
     },
     "execution_count": 26,
     "metadata": {},
     "output_type": "execute_result"
    }
   ],
   "source": [
    "df_train['MSZoning'].apply(lambda z:z if z in zoning else 'MSZoning_Other')"
   ]
  },
  {
   "cell_type": "code",
   "execution_count": 27,
   "id": "56b9dead",
   "metadata": {},
   "outputs": [],
   "source": [
    "df_train['MSZoning']=df_train['MSZoning'].apply(lambda z:z if z in zoning else 'MSZoning_Other')"
   ]
  },
  {
   "cell_type": "code",
   "execution_count": 28,
   "id": "99110774",
   "metadata": {},
   "outputs": [
    {
     "data": {
      "text/plain": [
       "RL                1093\n",
       "RM                 216\n",
       "FV                  64\n",
       "MSZoning_Other      26\n",
       "Name: MSZoning, dtype: int64"
      ]
     },
     "execution_count": 28,
     "metadata": {},
     "output_type": "execute_result"
    }
   ],
   "source": [
    "df_train['MSZoning'].value_counts()"
   ]
  },
  {
   "cell_type": "markdown",
   "id": "758e94a0",
   "metadata": {},
   "source": [
    "### Feature_Encoding MSZoning"
   ]
  },
  {
   "cell_type": "code",
   "execution_count": 29,
   "id": "4d8ed7f3",
   "metadata": {},
   "outputs": [],
   "source": [
    "from sklearn.preprocessing import OneHotEncoder"
   ]
  },
  {
   "cell_type": "code",
   "execution_count": 30,
   "id": "ccb2799a",
   "metadata": {
    "scrolled": false
   },
   "outputs": [
    {
     "data": {
      "text/plain": [
       "array([[0., 0., 1., 0.],\n",
       "       [0., 0., 1., 0.],\n",
       "       [0., 0., 1., 0.],\n",
       "       ...,\n",
       "       [0., 0., 1., 0.],\n",
       "       [0., 0., 1., 0.],\n",
       "       [0., 0., 1., 0.]])"
      ]
     },
     "execution_count": 30,
     "metadata": {},
     "output_type": "execute_result"
    }
   ],
   "source": [
    "Ohe=OneHotEncoder(sparse=False)\n",
    "Ohe.fit_transform(df_train[['MSZoning']])"
   ]
  },
  {
   "cell_type": "code",
   "execution_count": 31,
   "id": "c2d64352",
   "metadata": {},
   "outputs": [],
   "source": [
    "MSZoning_enc=Ohe.fit_transform(df_train[['MSZoning']])"
   ]
  },
  {
   "cell_type": "code",
   "execution_count": 32,
   "id": "2b8e3b84",
   "metadata": {},
   "outputs": [
    {
     "data": {
      "text/plain": [
       "[array(['FV', 'MSZoning_Other', 'RL', 'RM'], dtype=object)]"
      ]
     },
     "execution_count": 32,
     "metadata": {},
     "output_type": "execute_result"
    }
   ],
   "source": [
    "Ohe.categories_"
   ]
  },
  {
   "cell_type": "code",
   "execution_count": 33,
   "id": "aaded955",
   "metadata": {},
   "outputs": [],
   "source": [
    "MSZoning_enc_df=pd.DataFrame(data=MSZoning_enc,columns=Ohe.categories_[0],dtype=int)"
   ]
  },
  {
   "cell_type": "code",
   "execution_count": 34,
   "id": "f702cd67",
   "metadata": {},
   "outputs": [
    {
     "data": {
      "text/html": [
       "<div>\n",
       "<style scoped>\n",
       "    .dataframe tbody tr th:only-of-type {\n",
       "        vertical-align: middle;\n",
       "    }\n",
       "\n",
       "    .dataframe tbody tr th {\n",
       "        vertical-align: top;\n",
       "    }\n",
       "\n",
       "    .dataframe thead th {\n",
       "        text-align: right;\n",
       "    }\n",
       "</style>\n",
       "<table border=\"1\" class=\"dataframe\">\n",
       "  <thead>\n",
       "    <tr style=\"text-align: right;\">\n",
       "      <th></th>\n",
       "      <th>FV</th>\n",
       "      <th>MSZoning_Other</th>\n",
       "      <th>RL</th>\n",
       "      <th>RM</th>\n",
       "    </tr>\n",
       "  </thead>\n",
       "  <tbody>\n",
       "    <tr>\n",
       "      <th>0</th>\n",
       "      <td>0</td>\n",
       "      <td>0</td>\n",
       "      <td>1</td>\n",
       "      <td>0</td>\n",
       "    </tr>\n",
       "    <tr>\n",
       "      <th>1</th>\n",
       "      <td>0</td>\n",
       "      <td>0</td>\n",
       "      <td>1</td>\n",
       "      <td>0</td>\n",
       "    </tr>\n",
       "    <tr>\n",
       "      <th>2</th>\n",
       "      <td>0</td>\n",
       "      <td>0</td>\n",
       "      <td>1</td>\n",
       "      <td>0</td>\n",
       "    </tr>\n",
       "    <tr>\n",
       "      <th>3</th>\n",
       "      <td>0</td>\n",
       "      <td>0</td>\n",
       "      <td>1</td>\n",
       "      <td>0</td>\n",
       "    </tr>\n",
       "    <tr>\n",
       "      <th>4</th>\n",
       "      <td>0</td>\n",
       "      <td>0</td>\n",
       "      <td>1</td>\n",
       "      <td>0</td>\n",
       "    </tr>\n",
       "  </tbody>\n",
       "</table>\n",
       "</div>"
      ],
      "text/plain": [
       "   FV  MSZoning_Other  RL  RM\n",
       "0   0               0   1   0\n",
       "1   0               0   1   0\n",
       "2   0               0   1   0\n",
       "3   0               0   1   0\n",
       "4   0               0   1   0"
      ]
     },
     "execution_count": 34,
     "metadata": {},
     "output_type": "execute_result"
    }
   ],
   "source": [
    "MSZoning_enc_df.head()"
   ]
  },
  {
   "cell_type": "markdown",
   "id": "87da7eea",
   "metadata": {},
   "source": [
    "### feature encoding of street"
   ]
  },
  {
   "cell_type": "code",
   "execution_count": 35,
   "id": "97fa34f4",
   "metadata": {},
   "outputs": [
    {
     "data": {
      "text/plain": [
       "Pave    1393\n",
       "Grvl       6\n",
       "Name: Street, dtype: int64"
      ]
     },
     "execution_count": 35,
     "metadata": {},
     "output_type": "execute_result"
    }
   ],
   "source": [
    "df_train['Street'].value_counts()"
   ]
  },
  {
   "cell_type": "code",
   "execution_count": 36,
   "id": "869eac45",
   "metadata": {},
   "outputs": [],
   "source": [
    "Ohe1=OneHotEncoder(sparse=False)\n",
    "Street_enc=Ohe1.fit_transform(df_train[['Street']])"
   ]
  },
  {
   "cell_type": "code",
   "execution_count": 37,
   "id": "eff61381",
   "metadata": {},
   "outputs": [
    {
     "data": {
      "text/html": [
       "<div>\n",
       "<style scoped>\n",
       "    .dataframe tbody tr th:only-of-type {\n",
       "        vertical-align: middle;\n",
       "    }\n",
       "\n",
       "    .dataframe tbody tr th {\n",
       "        vertical-align: top;\n",
       "    }\n",
       "\n",
       "    .dataframe thead th {\n",
       "        text-align: right;\n",
       "    }\n",
       "</style>\n",
       "<table border=\"1\" class=\"dataframe\">\n",
       "  <thead>\n",
       "    <tr style=\"text-align: right;\">\n",
       "      <th></th>\n",
       "      <th>Grvl</th>\n",
       "      <th>Pave</th>\n",
       "    </tr>\n",
       "  </thead>\n",
       "  <tbody>\n",
       "    <tr>\n",
       "      <th>0</th>\n",
       "      <td>0</td>\n",
       "      <td>1</td>\n",
       "    </tr>\n",
       "    <tr>\n",
       "      <th>1</th>\n",
       "      <td>0</td>\n",
       "      <td>1</td>\n",
       "    </tr>\n",
       "    <tr>\n",
       "      <th>2</th>\n",
       "      <td>0</td>\n",
       "      <td>1</td>\n",
       "    </tr>\n",
       "    <tr>\n",
       "      <th>3</th>\n",
       "      <td>0</td>\n",
       "      <td>1</td>\n",
       "    </tr>\n",
       "    <tr>\n",
       "      <th>4</th>\n",
       "      <td>0</td>\n",
       "      <td>1</td>\n",
       "    </tr>\n",
       "  </tbody>\n",
       "</table>\n",
       "</div>"
      ],
      "text/plain": [
       "   Grvl  Pave\n",
       "0     0     1\n",
       "1     0     1\n",
       "2     0     1\n",
       "3     0     1\n",
       "4     0     1"
      ]
     },
     "execution_count": 37,
     "metadata": {},
     "output_type": "execute_result"
    }
   ],
   "source": [
    "Street_enc_df=pd.DataFrame(data=Street_enc,columns=Ohe1.categories_[0],dtype=int)\n",
    "Street_enc_df.head()"
   ]
  },
  {
   "cell_type": "markdown",
   "id": "99e8a959",
   "metadata": {},
   "source": [
    "### feature encoding of alley"
   ]
  },
  {
   "cell_type": "code",
   "execution_count": 38,
   "id": "2d19b94d",
   "metadata": {},
   "outputs": [
    {
     "data": {
      "text/plain": [
       "NA      1308\n",
       "Grvl      50\n",
       "Pave      41\n",
       "Name: Alley, dtype: int64"
      ]
     },
     "execution_count": 38,
     "metadata": {},
     "output_type": "execute_result"
    }
   ],
   "source": [
    "df_train['Alley'].value_counts()"
   ]
  },
  {
   "cell_type": "code",
   "execution_count": 39,
   "id": "f22882ae",
   "metadata": {},
   "outputs": [],
   "source": [
    "Ohe2=OneHotEncoder(sparse=False)\n",
    "Alley_enc=Ohe2.fit_transform(df_train[['Alley']])"
   ]
  },
  {
   "cell_type": "code",
   "execution_count": 40,
   "id": "d9a5cbdf",
   "metadata": {},
   "outputs": [
    {
     "data": {
      "text/html": [
       "<div>\n",
       "<style scoped>\n",
       "    .dataframe tbody tr th:only-of-type {\n",
       "        vertical-align: middle;\n",
       "    }\n",
       "\n",
       "    .dataframe tbody tr th {\n",
       "        vertical-align: top;\n",
       "    }\n",
       "\n",
       "    .dataframe thead th {\n",
       "        text-align: right;\n",
       "    }\n",
       "</style>\n",
       "<table border=\"1\" class=\"dataframe\">\n",
       "  <thead>\n",
       "    <tr style=\"text-align: right;\">\n",
       "      <th></th>\n",
       "      <th>Grvl</th>\n",
       "      <th>NA</th>\n",
       "      <th>Pave</th>\n",
       "    </tr>\n",
       "  </thead>\n",
       "  <tbody>\n",
       "    <tr>\n",
       "      <th>0</th>\n",
       "      <td>0</td>\n",
       "      <td>1</td>\n",
       "      <td>0</td>\n",
       "    </tr>\n",
       "    <tr>\n",
       "      <th>1</th>\n",
       "      <td>0</td>\n",
       "      <td>1</td>\n",
       "      <td>0</td>\n",
       "    </tr>\n",
       "    <tr>\n",
       "      <th>2</th>\n",
       "      <td>0</td>\n",
       "      <td>1</td>\n",
       "      <td>0</td>\n",
       "    </tr>\n",
       "    <tr>\n",
       "      <th>3</th>\n",
       "      <td>0</td>\n",
       "      <td>1</td>\n",
       "      <td>0</td>\n",
       "    </tr>\n",
       "    <tr>\n",
       "      <th>4</th>\n",
       "      <td>0</td>\n",
       "      <td>1</td>\n",
       "      <td>0</td>\n",
       "    </tr>\n",
       "  </tbody>\n",
       "</table>\n",
       "</div>"
      ],
      "text/plain": [
       "   Grvl  NA  Pave\n",
       "0     0   1     0\n",
       "1     0   1     0\n",
       "2     0   1     0\n",
       "3     0   1     0\n",
       "4     0   1     0"
      ]
     },
     "execution_count": 40,
     "metadata": {},
     "output_type": "execute_result"
    }
   ],
   "source": [
    "Alley_enc_df=pd.DataFrame(data=Alley_enc,columns=Ohe2.categories_[0],dtype=int)\n",
    "Alley_enc_df.head()"
   ]
  },
  {
   "cell_type": "markdown",
   "id": "ff9d4ac0",
   "metadata": {},
   "source": [
    "### feature encoding of Lotshape , LandCounter and Utilities "
   ]
  },
  {
   "cell_type": "code",
   "execution_count": 41,
   "id": "ead19514",
   "metadata": {},
   "outputs": [
    {
     "data": {
      "text/plain": [
       "Reg    898\n",
       "IR1    457\n",
       "IR2     35\n",
       "IR3      9\n",
       "Name: LotShape, dtype: int64"
      ]
     },
     "execution_count": 41,
     "metadata": {},
     "output_type": "execute_result"
    }
   ],
   "source": [
    "df_train['LotShape'].value_counts()"
   ]
  },
  {
   "cell_type": "code",
   "execution_count": 42,
   "id": "fa2215e0",
   "metadata": {},
   "outputs": [
    {
     "data": {
      "text/plain": [
       "Lvl    1261\n",
       "Bnk      63\n",
       "HLS      41\n",
       "Low      34\n",
       "Name: LandContour, dtype: int64"
      ]
     },
     "execution_count": 42,
     "metadata": {},
     "output_type": "execute_result"
    }
   ],
   "source": [
    "df_train['LandContour'].value_counts()"
   ]
  },
  {
   "cell_type": "code",
   "execution_count": 43,
   "id": "b89c533c",
   "metadata": {},
   "outputs": [
    {
     "data": {
      "text/plain": [
       "AllPub    1398\n",
       "NoSeWa       1\n",
       "Name: Utilities, dtype: int64"
      ]
     },
     "execution_count": 43,
     "metadata": {},
     "output_type": "execute_result"
    }
   ],
   "source": [
    "df_train['Utilities'].value_counts()"
   ]
  },
  {
   "cell_type": "code",
   "execution_count": 44,
   "id": "94da76e3",
   "metadata": {},
   "outputs": [],
   "source": [
    "Ohe3=OneHotEncoder(sparse=False)\n",
    "multiple_enc=Ohe3.fit_transform(df_train[['LotShape','LandContour','Utilities']])"
   ]
  },
  {
   "cell_type": "code",
   "execution_count": 45,
   "id": "523b299d",
   "metadata": {},
   "outputs": [
    {
     "data": {
      "text/plain": [
       "[array(['IR1', 'IR2', 'IR3', 'Reg'], dtype=object),\n",
       " array(['Bnk', 'HLS', 'Low', 'Lvl'], dtype=object),\n",
       " array(['AllPub', 'NoSeWa'], dtype=object)]"
      ]
     },
     "execution_count": 45,
     "metadata": {},
     "output_type": "execute_result"
    }
   ],
   "source": [
    "Ohe3.categories_"
   ]
  },
  {
   "cell_type": "code",
   "execution_count": 46,
   "id": "2711cb82",
   "metadata": {},
   "outputs": [],
   "source": [
    "LotLandUti_enc_df=pd.DataFrame(data=multiple_enc,dtype=int)"
   ]
  },
  {
   "cell_type": "code",
   "execution_count": 47,
   "id": "9653de7e",
   "metadata": {},
   "outputs": [
    {
     "data": {
      "text/html": [
       "<div>\n",
       "<style scoped>\n",
       "    .dataframe tbody tr th:only-of-type {\n",
       "        vertical-align: middle;\n",
       "    }\n",
       "\n",
       "    .dataframe tbody tr th {\n",
       "        vertical-align: top;\n",
       "    }\n",
       "\n",
       "    .dataframe thead th {\n",
       "        text-align: right;\n",
       "    }\n",
       "</style>\n",
       "<table border=\"1\" class=\"dataframe\">\n",
       "  <thead>\n",
       "    <tr style=\"text-align: right;\">\n",
       "      <th></th>\n",
       "      <th>0</th>\n",
       "      <th>1</th>\n",
       "      <th>2</th>\n",
       "      <th>3</th>\n",
       "      <th>4</th>\n",
       "      <th>5</th>\n",
       "      <th>6</th>\n",
       "      <th>7</th>\n",
       "      <th>8</th>\n",
       "      <th>9</th>\n",
       "    </tr>\n",
       "  </thead>\n",
       "  <tbody>\n",
       "    <tr>\n",
       "      <th>0</th>\n",
       "      <td>0</td>\n",
       "      <td>0</td>\n",
       "      <td>0</td>\n",
       "      <td>1</td>\n",
       "      <td>0</td>\n",
       "      <td>0</td>\n",
       "      <td>0</td>\n",
       "      <td>1</td>\n",
       "      <td>1</td>\n",
       "      <td>0</td>\n",
       "    </tr>\n",
       "    <tr>\n",
       "      <th>1</th>\n",
       "      <td>0</td>\n",
       "      <td>0</td>\n",
       "      <td>0</td>\n",
       "      <td>1</td>\n",
       "      <td>0</td>\n",
       "      <td>0</td>\n",
       "      <td>0</td>\n",
       "      <td>1</td>\n",
       "      <td>1</td>\n",
       "      <td>0</td>\n",
       "    </tr>\n",
       "    <tr>\n",
       "      <th>2</th>\n",
       "      <td>1</td>\n",
       "      <td>0</td>\n",
       "      <td>0</td>\n",
       "      <td>0</td>\n",
       "      <td>0</td>\n",
       "      <td>0</td>\n",
       "      <td>0</td>\n",
       "      <td>1</td>\n",
       "      <td>1</td>\n",
       "      <td>0</td>\n",
       "    </tr>\n",
       "    <tr>\n",
       "      <th>3</th>\n",
       "      <td>1</td>\n",
       "      <td>0</td>\n",
       "      <td>0</td>\n",
       "      <td>0</td>\n",
       "      <td>0</td>\n",
       "      <td>0</td>\n",
       "      <td>0</td>\n",
       "      <td>1</td>\n",
       "      <td>1</td>\n",
       "      <td>0</td>\n",
       "    </tr>\n",
       "    <tr>\n",
       "      <th>4</th>\n",
       "      <td>1</td>\n",
       "      <td>0</td>\n",
       "      <td>0</td>\n",
       "      <td>0</td>\n",
       "      <td>0</td>\n",
       "      <td>0</td>\n",
       "      <td>0</td>\n",
       "      <td>1</td>\n",
       "      <td>1</td>\n",
       "      <td>0</td>\n",
       "    </tr>\n",
       "  </tbody>\n",
       "</table>\n",
       "</div>"
      ],
      "text/plain": [
       "   0  1  2  3  4  5  6  7  8  9\n",
       "0  0  0  0  1  0  0  0  1  1  0\n",
       "1  0  0  0  1  0  0  0  1  1  0\n",
       "2  1  0  0  0  0  0  0  1  1  0\n",
       "3  1  0  0  0  0  0  0  1  1  0\n",
       "4  1  0  0  0  0  0  0  1  1  0"
      ]
     },
     "execution_count": 47,
     "metadata": {},
     "output_type": "execute_result"
    }
   ],
   "source": [
    "LotLandUti_enc_df.head()"
   ]
  },
  {
   "cell_type": "code",
   "execution_count": 48,
   "id": "44c7d200",
   "metadata": {},
   "outputs": [],
   "source": [
    "LotLandUti_enc_df.rename(columns={0:'IR1', 1:'IR2', 2:'IR3', 3:'Reg',4:'Bnk', 5:'HLS', 6:'Low', 7:'Lvl',8:'AllPub', 9:'NoSeWa'},inplace=True)"
   ]
  },
  {
   "cell_type": "code",
   "execution_count": 49,
   "id": "d746f819",
   "metadata": {},
   "outputs": [
    {
     "data": {
      "text/html": [
       "<div>\n",
       "<style scoped>\n",
       "    .dataframe tbody tr th:only-of-type {\n",
       "        vertical-align: middle;\n",
       "    }\n",
       "\n",
       "    .dataframe tbody tr th {\n",
       "        vertical-align: top;\n",
       "    }\n",
       "\n",
       "    .dataframe thead th {\n",
       "        text-align: right;\n",
       "    }\n",
       "</style>\n",
       "<table border=\"1\" class=\"dataframe\">\n",
       "  <thead>\n",
       "    <tr style=\"text-align: right;\">\n",
       "      <th></th>\n",
       "      <th>IR1</th>\n",
       "      <th>IR2</th>\n",
       "      <th>IR3</th>\n",
       "      <th>Reg</th>\n",
       "      <th>Bnk</th>\n",
       "      <th>HLS</th>\n",
       "      <th>Low</th>\n",
       "      <th>Lvl</th>\n",
       "      <th>AllPub</th>\n",
       "      <th>NoSeWa</th>\n",
       "    </tr>\n",
       "  </thead>\n",
       "  <tbody>\n",
       "    <tr>\n",
       "      <th>0</th>\n",
       "      <td>0</td>\n",
       "      <td>0</td>\n",
       "      <td>0</td>\n",
       "      <td>1</td>\n",
       "      <td>0</td>\n",
       "      <td>0</td>\n",
       "      <td>0</td>\n",
       "      <td>1</td>\n",
       "      <td>1</td>\n",
       "      <td>0</td>\n",
       "    </tr>\n",
       "    <tr>\n",
       "      <th>1</th>\n",
       "      <td>0</td>\n",
       "      <td>0</td>\n",
       "      <td>0</td>\n",
       "      <td>1</td>\n",
       "      <td>0</td>\n",
       "      <td>0</td>\n",
       "      <td>0</td>\n",
       "      <td>1</td>\n",
       "      <td>1</td>\n",
       "      <td>0</td>\n",
       "    </tr>\n",
       "    <tr>\n",
       "      <th>2</th>\n",
       "      <td>1</td>\n",
       "      <td>0</td>\n",
       "      <td>0</td>\n",
       "      <td>0</td>\n",
       "      <td>0</td>\n",
       "      <td>0</td>\n",
       "      <td>0</td>\n",
       "      <td>1</td>\n",
       "      <td>1</td>\n",
       "      <td>0</td>\n",
       "    </tr>\n",
       "    <tr>\n",
       "      <th>3</th>\n",
       "      <td>1</td>\n",
       "      <td>0</td>\n",
       "      <td>0</td>\n",
       "      <td>0</td>\n",
       "      <td>0</td>\n",
       "      <td>0</td>\n",
       "      <td>0</td>\n",
       "      <td>1</td>\n",
       "      <td>1</td>\n",
       "      <td>0</td>\n",
       "    </tr>\n",
       "    <tr>\n",
       "      <th>4</th>\n",
       "      <td>1</td>\n",
       "      <td>0</td>\n",
       "      <td>0</td>\n",
       "      <td>0</td>\n",
       "      <td>0</td>\n",
       "      <td>0</td>\n",
       "      <td>0</td>\n",
       "      <td>1</td>\n",
       "      <td>1</td>\n",
       "      <td>0</td>\n",
       "    </tr>\n",
       "  </tbody>\n",
       "</table>\n",
       "</div>"
      ],
      "text/plain": [
       "   IR1  IR2  IR3  Reg  Bnk  HLS  Low  Lvl  AllPub  NoSeWa\n",
       "0    0    0    0    1    0    0    0    1       1       0\n",
       "1    0    0    0    1    0    0    0    1       1       0\n",
       "2    1    0    0    0    0    0    0    1       1       0\n",
       "3    1    0    0    0    0    0    0    1       1       0\n",
       "4    1    0    0    0    0    0    0    1       1       0"
      ]
     },
     "execution_count": 49,
     "metadata": {},
     "output_type": "execute_result"
    }
   ],
   "source": [
    "LotLandUti_enc_df.head()"
   ]
  },
  {
   "cell_type": "markdown",
   "id": "abd5675f",
   "metadata": {},
   "source": [
    "### Feature encoding LotConfig, Landslope,cond1,cond2"
   ]
  },
  {
   "cell_type": "code",
   "execution_count": 50,
   "id": "0324ad1b",
   "metadata": {},
   "outputs": [
    {
     "data": {
      "text/plain": [
       "Inside     1008\n",
       "Corner      255\n",
       "CulDSac      86\n",
       "FR2          46\n",
       "FR3           4\n",
       "Name: LotConfig, dtype: int64"
      ]
     },
     "execution_count": 50,
     "metadata": {},
     "output_type": "execute_result"
    }
   ],
   "source": [
    "df_train['LotConfig'].value_counts()"
   ]
  },
  {
   "cell_type": "code",
   "execution_count": 51,
   "id": "b254adbb",
   "metadata": {},
   "outputs": [],
   "source": [
    "lotconfig=df_train['LotConfig'].value_counts().iloc[:2].index"
   ]
  },
  {
   "cell_type": "code",
   "execution_count": 52,
   "id": "e0ec02b6",
   "metadata": {},
   "outputs": [],
   "source": [
    "df_train['LotConfig']=df_train['LotConfig'].apply(lambda l:l if l in lotconfig else 'LotConfig_Other')"
   ]
  },
  {
   "cell_type": "code",
   "execution_count": 53,
   "id": "56bfa493",
   "metadata": {},
   "outputs": [
    {
     "data": {
      "text/plain": [
       "Inside             1008\n",
       "Corner              255\n",
       "LotConfig_Other     136\n",
       "Name: LotConfig, dtype: int64"
      ]
     },
     "execution_count": 53,
     "metadata": {},
     "output_type": "execute_result"
    }
   ],
   "source": [
    "df_train['LotConfig'].value_counts()"
   ]
  },
  {
   "cell_type": "code",
   "execution_count": 54,
   "id": "c3b3a377",
   "metadata": {},
   "outputs": [
    {
     "data": {
      "text/plain": [
       "Gtl    1326\n",
       "Mod      61\n",
       "Sev      12\n",
       "Name: LandSlope, dtype: int64"
      ]
     },
     "execution_count": 54,
     "metadata": {},
     "output_type": "execute_result"
    }
   ],
   "source": [
    "df_train['LandSlope'].value_counts()"
   ]
  },
  {
   "cell_type": "code",
   "execution_count": 55,
   "id": "0a6931f7",
   "metadata": {},
   "outputs": [
    {
     "data": {
      "text/plain": [
       "Norm      1202\n",
       "Feedr       81\n",
       "Artery      47\n",
       "RRAn        25\n",
       "PosN        18\n",
       "RRAe        11\n",
       "PosA         8\n",
       "RRNn         5\n",
       "RRNe         2\n",
       "Name: Condition1, dtype: int64"
      ]
     },
     "execution_count": 55,
     "metadata": {},
     "output_type": "execute_result"
    }
   ],
   "source": [
    "df_train['Condition1'].value_counts()"
   ]
  },
  {
   "cell_type": "code",
   "execution_count": 56,
   "id": "769ef623",
   "metadata": {},
   "outputs": [],
   "source": [
    "cond1=df_train['Condition1'].value_counts().iloc[:3].index"
   ]
  },
  {
   "cell_type": "code",
   "execution_count": 57,
   "id": "aae52ff2",
   "metadata": {},
   "outputs": [],
   "source": [
    "df_train['Condition1']=df_train['Condition1'].apply(lambda c:c if c in cond1 else 'Cond1_Other')"
   ]
  },
  {
   "cell_type": "code",
   "execution_count": 58,
   "id": "c950cb75",
   "metadata": {},
   "outputs": [
    {
     "data": {
      "text/plain": [
       "Norm           1202\n",
       "Feedr            81\n",
       "Cond1_Other      69\n",
       "Artery           47\n",
       "Name: Condition1, dtype: int64"
      ]
     },
     "execution_count": 58,
     "metadata": {},
     "output_type": "execute_result"
    }
   ],
   "source": [
    "df_train['Condition1'].value_counts()"
   ]
  },
  {
   "cell_type": "code",
   "execution_count": 59,
   "id": "1fa3b9f3",
   "metadata": {},
   "outputs": [
    {
     "data": {
      "text/plain": [
       "Norm      1385\n",
       "Feedr        6\n",
       "RRNn         2\n",
       "Artery       2\n",
       "PosN         1\n",
       "RRAe         1\n",
       "PosA         1\n",
       "RRAn         1\n",
       "Name: Condition2, dtype: int64"
      ]
     },
     "execution_count": 59,
     "metadata": {},
     "output_type": "execute_result"
    }
   ],
   "source": [
    "df_train['Condition2'].value_counts()"
   ]
  },
  {
   "cell_type": "code",
   "execution_count": 60,
   "id": "5189f026",
   "metadata": {},
   "outputs": [],
   "source": [
    "Cond2=df_train['Condition2'].value_counts().iloc[:1].index"
   ]
  },
  {
   "cell_type": "code",
   "execution_count": 61,
   "id": "9a089112",
   "metadata": {},
   "outputs": [],
   "source": [
    "df_train['Condition2']=df_train['Condition2'].apply(lambda c:c if c in Cond2 else 'Cond2_Other')"
   ]
  },
  {
   "cell_type": "code",
   "execution_count": 62,
   "id": "b730db32",
   "metadata": {},
   "outputs": [
    {
     "data": {
      "text/plain": [
       "Norm           1385\n",
       "Cond2_Other      14\n",
       "Name: Condition2, dtype: int64"
      ]
     },
     "execution_count": 62,
     "metadata": {},
     "output_type": "execute_result"
    }
   ],
   "source": [
    "df_train['Condition2'].value_counts()"
   ]
  },
  {
   "cell_type": "code",
   "execution_count": 63,
   "id": "4f4be68d",
   "metadata": {},
   "outputs": [],
   "source": [
    "Ohe4=OneHotEncoder(sparse=False)\n",
    "multiple_enc2=Ohe4.fit_transform(df_train[['LotConfig', 'LandSlope','Condition1','Condition2']])"
   ]
  },
  {
   "cell_type": "code",
   "execution_count": 64,
   "id": "6e322b6f",
   "metadata": {},
   "outputs": [],
   "source": [
    "LotLandCond12_enc_df=pd.DataFrame(data=multiple_enc2,dtype=int)"
   ]
  },
  {
   "cell_type": "code",
   "execution_count": 65,
   "id": "3dd5d18e",
   "metadata": {},
   "outputs": [
    {
     "data": {
      "text/plain": [
       "[array(['Corner', 'Inside', 'LotConfig_Other'], dtype=object),\n",
       " array(['Gtl', 'Mod', 'Sev'], dtype=object),\n",
       " array(['Artery', 'Cond1_Other', 'Feedr', 'Norm'], dtype=object),\n",
       " array(['Cond2_Other', 'Norm'], dtype=object)]"
      ]
     },
     "execution_count": 65,
     "metadata": {},
     "output_type": "execute_result"
    }
   ],
   "source": [
    "Ohe4.categories_"
   ]
  },
  {
   "cell_type": "code",
   "execution_count": 66,
   "id": "2f2f90b4",
   "metadata": {},
   "outputs": [
    {
     "data": {
      "text/html": [
       "<div>\n",
       "<style scoped>\n",
       "    .dataframe tbody tr th:only-of-type {\n",
       "        vertical-align: middle;\n",
       "    }\n",
       "\n",
       "    .dataframe tbody tr th {\n",
       "        vertical-align: top;\n",
       "    }\n",
       "\n",
       "    .dataframe thead th {\n",
       "        text-align: right;\n",
       "    }\n",
       "</style>\n",
       "<table border=\"1\" class=\"dataframe\">\n",
       "  <thead>\n",
       "    <tr style=\"text-align: right;\">\n",
       "      <th></th>\n",
       "      <th>0</th>\n",
       "      <th>1</th>\n",
       "      <th>2</th>\n",
       "      <th>3</th>\n",
       "      <th>4</th>\n",
       "      <th>5</th>\n",
       "      <th>6</th>\n",
       "      <th>7</th>\n",
       "      <th>8</th>\n",
       "      <th>9</th>\n",
       "      <th>10</th>\n",
       "      <th>11</th>\n",
       "    </tr>\n",
       "  </thead>\n",
       "  <tbody>\n",
       "    <tr>\n",
       "      <th>0</th>\n",
       "      <td>0</td>\n",
       "      <td>1</td>\n",
       "      <td>0</td>\n",
       "      <td>1</td>\n",
       "      <td>0</td>\n",
       "      <td>0</td>\n",
       "      <td>0</td>\n",
       "      <td>0</td>\n",
       "      <td>0</td>\n",
       "      <td>1</td>\n",
       "      <td>0</td>\n",
       "      <td>1</td>\n",
       "    </tr>\n",
       "    <tr>\n",
       "      <th>1</th>\n",
       "      <td>0</td>\n",
       "      <td>0</td>\n",
       "      <td>1</td>\n",
       "      <td>1</td>\n",
       "      <td>0</td>\n",
       "      <td>0</td>\n",
       "      <td>0</td>\n",
       "      <td>0</td>\n",
       "      <td>1</td>\n",
       "      <td>0</td>\n",
       "      <td>0</td>\n",
       "      <td>1</td>\n",
       "    </tr>\n",
       "    <tr>\n",
       "      <th>2</th>\n",
       "      <td>0</td>\n",
       "      <td>1</td>\n",
       "      <td>0</td>\n",
       "      <td>1</td>\n",
       "      <td>0</td>\n",
       "      <td>0</td>\n",
       "      <td>0</td>\n",
       "      <td>0</td>\n",
       "      <td>0</td>\n",
       "      <td>1</td>\n",
       "      <td>0</td>\n",
       "      <td>1</td>\n",
       "    </tr>\n",
       "    <tr>\n",
       "      <th>3</th>\n",
       "      <td>1</td>\n",
       "      <td>0</td>\n",
       "      <td>0</td>\n",
       "      <td>1</td>\n",
       "      <td>0</td>\n",
       "      <td>0</td>\n",
       "      <td>0</td>\n",
       "      <td>0</td>\n",
       "      <td>0</td>\n",
       "      <td>1</td>\n",
       "      <td>0</td>\n",
       "      <td>1</td>\n",
       "    </tr>\n",
       "    <tr>\n",
       "      <th>4</th>\n",
       "      <td>0</td>\n",
       "      <td>0</td>\n",
       "      <td>1</td>\n",
       "      <td>1</td>\n",
       "      <td>0</td>\n",
       "      <td>0</td>\n",
       "      <td>0</td>\n",
       "      <td>0</td>\n",
       "      <td>0</td>\n",
       "      <td>1</td>\n",
       "      <td>0</td>\n",
       "      <td>1</td>\n",
       "    </tr>\n",
       "  </tbody>\n",
       "</table>\n",
       "</div>"
      ],
      "text/plain": [
       "   0   1   2   3   4   5   6   7   8   9   10  11\n",
       "0   0   1   0   1   0   0   0   0   0   1   0   1\n",
       "1   0   0   1   1   0   0   0   0   1   0   0   1\n",
       "2   0   1   0   1   0   0   0   0   0   1   0   1\n",
       "3   1   0   0   1   0   0   0   0   0   1   0   1\n",
       "4   0   0   1   1   0   0   0   0   0   1   0   1"
      ]
     },
     "execution_count": 66,
     "metadata": {},
     "output_type": "execute_result"
    }
   ],
   "source": [
    "LotLandCond12_enc_df.head()"
   ]
  },
  {
   "cell_type": "code",
   "execution_count": 67,
   "id": "69175604",
   "metadata": {},
   "outputs": [],
   "source": [
    "LotLandCond12_enc_df.rename(columns={0:'Corner', 1:'Inside', 2:'LotConfig_Other',3:'Gtl', 4:'Mod', 5:'Sev',6:'Artery', 7:'Feedr', 8:'Norm', 9:'Cond1_Other',10:'Norm', 11:'Cond2_Other'},inplace=True)"
   ]
  },
  {
   "cell_type": "code",
   "execution_count": 68,
   "id": "56cdd0b9",
   "metadata": {},
   "outputs": [
    {
     "data": {
      "text/html": [
       "<div>\n",
       "<style scoped>\n",
       "    .dataframe tbody tr th:only-of-type {\n",
       "        vertical-align: middle;\n",
       "    }\n",
       "\n",
       "    .dataframe tbody tr th {\n",
       "        vertical-align: top;\n",
       "    }\n",
       "\n",
       "    .dataframe thead th {\n",
       "        text-align: right;\n",
       "    }\n",
       "</style>\n",
       "<table border=\"1\" class=\"dataframe\">\n",
       "  <thead>\n",
       "    <tr style=\"text-align: right;\">\n",
       "      <th></th>\n",
       "      <th>Corner</th>\n",
       "      <th>Inside</th>\n",
       "      <th>LotConfig_Other</th>\n",
       "      <th>Gtl</th>\n",
       "      <th>Mod</th>\n",
       "      <th>Sev</th>\n",
       "      <th>Artery</th>\n",
       "      <th>Feedr</th>\n",
       "      <th>Norm</th>\n",
       "      <th>Cond1_Other</th>\n",
       "      <th>Norm</th>\n",
       "      <th>Cond2_Other</th>\n",
       "    </tr>\n",
       "  </thead>\n",
       "  <tbody>\n",
       "    <tr>\n",
       "      <th>0</th>\n",
       "      <td>0</td>\n",
       "      <td>1</td>\n",
       "      <td>0</td>\n",
       "      <td>1</td>\n",
       "      <td>0</td>\n",
       "      <td>0</td>\n",
       "      <td>0</td>\n",
       "      <td>0</td>\n",
       "      <td>0</td>\n",
       "      <td>1</td>\n",
       "      <td>0</td>\n",
       "      <td>1</td>\n",
       "    </tr>\n",
       "    <tr>\n",
       "      <th>1</th>\n",
       "      <td>0</td>\n",
       "      <td>0</td>\n",
       "      <td>1</td>\n",
       "      <td>1</td>\n",
       "      <td>0</td>\n",
       "      <td>0</td>\n",
       "      <td>0</td>\n",
       "      <td>0</td>\n",
       "      <td>1</td>\n",
       "      <td>0</td>\n",
       "      <td>0</td>\n",
       "      <td>1</td>\n",
       "    </tr>\n",
       "    <tr>\n",
       "      <th>2</th>\n",
       "      <td>0</td>\n",
       "      <td>1</td>\n",
       "      <td>0</td>\n",
       "      <td>1</td>\n",
       "      <td>0</td>\n",
       "      <td>0</td>\n",
       "      <td>0</td>\n",
       "      <td>0</td>\n",
       "      <td>0</td>\n",
       "      <td>1</td>\n",
       "      <td>0</td>\n",
       "      <td>1</td>\n",
       "    </tr>\n",
       "    <tr>\n",
       "      <th>3</th>\n",
       "      <td>1</td>\n",
       "      <td>0</td>\n",
       "      <td>0</td>\n",
       "      <td>1</td>\n",
       "      <td>0</td>\n",
       "      <td>0</td>\n",
       "      <td>0</td>\n",
       "      <td>0</td>\n",
       "      <td>0</td>\n",
       "      <td>1</td>\n",
       "      <td>0</td>\n",
       "      <td>1</td>\n",
       "    </tr>\n",
       "    <tr>\n",
       "      <th>4</th>\n",
       "      <td>0</td>\n",
       "      <td>0</td>\n",
       "      <td>1</td>\n",
       "      <td>1</td>\n",
       "      <td>0</td>\n",
       "      <td>0</td>\n",
       "      <td>0</td>\n",
       "      <td>0</td>\n",
       "      <td>0</td>\n",
       "      <td>1</td>\n",
       "      <td>0</td>\n",
       "      <td>1</td>\n",
       "    </tr>\n",
       "  </tbody>\n",
       "</table>\n",
       "</div>"
      ],
      "text/plain": [
       "   Corner  Inside  LotConfig_Other  Gtl  Mod  Sev  Artery  Feedr  Norm  \\\n",
       "0       0       1                0    1    0    0       0      0     0   \n",
       "1       0       0                1    1    0    0       0      0     1   \n",
       "2       0       1                0    1    0    0       0      0     0   \n",
       "3       1       0                0    1    0    0       0      0     0   \n",
       "4       0       0                1    1    0    0       0      0     0   \n",
       "\n",
       "   Cond1_Other  Norm  Cond2_Other  \n",
       "0            1     0            1  \n",
       "1            0     0            1  \n",
       "2            1     0            1  \n",
       "3            1     0            1  \n",
       "4            1     0            1  "
      ]
     },
     "execution_count": 68,
     "metadata": {},
     "output_type": "execute_result"
    }
   ],
   "source": [
    "LotLandCond12_enc_df.head()"
   ]
  },
  {
   "cell_type": "markdown",
   "id": "236115c8",
   "metadata": {},
   "source": [
    "## Encoding of Neighborhood"
   ]
  },
  {
   "cell_type": "code",
   "execution_count": 69,
   "id": "6d133108",
   "metadata": {},
   "outputs": [
    {
     "data": {
      "text/plain": [
       "NAmes      224\n",
       "CollgCr    148\n",
       "OldTown    112\n",
       "Edwards    100\n",
       "Somerst     84\n",
       "Gilbert     78\n",
       "Sawyer      74\n",
       "NWAmes      73\n",
       "SawyerW     59\n",
       "BrkSide     58\n",
       "NridgHt     50\n",
       "Mitchel     49\n",
       "Crawfor     48\n",
       "IDOTRR      37\n",
       "Timber      35\n",
       "NoRidge     30\n",
       "ClearCr     28\n",
       "SWISU       25\n",
       "Blmngtn     17\n",
       "MeadowV     17\n",
       "BrDale      16\n",
       "StoneBr     16\n",
       "Veenker     10\n",
       "NPkVill      9\n",
       "Blueste      2\n",
       "Name: Neighborhood, dtype: int64"
      ]
     },
     "execution_count": 69,
     "metadata": {},
     "output_type": "execute_result"
    }
   ],
   "source": [
    "df_train['Neighborhood'].value_counts()"
   ]
  },
  {
   "cell_type": "code",
   "execution_count": 70,
   "id": "181204ff",
   "metadata": {},
   "outputs": [],
   "source": [
    "ohe5=OneHotEncoder(sparse=False)\n",
    "Neighborhood_enc=ohe5.fit_transform(df_train[['Neighborhood']])"
   ]
  },
  {
   "cell_type": "code",
   "execution_count": 71,
   "id": "78a0582c",
   "metadata": {},
   "outputs": [],
   "source": [
    "Neighborhood_enc_df=pd.DataFrame(data=Neighborhood_enc,columns=ohe5.categories_[0],dtype=int)"
   ]
  },
  {
   "cell_type": "code",
   "execution_count": 72,
   "id": "3404b7d4",
   "metadata": {},
   "outputs": [
    {
     "data": {
      "text/html": [
       "<div>\n",
       "<style scoped>\n",
       "    .dataframe tbody tr th:only-of-type {\n",
       "        vertical-align: middle;\n",
       "    }\n",
       "\n",
       "    .dataframe tbody tr th {\n",
       "        vertical-align: top;\n",
       "    }\n",
       "\n",
       "    .dataframe thead th {\n",
       "        text-align: right;\n",
       "    }\n",
       "</style>\n",
       "<table border=\"1\" class=\"dataframe\">\n",
       "  <thead>\n",
       "    <tr style=\"text-align: right;\">\n",
       "      <th></th>\n",
       "      <th>Blmngtn</th>\n",
       "      <th>Blueste</th>\n",
       "      <th>BrDale</th>\n",
       "      <th>BrkSide</th>\n",
       "      <th>ClearCr</th>\n",
       "      <th>CollgCr</th>\n",
       "      <th>Crawfor</th>\n",
       "      <th>Edwards</th>\n",
       "      <th>Gilbert</th>\n",
       "      <th>IDOTRR</th>\n",
       "      <th>...</th>\n",
       "      <th>NoRidge</th>\n",
       "      <th>NridgHt</th>\n",
       "      <th>OldTown</th>\n",
       "      <th>SWISU</th>\n",
       "      <th>Sawyer</th>\n",
       "      <th>SawyerW</th>\n",
       "      <th>Somerst</th>\n",
       "      <th>StoneBr</th>\n",
       "      <th>Timber</th>\n",
       "      <th>Veenker</th>\n",
       "    </tr>\n",
       "  </thead>\n",
       "  <tbody>\n",
       "    <tr>\n",
       "      <th>0</th>\n",
       "      <td>0</td>\n",
       "      <td>0</td>\n",
       "      <td>0</td>\n",
       "      <td>0</td>\n",
       "      <td>0</td>\n",
       "      <td>1</td>\n",
       "      <td>0</td>\n",
       "      <td>0</td>\n",
       "      <td>0</td>\n",
       "      <td>0</td>\n",
       "      <td>...</td>\n",
       "      <td>0</td>\n",
       "      <td>0</td>\n",
       "      <td>0</td>\n",
       "      <td>0</td>\n",
       "      <td>0</td>\n",
       "      <td>0</td>\n",
       "      <td>0</td>\n",
       "      <td>0</td>\n",
       "      <td>0</td>\n",
       "      <td>0</td>\n",
       "    </tr>\n",
       "    <tr>\n",
       "      <th>1</th>\n",
       "      <td>0</td>\n",
       "      <td>0</td>\n",
       "      <td>0</td>\n",
       "      <td>0</td>\n",
       "      <td>0</td>\n",
       "      <td>0</td>\n",
       "      <td>0</td>\n",
       "      <td>0</td>\n",
       "      <td>0</td>\n",
       "      <td>0</td>\n",
       "      <td>...</td>\n",
       "      <td>0</td>\n",
       "      <td>0</td>\n",
       "      <td>0</td>\n",
       "      <td>0</td>\n",
       "      <td>0</td>\n",
       "      <td>0</td>\n",
       "      <td>0</td>\n",
       "      <td>0</td>\n",
       "      <td>0</td>\n",
       "      <td>1</td>\n",
       "    </tr>\n",
       "    <tr>\n",
       "      <th>2</th>\n",
       "      <td>0</td>\n",
       "      <td>0</td>\n",
       "      <td>0</td>\n",
       "      <td>0</td>\n",
       "      <td>0</td>\n",
       "      <td>1</td>\n",
       "      <td>0</td>\n",
       "      <td>0</td>\n",
       "      <td>0</td>\n",
       "      <td>0</td>\n",
       "      <td>...</td>\n",
       "      <td>0</td>\n",
       "      <td>0</td>\n",
       "      <td>0</td>\n",
       "      <td>0</td>\n",
       "      <td>0</td>\n",
       "      <td>0</td>\n",
       "      <td>0</td>\n",
       "      <td>0</td>\n",
       "      <td>0</td>\n",
       "      <td>0</td>\n",
       "    </tr>\n",
       "    <tr>\n",
       "      <th>3</th>\n",
       "      <td>0</td>\n",
       "      <td>0</td>\n",
       "      <td>0</td>\n",
       "      <td>0</td>\n",
       "      <td>0</td>\n",
       "      <td>0</td>\n",
       "      <td>1</td>\n",
       "      <td>0</td>\n",
       "      <td>0</td>\n",
       "      <td>0</td>\n",
       "      <td>...</td>\n",
       "      <td>0</td>\n",
       "      <td>0</td>\n",
       "      <td>0</td>\n",
       "      <td>0</td>\n",
       "      <td>0</td>\n",
       "      <td>0</td>\n",
       "      <td>0</td>\n",
       "      <td>0</td>\n",
       "      <td>0</td>\n",
       "      <td>0</td>\n",
       "    </tr>\n",
       "    <tr>\n",
       "      <th>4</th>\n",
       "      <td>0</td>\n",
       "      <td>0</td>\n",
       "      <td>0</td>\n",
       "      <td>0</td>\n",
       "      <td>0</td>\n",
       "      <td>0</td>\n",
       "      <td>0</td>\n",
       "      <td>0</td>\n",
       "      <td>0</td>\n",
       "      <td>0</td>\n",
       "      <td>...</td>\n",
       "      <td>1</td>\n",
       "      <td>0</td>\n",
       "      <td>0</td>\n",
       "      <td>0</td>\n",
       "      <td>0</td>\n",
       "      <td>0</td>\n",
       "      <td>0</td>\n",
       "      <td>0</td>\n",
       "      <td>0</td>\n",
       "      <td>0</td>\n",
       "    </tr>\n",
       "  </tbody>\n",
       "</table>\n",
       "<p>5 rows × 25 columns</p>\n",
       "</div>"
      ],
      "text/plain": [
       "   Blmngtn  Blueste  BrDale  BrkSide  ClearCr  CollgCr  Crawfor  Edwards  \\\n",
       "0        0        0       0        0        0        1        0        0   \n",
       "1        0        0       0        0        0        0        0        0   \n",
       "2        0        0       0        0        0        1        0        0   \n",
       "3        0        0       0        0        0        0        1        0   \n",
       "4        0        0       0        0        0        0        0        0   \n",
       "\n",
       "   Gilbert  IDOTRR  ...  NoRidge  NridgHt  OldTown  SWISU  Sawyer  SawyerW  \\\n",
       "0        0       0  ...        0        0        0      0       0        0   \n",
       "1        0       0  ...        0        0        0      0       0        0   \n",
       "2        0       0  ...        0        0        0      0       0        0   \n",
       "3        0       0  ...        0        0        0      0       0        0   \n",
       "4        0       0  ...        1        0        0      0       0        0   \n",
       "\n",
       "   Somerst  StoneBr  Timber  Veenker  \n",
       "0        0        0       0        0  \n",
       "1        0        0       0        1  \n",
       "2        0        0       0        0  \n",
       "3        0        0       0        0  \n",
       "4        0        0       0        0  \n",
       "\n",
       "[5 rows x 25 columns]"
      ]
     },
     "execution_count": 72,
     "metadata": {},
     "output_type": "execute_result"
    }
   ],
   "source": [
    "Neighborhood_enc_df.head()"
   ]
  },
  {
   "cell_type": "markdown",
   "id": "ab64d8a7",
   "metadata": {},
   "source": [
    "## Encoding of BldgType HouseStyle"
   ]
  },
  {
   "cell_type": "code",
   "execution_count": 73,
   "id": "2d5e7cc0",
   "metadata": {},
   "outputs": [
    {
     "data": {
      "text/plain": [
       "1Fam      1161\n",
       "TwnhsE     112\n",
       "Duplex      52\n",
       "Twnhs       43\n",
       "2fmCon      31\n",
       "Name: BldgType, dtype: int64"
      ]
     },
     "execution_count": 73,
     "metadata": {},
     "output_type": "execute_result"
    }
   ],
   "source": [
    "df_train['BldgType'].value_counts()"
   ]
  },
  {
   "cell_type": "code",
   "execution_count": 74,
   "id": "657ecf08",
   "metadata": {},
   "outputs": [],
   "source": [
    "bldtype=df_train['BldgType'].value_counts().iloc[:2].index"
   ]
  },
  {
   "cell_type": "code",
   "execution_count": 75,
   "id": "5bf506f6",
   "metadata": {},
   "outputs": [],
   "source": [
    "df_train['BldgType']=df_train['BldgType'].apply(lambda b:b if b in bldtype else 'BldgTpe_Other')"
   ]
  },
  {
   "cell_type": "code",
   "execution_count": 76,
   "id": "dfec02bb",
   "metadata": {},
   "outputs": [
    {
     "data": {
      "text/plain": [
       "1Fam             1161\n",
       "BldgTpe_Other     126\n",
       "TwnhsE            112\n",
       "Name: BldgType, dtype: int64"
      ]
     },
     "execution_count": 76,
     "metadata": {},
     "output_type": "execute_result"
    }
   ],
   "source": [
    "df_train['BldgType'].value_counts()"
   ]
  },
  {
   "cell_type": "code",
   "execution_count": 77,
   "id": "4a5ca983",
   "metadata": {},
   "outputs": [
    {
     "data": {
      "text/plain": [
       "1Story    695\n",
       "2Story    419\n",
       "1.5Fin    152\n",
       "SLvl       64\n",
       "SFoyer     37\n",
       "1.5Unf     14\n",
       "2.5Unf     11\n",
       "2.5Fin      7\n",
       "Name: HouseStyle, dtype: int64"
      ]
     },
     "execution_count": 77,
     "metadata": {},
     "output_type": "execute_result"
    }
   ],
   "source": [
    "df_train['HouseStyle'].value_counts()"
   ]
  },
  {
   "cell_type": "code",
   "execution_count": 78,
   "id": "da1e6f1b",
   "metadata": {},
   "outputs": [],
   "source": [
    "housestyle=df_train['HouseStyle'].value_counts().iloc[:3].index"
   ]
  },
  {
   "cell_type": "code",
   "execution_count": 79,
   "id": "5105bce8",
   "metadata": {},
   "outputs": [],
   "source": [
    "df_train['HouseStyle']=df_train['HouseStyle'].apply(lambda h:h if h in housestyle else 'HouseStyle_Other')"
   ]
  },
  {
   "cell_type": "code",
   "execution_count": 80,
   "id": "41e9f705",
   "metadata": {},
   "outputs": [
    {
     "data": {
      "text/plain": [
       "1Story              695\n",
       "2Story              419\n",
       "1.5Fin              152\n",
       "HouseStyle_Other    133\n",
       "Name: HouseStyle, dtype: int64"
      ]
     },
     "execution_count": 80,
     "metadata": {},
     "output_type": "execute_result"
    }
   ],
   "source": [
    "df_train['HouseStyle'].value_counts()"
   ]
  },
  {
   "cell_type": "code",
   "execution_count": 81,
   "id": "4f99790b",
   "metadata": {},
   "outputs": [],
   "source": [
    "ohe6=OneHotEncoder(sparse=False)\n",
    "housestyle_enc=ohe6.fit_transform(df_train[['BldgType','HouseStyle']])"
   ]
  },
  {
   "cell_type": "code",
   "execution_count": 82,
   "id": "4d5916d5",
   "metadata": {},
   "outputs": [],
   "source": [
    "housestyle_enc_df=pd.DataFrame(data=housestyle_enc,dtype=int)"
   ]
  },
  {
   "cell_type": "code",
   "execution_count": 83,
   "id": "89e07795",
   "metadata": {},
   "outputs": [
    {
     "data": {
      "text/html": [
       "<div>\n",
       "<style scoped>\n",
       "    .dataframe tbody tr th:only-of-type {\n",
       "        vertical-align: middle;\n",
       "    }\n",
       "\n",
       "    .dataframe tbody tr th {\n",
       "        vertical-align: top;\n",
       "    }\n",
       "\n",
       "    .dataframe thead th {\n",
       "        text-align: right;\n",
       "    }\n",
       "</style>\n",
       "<table border=\"1\" class=\"dataframe\">\n",
       "  <thead>\n",
       "    <tr style=\"text-align: right;\">\n",
       "      <th></th>\n",
       "      <th>0</th>\n",
       "      <th>1</th>\n",
       "      <th>2</th>\n",
       "      <th>3</th>\n",
       "      <th>4</th>\n",
       "      <th>5</th>\n",
       "      <th>6</th>\n",
       "    </tr>\n",
       "  </thead>\n",
       "  <tbody>\n",
       "    <tr>\n",
       "      <th>0</th>\n",
       "      <td>1</td>\n",
       "      <td>0</td>\n",
       "      <td>0</td>\n",
       "      <td>0</td>\n",
       "      <td>0</td>\n",
       "      <td>1</td>\n",
       "      <td>0</td>\n",
       "    </tr>\n",
       "    <tr>\n",
       "      <th>1</th>\n",
       "      <td>1</td>\n",
       "      <td>0</td>\n",
       "      <td>0</td>\n",
       "      <td>0</td>\n",
       "      <td>1</td>\n",
       "      <td>0</td>\n",
       "      <td>0</td>\n",
       "    </tr>\n",
       "    <tr>\n",
       "      <th>2</th>\n",
       "      <td>1</td>\n",
       "      <td>0</td>\n",
       "      <td>0</td>\n",
       "      <td>0</td>\n",
       "      <td>0</td>\n",
       "      <td>1</td>\n",
       "      <td>0</td>\n",
       "    </tr>\n",
       "    <tr>\n",
       "      <th>3</th>\n",
       "      <td>1</td>\n",
       "      <td>0</td>\n",
       "      <td>0</td>\n",
       "      <td>0</td>\n",
       "      <td>0</td>\n",
       "      <td>1</td>\n",
       "      <td>0</td>\n",
       "    </tr>\n",
       "    <tr>\n",
       "      <th>4</th>\n",
       "      <td>1</td>\n",
       "      <td>0</td>\n",
       "      <td>0</td>\n",
       "      <td>0</td>\n",
       "      <td>0</td>\n",
       "      <td>1</td>\n",
       "      <td>0</td>\n",
       "    </tr>\n",
       "  </tbody>\n",
       "</table>\n",
       "</div>"
      ],
      "text/plain": [
       "   0  1  2  3  4  5  6\n",
       "0  1  0  0  0  0  1  0\n",
       "1  1  0  0  0  1  0  0\n",
       "2  1  0  0  0  0  1  0\n",
       "3  1  0  0  0  0  1  0\n",
       "4  1  0  0  0  0  1  0"
      ]
     },
     "execution_count": 83,
     "metadata": {},
     "output_type": "execute_result"
    }
   ],
   "source": [
    "housestyle_enc_df.head()"
   ]
  },
  {
   "cell_type": "code",
   "execution_count": 84,
   "id": "f7558dbc",
   "metadata": {},
   "outputs": [
    {
     "data": {
      "text/plain": [
       "[array(['1Fam', 'BldgTpe_Other', 'TwnhsE'], dtype=object),\n",
       " array(['1.5Fin', '1Story', '2Story', 'HouseStyle_Other'], dtype=object)]"
      ]
     },
     "execution_count": 84,
     "metadata": {},
     "output_type": "execute_result"
    }
   ],
   "source": [
    "ohe6.categories_"
   ]
  },
  {
   "cell_type": "code",
   "execution_count": 85,
   "id": "f67eb08c",
   "metadata": {},
   "outputs": [],
   "source": [
    "housestyle_enc_df.rename(columns={0:'1Fam', 1:'BldgTpe_Other', 2:'TwnhsE',3:'1.5Fin', 4:'1Story', 5:'2Story', 6:'HouseStyle_Other'},inplace=True)"
   ]
  },
  {
   "cell_type": "code",
   "execution_count": 86,
   "id": "f8d975e9",
   "metadata": {},
   "outputs": [
    {
     "data": {
      "text/html": [
       "<div>\n",
       "<style scoped>\n",
       "    .dataframe tbody tr th:only-of-type {\n",
       "        vertical-align: middle;\n",
       "    }\n",
       "\n",
       "    .dataframe tbody tr th {\n",
       "        vertical-align: top;\n",
       "    }\n",
       "\n",
       "    .dataframe thead th {\n",
       "        text-align: right;\n",
       "    }\n",
       "</style>\n",
       "<table border=\"1\" class=\"dataframe\">\n",
       "  <thead>\n",
       "    <tr style=\"text-align: right;\">\n",
       "      <th></th>\n",
       "      <th>1Fam</th>\n",
       "      <th>BldgTpe_Other</th>\n",
       "      <th>TwnhsE</th>\n",
       "      <th>1.5Fin</th>\n",
       "      <th>1Story</th>\n",
       "      <th>2Story</th>\n",
       "      <th>HouseStyle_Other</th>\n",
       "    </tr>\n",
       "  </thead>\n",
       "  <tbody>\n",
       "    <tr>\n",
       "      <th>0</th>\n",
       "      <td>1</td>\n",
       "      <td>0</td>\n",
       "      <td>0</td>\n",
       "      <td>0</td>\n",
       "      <td>0</td>\n",
       "      <td>1</td>\n",
       "      <td>0</td>\n",
       "    </tr>\n",
       "    <tr>\n",
       "      <th>1</th>\n",
       "      <td>1</td>\n",
       "      <td>0</td>\n",
       "      <td>0</td>\n",
       "      <td>0</td>\n",
       "      <td>1</td>\n",
       "      <td>0</td>\n",
       "      <td>0</td>\n",
       "    </tr>\n",
       "    <tr>\n",
       "      <th>2</th>\n",
       "      <td>1</td>\n",
       "      <td>0</td>\n",
       "      <td>0</td>\n",
       "      <td>0</td>\n",
       "      <td>0</td>\n",
       "      <td>1</td>\n",
       "      <td>0</td>\n",
       "    </tr>\n",
       "    <tr>\n",
       "      <th>3</th>\n",
       "      <td>1</td>\n",
       "      <td>0</td>\n",
       "      <td>0</td>\n",
       "      <td>0</td>\n",
       "      <td>0</td>\n",
       "      <td>1</td>\n",
       "      <td>0</td>\n",
       "    </tr>\n",
       "    <tr>\n",
       "      <th>4</th>\n",
       "      <td>1</td>\n",
       "      <td>0</td>\n",
       "      <td>0</td>\n",
       "      <td>0</td>\n",
       "      <td>0</td>\n",
       "      <td>1</td>\n",
       "      <td>0</td>\n",
       "    </tr>\n",
       "  </tbody>\n",
       "</table>\n",
       "</div>"
      ],
      "text/plain": [
       "   1Fam  BldgTpe_Other  TwnhsE  1.5Fin  1Story  2Story  HouseStyle_Other\n",
       "0     1              0       0       0       0       1                 0\n",
       "1     1              0       0       0       1       0                 0\n",
       "2     1              0       0       0       0       1                 0\n",
       "3     1              0       0       0       0       1                 0\n",
       "4     1              0       0       0       0       1                 0"
      ]
     },
     "execution_count": 86,
     "metadata": {},
     "output_type": "execute_result"
    }
   ],
   "source": [
    "housestyle_enc_df.head()"
   ]
  },
  {
   "cell_type": "markdown",
   "id": "efd9e9c2",
   "metadata": {},
   "source": [
    "### Encoding of Roofstyle and Roofmat"
   ]
  },
  {
   "cell_type": "code",
   "execution_count": 87,
   "id": "0caf217a",
   "metadata": {},
   "outputs": [
    {
     "data": {
      "text/plain": [
       "Gable      1119\n",
       "Hip         247\n",
       "Flat         13\n",
       "Gambrel      11\n",
       "Mansard       7\n",
       "Shed          2\n",
       "Name: RoofStyle, dtype: int64"
      ]
     },
     "execution_count": 87,
     "metadata": {},
     "output_type": "execute_result"
    }
   ],
   "source": [
    "df_train['RoofStyle'].value_counts()"
   ]
  },
  {
   "cell_type": "code",
   "execution_count": 88,
   "id": "298395f4",
   "metadata": {},
   "outputs": [],
   "source": [
    "roofstyle=df_train['RoofStyle'].value_counts().iloc[:2].index"
   ]
  },
  {
   "cell_type": "code",
   "execution_count": 89,
   "id": "1686c9ae",
   "metadata": {},
   "outputs": [],
   "source": [
    "df_train['RoofStyle']=df_train['RoofStyle'].apply(lambda r:r if r in roofstyle else 'RoofStyle_Other')"
   ]
  },
  {
   "cell_type": "code",
   "execution_count": 90,
   "id": "6eb80b61",
   "metadata": {},
   "outputs": [
    {
     "data": {
      "text/plain": [
       "Gable              1119\n",
       "Hip                 247\n",
       "RoofStyle_Other      33\n",
       "Name: RoofStyle, dtype: int64"
      ]
     },
     "execution_count": 90,
     "metadata": {},
     "output_type": "execute_result"
    }
   ],
   "source": [
    "df_train['RoofStyle'].value_counts()"
   ]
  },
  {
   "cell_type": "code",
   "execution_count": 91,
   "id": "85c86913",
   "metadata": {},
   "outputs": [
    {
     "data": {
      "text/plain": [
       "CompShg    1376\n",
       "Tar&Grv      11\n",
       "WdShake       5\n",
       "WdShngl       3\n",
       "Metal         1\n",
       "ClyTile       1\n",
       "Roll          1\n",
       "Membran       1\n",
       "Name: RoofMatl, dtype: int64"
      ]
     },
     "execution_count": 91,
     "metadata": {},
     "output_type": "execute_result"
    }
   ],
   "source": [
    "df_train['RoofMatl'].value_counts()"
   ]
  },
  {
   "cell_type": "code",
   "execution_count": 92,
   "id": "7f894a70",
   "metadata": {},
   "outputs": [],
   "source": [
    "roofmat=df_train['RoofMatl'].value_counts().iloc[:1].index"
   ]
  },
  {
   "cell_type": "code",
   "execution_count": 93,
   "id": "9903e5ec",
   "metadata": {},
   "outputs": [],
   "source": [
    "df_train['RoofMatl']=df_train['RoofMatl'].apply(lambda r:r if r in roofmat else 'RoofMat_Other')"
   ]
  },
  {
   "cell_type": "code",
   "execution_count": 94,
   "id": "c961cb08",
   "metadata": {},
   "outputs": [
    {
     "data": {
      "text/plain": [
       "CompShg          1376\n",
       "RoofMat_Other      23\n",
       "Name: RoofMatl, dtype: int64"
      ]
     },
     "execution_count": 94,
     "metadata": {},
     "output_type": "execute_result"
    }
   ],
   "source": [
    "df_train['RoofMatl'].value_counts()"
   ]
  },
  {
   "cell_type": "code",
   "execution_count": 95,
   "id": "5843b06d",
   "metadata": {},
   "outputs": [
    {
     "data": {
      "text/html": [
       "<div>\n",
       "<style scoped>\n",
       "    .dataframe tbody tr th:only-of-type {\n",
       "        vertical-align: middle;\n",
       "    }\n",
       "\n",
       "    .dataframe tbody tr th {\n",
       "        vertical-align: top;\n",
       "    }\n",
       "\n",
       "    .dataframe thead th {\n",
       "        text-align: right;\n",
       "    }\n",
       "</style>\n",
       "<table border=\"1\" class=\"dataframe\">\n",
       "  <thead>\n",
       "    <tr style=\"text-align: right;\">\n",
       "      <th></th>\n",
       "      <th>0</th>\n",
       "      <th>1</th>\n",
       "      <th>2</th>\n",
       "      <th>3</th>\n",
       "      <th>4</th>\n",
       "    </tr>\n",
       "  </thead>\n",
       "  <tbody>\n",
       "    <tr>\n",
       "      <th>0</th>\n",
       "      <td>1</td>\n",
       "      <td>0</td>\n",
       "      <td>0</td>\n",
       "      <td>1</td>\n",
       "      <td>0</td>\n",
       "    </tr>\n",
       "    <tr>\n",
       "      <th>1</th>\n",
       "      <td>1</td>\n",
       "      <td>0</td>\n",
       "      <td>0</td>\n",
       "      <td>1</td>\n",
       "      <td>0</td>\n",
       "    </tr>\n",
       "    <tr>\n",
       "      <th>2</th>\n",
       "      <td>1</td>\n",
       "      <td>0</td>\n",
       "      <td>0</td>\n",
       "      <td>1</td>\n",
       "      <td>0</td>\n",
       "    </tr>\n",
       "    <tr>\n",
       "      <th>3</th>\n",
       "      <td>1</td>\n",
       "      <td>0</td>\n",
       "      <td>0</td>\n",
       "      <td>1</td>\n",
       "      <td>0</td>\n",
       "    </tr>\n",
       "    <tr>\n",
       "      <th>4</th>\n",
       "      <td>1</td>\n",
       "      <td>0</td>\n",
       "      <td>0</td>\n",
       "      <td>1</td>\n",
       "      <td>0</td>\n",
       "    </tr>\n",
       "  </tbody>\n",
       "</table>\n",
       "</div>"
      ],
      "text/plain": [
       "   0  1  2  3  4\n",
       "0  1  0  0  1  0\n",
       "1  1  0  0  1  0\n",
       "2  1  0  0  1  0\n",
       "3  1  0  0  1  0\n",
       "4  1  0  0  1  0"
      ]
     },
     "execution_count": 95,
     "metadata": {},
     "output_type": "execute_result"
    }
   ],
   "source": [
    "ohe7=OneHotEncoder(sparse=False)\n",
    "roof_enc=ohe7.fit_transform(df_train[['RoofStyle','RoofMatl']])\n",
    "roof_enc_df=pd.DataFrame(data=roof_enc,dtype=int)\n",
    "roof_enc_df.head()"
   ]
  },
  {
   "cell_type": "code",
   "execution_count": 96,
   "id": "0b56d3d8",
   "metadata": {},
   "outputs": [
    {
     "data": {
      "text/plain": [
       "[array(['Gable', 'Hip', 'RoofStyle_Other'], dtype=object),\n",
       " array(['CompShg', 'RoofMat_Other'], dtype=object)]"
      ]
     },
     "execution_count": 96,
     "metadata": {},
     "output_type": "execute_result"
    }
   ],
   "source": [
    "ohe7.categories_"
   ]
  },
  {
   "cell_type": "code",
   "execution_count": 97,
   "id": "09b940d7",
   "metadata": {},
   "outputs": [],
   "source": [
    "roof_enc_df.rename(columns={0:'Gable', 1:'Hip', 2:'RoofStyle_Other',3:'CompShg', 4:'RoofMat_Other'},inplace=True)"
   ]
  },
  {
   "cell_type": "code",
   "execution_count": 98,
   "id": "f4e2977c",
   "metadata": {},
   "outputs": [
    {
     "data": {
      "text/html": [
       "<div>\n",
       "<style scoped>\n",
       "    .dataframe tbody tr th:only-of-type {\n",
       "        vertical-align: middle;\n",
       "    }\n",
       "\n",
       "    .dataframe tbody tr th {\n",
       "        vertical-align: top;\n",
       "    }\n",
       "\n",
       "    .dataframe thead th {\n",
       "        text-align: right;\n",
       "    }\n",
       "</style>\n",
       "<table border=\"1\" class=\"dataframe\">\n",
       "  <thead>\n",
       "    <tr style=\"text-align: right;\">\n",
       "      <th></th>\n",
       "      <th>Gable</th>\n",
       "      <th>Hip</th>\n",
       "      <th>RoofStyle_Other</th>\n",
       "      <th>CompShg</th>\n",
       "      <th>RoofMat_Other</th>\n",
       "    </tr>\n",
       "  </thead>\n",
       "  <tbody>\n",
       "    <tr>\n",
       "      <th>0</th>\n",
       "      <td>1</td>\n",
       "      <td>0</td>\n",
       "      <td>0</td>\n",
       "      <td>1</td>\n",
       "      <td>0</td>\n",
       "    </tr>\n",
       "    <tr>\n",
       "      <th>1</th>\n",
       "      <td>1</td>\n",
       "      <td>0</td>\n",
       "      <td>0</td>\n",
       "      <td>1</td>\n",
       "      <td>0</td>\n",
       "    </tr>\n",
       "    <tr>\n",
       "      <th>2</th>\n",
       "      <td>1</td>\n",
       "      <td>0</td>\n",
       "      <td>0</td>\n",
       "      <td>1</td>\n",
       "      <td>0</td>\n",
       "    </tr>\n",
       "    <tr>\n",
       "      <th>3</th>\n",
       "      <td>1</td>\n",
       "      <td>0</td>\n",
       "      <td>0</td>\n",
       "      <td>1</td>\n",
       "      <td>0</td>\n",
       "    </tr>\n",
       "    <tr>\n",
       "      <th>4</th>\n",
       "      <td>1</td>\n",
       "      <td>0</td>\n",
       "      <td>0</td>\n",
       "      <td>1</td>\n",
       "      <td>0</td>\n",
       "    </tr>\n",
       "  </tbody>\n",
       "</table>\n",
       "</div>"
      ],
      "text/plain": [
       "   Gable  Hip  RoofStyle_Other  CompShg  RoofMat_Other\n",
       "0      1    0                0        1              0\n",
       "1      1    0                0        1              0\n",
       "2      1    0                0        1              0\n",
       "3      1    0                0        1              0\n",
       "4      1    0                0        1              0"
      ]
     },
     "execution_count": 98,
     "metadata": {},
     "output_type": "execute_result"
    }
   ],
   "source": [
    "roof_enc_df.head()"
   ]
  },
  {
   "cell_type": "markdown",
   "id": "51f56e4a",
   "metadata": {},
   "source": [
    "## Encoding of Ext1st 2nd"
   ]
  },
  {
   "cell_type": "code",
   "execution_count": 99,
   "id": "152bf6b9",
   "metadata": {},
   "outputs": [
    {
     "data": {
      "text/plain": [
       "VinylSd    479\n",
       "HdBoard    220\n",
       "MetalSd    217\n",
       "Wd Sdng    203\n",
       "Plywood    107\n",
       "CemntBd     52\n",
       "BrkFace     47\n",
       "WdShing     24\n",
       "Stucco      23\n",
       "AsbShng     20\n",
       "Stone        2\n",
       "BrkComm      2\n",
       "AsphShn      1\n",
       "ImStucc      1\n",
       "CBlock       1\n",
       "Name: Exterior1st, dtype: int64"
      ]
     },
     "execution_count": 99,
     "metadata": {},
     "output_type": "execute_result"
    }
   ],
   "source": [
    "df_train['Exterior1st'].value_counts()"
   ]
  },
  {
   "cell_type": "code",
   "execution_count": 100,
   "id": "407f2bff",
   "metadata": {},
   "outputs": [
    {
     "data": {
      "text/plain": [
       "VinylSd         479\n",
       "HdBoard         220\n",
       "MetalSd         217\n",
       "Wd Sdng         203\n",
       "Ext1st_Other    173\n",
       "Plywood         107\n",
       "Name: Exterior1st, dtype: int64"
      ]
     },
     "execution_count": 100,
     "metadata": {},
     "output_type": "execute_result"
    }
   ],
   "source": [
    "ext1st=df_train['Exterior1st'].value_counts().iloc[:5].index\n",
    "df_train['Exterior1st']=df_train['Exterior1st'].apply(lambda e:e if e in ext1st else 'Ext1st_Other')\n",
    "df_train['Exterior1st'].value_counts()"
   ]
  },
  {
   "cell_type": "code",
   "execution_count": 101,
   "id": "b84469c5",
   "metadata": {},
   "outputs": [
    {
     "data": {
      "text/plain": [
       "VinylSd    468\n",
       "MetalSd    211\n",
       "HdBoard    205\n",
       "Wd Sdng    194\n",
       "Plywood    142\n",
       "CmentBd     51\n",
       "Wd Shng     35\n",
       "Stucco      25\n",
       "BrkFace     23\n",
       "AsbShng     20\n",
       "ImStucc      8\n",
       "Brk Cmn      7\n",
       "Stone        5\n",
       "AsphShn      3\n",
       "Other        1\n",
       "CBlock       1\n",
       "Name: Exterior2nd, dtype: int64"
      ]
     },
     "execution_count": 101,
     "metadata": {},
     "output_type": "execute_result"
    }
   ],
   "source": [
    "df_train['Exterior2nd'].value_counts()"
   ]
  },
  {
   "cell_type": "code",
   "execution_count": 102,
   "id": "0ab6397b",
   "metadata": {},
   "outputs": [
    {
     "data": {
      "text/plain": [
       "VinylSd         468\n",
       "MetalSd         211\n",
       "HdBoard         205\n",
       "Wd Sdng         194\n",
       "Ext2nd_Other    179\n",
       "Plywood         142\n",
       "Name: Exterior2nd, dtype: int64"
      ]
     },
     "execution_count": 102,
     "metadata": {},
     "output_type": "execute_result"
    }
   ],
   "source": [
    "ext2nd=df_train['Exterior2nd'].value_counts().iloc[:5].index\n",
    "df_train['Exterior2nd']=df_train['Exterior2nd'].apply(lambda e:e if e in ext2nd else 'Ext2nd_Other')\n",
    "df_train['Exterior2nd'].value_counts()"
   ]
  },
  {
   "cell_type": "code",
   "execution_count": 103,
   "id": "b740a64d",
   "metadata": {},
   "outputs": [
    {
     "data": {
      "text/plain": [
       "None       854\n",
       "BrkFace    418\n",
       "Stone      105\n",
       "BrkCmn      15\n",
       "Name: MasVnrType, dtype: int64"
      ]
     },
     "execution_count": 103,
     "metadata": {},
     "output_type": "execute_result"
    }
   ],
   "source": [
    "df_train['MasVnrType'].value_counts()"
   ]
  },
  {
   "cell_type": "code",
   "execution_count": 104,
   "id": "861b089e",
   "metadata": {},
   "outputs": [
    {
     "data": {
      "text/plain": [
       "None               854\n",
       "MsVnrType_Other    545\n",
       "Name: MasVnrType, dtype: int64"
      ]
     },
     "execution_count": 104,
     "metadata": {},
     "output_type": "execute_result"
    }
   ],
   "source": [
    "msvnrtpe=df_train['MasVnrType'].value_counts().iloc[:1].index\n",
    "df_train['MasVnrType']=df_train['MasVnrType'].apply(lambda m:m if m in msvnrtpe else 'MsVnrType_Other')\n",
    "df_train['MasVnrType'].value_counts()"
   ]
  },
  {
   "cell_type": "code",
   "execution_count": 105,
   "id": "ae878413",
   "metadata": {},
   "outputs": [
    {
     "data": {
      "text/html": [
       "<div>\n",
       "<style scoped>\n",
       "    .dataframe tbody tr th:only-of-type {\n",
       "        vertical-align: middle;\n",
       "    }\n",
       "\n",
       "    .dataframe tbody tr th {\n",
       "        vertical-align: top;\n",
       "    }\n",
       "\n",
       "    .dataframe thead th {\n",
       "        text-align: right;\n",
       "    }\n",
       "</style>\n",
       "<table border=\"1\" class=\"dataframe\">\n",
       "  <thead>\n",
       "    <tr style=\"text-align: right;\">\n",
       "      <th></th>\n",
       "      <th>0</th>\n",
       "      <th>1</th>\n",
       "      <th>2</th>\n",
       "      <th>3</th>\n",
       "      <th>4</th>\n",
       "      <th>5</th>\n",
       "      <th>6</th>\n",
       "      <th>7</th>\n",
       "      <th>8</th>\n",
       "      <th>9</th>\n",
       "      <th>10</th>\n",
       "      <th>11</th>\n",
       "      <th>12</th>\n",
       "      <th>13</th>\n",
       "    </tr>\n",
       "  </thead>\n",
       "  <tbody>\n",
       "    <tr>\n",
       "      <th>0</th>\n",
       "      <td>0</td>\n",
       "      <td>0</td>\n",
       "      <td>0</td>\n",
       "      <td>0</td>\n",
       "      <td>1</td>\n",
       "      <td>0</td>\n",
       "      <td>0</td>\n",
       "      <td>0</td>\n",
       "      <td>0</td>\n",
       "      <td>0</td>\n",
       "      <td>1</td>\n",
       "      <td>0</td>\n",
       "      <td>1</td>\n",
       "      <td>0</td>\n",
       "    </tr>\n",
       "    <tr>\n",
       "      <th>1</th>\n",
       "      <td>0</td>\n",
       "      <td>0</td>\n",
       "      <td>1</td>\n",
       "      <td>0</td>\n",
       "      <td>0</td>\n",
       "      <td>0</td>\n",
       "      <td>0</td>\n",
       "      <td>0</td>\n",
       "      <td>1</td>\n",
       "      <td>0</td>\n",
       "      <td>0</td>\n",
       "      <td>0</td>\n",
       "      <td>0</td>\n",
       "      <td>1</td>\n",
       "    </tr>\n",
       "    <tr>\n",
       "      <th>2</th>\n",
       "      <td>0</td>\n",
       "      <td>0</td>\n",
       "      <td>0</td>\n",
       "      <td>0</td>\n",
       "      <td>1</td>\n",
       "      <td>0</td>\n",
       "      <td>0</td>\n",
       "      <td>0</td>\n",
       "      <td>0</td>\n",
       "      <td>0</td>\n",
       "      <td>1</td>\n",
       "      <td>0</td>\n",
       "      <td>1</td>\n",
       "      <td>0</td>\n",
       "    </tr>\n",
       "    <tr>\n",
       "      <th>3</th>\n",
       "      <td>0</td>\n",
       "      <td>0</td>\n",
       "      <td>0</td>\n",
       "      <td>0</td>\n",
       "      <td>0</td>\n",
       "      <td>1</td>\n",
       "      <td>1</td>\n",
       "      <td>0</td>\n",
       "      <td>0</td>\n",
       "      <td>0</td>\n",
       "      <td>0</td>\n",
       "      <td>0</td>\n",
       "      <td>0</td>\n",
       "      <td>1</td>\n",
       "    </tr>\n",
       "    <tr>\n",
       "      <th>4</th>\n",
       "      <td>0</td>\n",
       "      <td>0</td>\n",
       "      <td>0</td>\n",
       "      <td>0</td>\n",
       "      <td>1</td>\n",
       "      <td>0</td>\n",
       "      <td>0</td>\n",
       "      <td>0</td>\n",
       "      <td>0</td>\n",
       "      <td>0</td>\n",
       "      <td>1</td>\n",
       "      <td>0</td>\n",
       "      <td>1</td>\n",
       "      <td>0</td>\n",
       "    </tr>\n",
       "  </tbody>\n",
       "</table>\n",
       "</div>"
      ],
      "text/plain": [
       "   0   1   2   3   4   5   6   7   8   9   10  11  12  13\n",
       "0   0   0   0   0   1   0   0   0   0   0   1   0   1   0\n",
       "1   0   0   1   0   0   0   0   0   1   0   0   0   0   1\n",
       "2   0   0   0   0   1   0   0   0   0   0   1   0   1   0\n",
       "3   0   0   0   0   0   1   1   0   0   0   0   0   0   1\n",
       "4   0   0   0   0   1   0   0   0   0   0   1   0   1   0"
      ]
     },
     "execution_count": 105,
     "metadata": {},
     "output_type": "execute_result"
    }
   ],
   "source": [
    "ohe8=OneHotEncoder(sparse=False)\n",
    "ext12_enc=ohe8.fit_transform(df_train[['Exterior1st','Exterior2nd','MasVnrType']])\n",
    "ext12_enc_df=pd.DataFrame(data=ext12_enc,dtype=int)\n",
    "ext12_enc_df.head()"
   ]
  },
  {
   "cell_type": "code",
   "execution_count": 106,
   "id": "447ab073",
   "metadata": {},
   "outputs": [
    {
     "data": {
      "text/plain": [
       "[array(['Ext1st_Other', 'HdBoard', 'MetalSd', 'Plywood', 'VinylSd',\n",
       "        'Wd Sdng'], dtype=object),\n",
       " array(['Ext2nd_Other', 'HdBoard', 'MetalSd', 'Plywood', 'VinylSd',\n",
       "        'Wd Sdng'], dtype=object),\n",
       " array(['MsVnrType_Other', 'None'], dtype=object)]"
      ]
     },
     "execution_count": 106,
     "metadata": {},
     "output_type": "execute_result"
    }
   ],
   "source": [
    "ohe8.categories_"
   ]
  },
  {
   "cell_type": "code",
   "execution_count": 107,
   "id": "0999b98c",
   "metadata": {},
   "outputs": [],
   "source": [
    "ext12_enc_df.rename(columns={0:'Ext1st_Other', 1:'HdBoard1',2:'MetalSd1', 3:'Plywood1', 4:'VinylSd1',\n",
    "5:'Wd Sdng1',6:'Ext2nd_Other', 7:'HdBoard2', 8:'MetalSd2', 9:'Plywood2',10: 'VinylSd2',\n",
    "11:'Wd Sdng2',12:'MsVnrType_Other',13:'Msvnr_None'},inplace=True)"
   ]
  },
  {
   "cell_type": "code",
   "execution_count": 108,
   "id": "976bea63",
   "metadata": {},
   "outputs": [
    {
     "data": {
      "text/html": [
       "<div>\n",
       "<style scoped>\n",
       "    .dataframe tbody tr th:only-of-type {\n",
       "        vertical-align: middle;\n",
       "    }\n",
       "\n",
       "    .dataframe tbody tr th {\n",
       "        vertical-align: top;\n",
       "    }\n",
       "\n",
       "    .dataframe thead th {\n",
       "        text-align: right;\n",
       "    }\n",
       "</style>\n",
       "<table border=\"1\" class=\"dataframe\">\n",
       "  <thead>\n",
       "    <tr style=\"text-align: right;\">\n",
       "      <th></th>\n",
       "      <th>Ext1st_Other</th>\n",
       "      <th>HdBoard1</th>\n",
       "      <th>MetalSd1</th>\n",
       "      <th>Plywood1</th>\n",
       "      <th>VinylSd1</th>\n",
       "      <th>Wd Sdng1</th>\n",
       "      <th>Ext2nd_Other</th>\n",
       "      <th>HdBoard2</th>\n",
       "      <th>MetalSd2</th>\n",
       "      <th>Plywood2</th>\n",
       "      <th>VinylSd2</th>\n",
       "      <th>Wd Sdng2</th>\n",
       "      <th>MsVnrType_Other</th>\n",
       "      <th>Msvnr_None</th>\n",
       "    </tr>\n",
       "  </thead>\n",
       "  <tbody>\n",
       "    <tr>\n",
       "      <th>0</th>\n",
       "      <td>0</td>\n",
       "      <td>0</td>\n",
       "      <td>0</td>\n",
       "      <td>0</td>\n",
       "      <td>1</td>\n",
       "      <td>0</td>\n",
       "      <td>0</td>\n",
       "      <td>0</td>\n",
       "      <td>0</td>\n",
       "      <td>0</td>\n",
       "      <td>1</td>\n",
       "      <td>0</td>\n",
       "      <td>1</td>\n",
       "      <td>0</td>\n",
       "    </tr>\n",
       "    <tr>\n",
       "      <th>1</th>\n",
       "      <td>0</td>\n",
       "      <td>0</td>\n",
       "      <td>1</td>\n",
       "      <td>0</td>\n",
       "      <td>0</td>\n",
       "      <td>0</td>\n",
       "      <td>0</td>\n",
       "      <td>0</td>\n",
       "      <td>1</td>\n",
       "      <td>0</td>\n",
       "      <td>0</td>\n",
       "      <td>0</td>\n",
       "      <td>0</td>\n",
       "      <td>1</td>\n",
       "    </tr>\n",
       "    <tr>\n",
       "      <th>2</th>\n",
       "      <td>0</td>\n",
       "      <td>0</td>\n",
       "      <td>0</td>\n",
       "      <td>0</td>\n",
       "      <td>1</td>\n",
       "      <td>0</td>\n",
       "      <td>0</td>\n",
       "      <td>0</td>\n",
       "      <td>0</td>\n",
       "      <td>0</td>\n",
       "      <td>1</td>\n",
       "      <td>0</td>\n",
       "      <td>1</td>\n",
       "      <td>0</td>\n",
       "    </tr>\n",
       "    <tr>\n",
       "      <th>3</th>\n",
       "      <td>0</td>\n",
       "      <td>0</td>\n",
       "      <td>0</td>\n",
       "      <td>0</td>\n",
       "      <td>0</td>\n",
       "      <td>1</td>\n",
       "      <td>1</td>\n",
       "      <td>0</td>\n",
       "      <td>0</td>\n",
       "      <td>0</td>\n",
       "      <td>0</td>\n",
       "      <td>0</td>\n",
       "      <td>0</td>\n",
       "      <td>1</td>\n",
       "    </tr>\n",
       "    <tr>\n",
       "      <th>4</th>\n",
       "      <td>0</td>\n",
       "      <td>0</td>\n",
       "      <td>0</td>\n",
       "      <td>0</td>\n",
       "      <td>1</td>\n",
       "      <td>0</td>\n",
       "      <td>0</td>\n",
       "      <td>0</td>\n",
       "      <td>0</td>\n",
       "      <td>0</td>\n",
       "      <td>1</td>\n",
       "      <td>0</td>\n",
       "      <td>1</td>\n",
       "      <td>0</td>\n",
       "    </tr>\n",
       "  </tbody>\n",
       "</table>\n",
       "</div>"
      ],
      "text/plain": [
       "   Ext1st_Other  HdBoard1  MetalSd1  Plywood1  VinylSd1  Wd Sdng1  \\\n",
       "0             0         0         0         0         1         0   \n",
       "1             0         0         1         0         0         0   \n",
       "2             0         0         0         0         1         0   \n",
       "3             0         0         0         0         0         1   \n",
       "4             0         0         0         0         1         0   \n",
       "\n",
       "   Ext2nd_Other  HdBoard2  MetalSd2  Plywood2  VinylSd2  Wd Sdng2  \\\n",
       "0             0         0         0         0         1         0   \n",
       "1             0         0         1         0         0         0   \n",
       "2             0         0         0         0         1         0   \n",
       "3             1         0         0         0         0         0   \n",
       "4             0         0         0         0         1         0   \n",
       "\n",
       "   MsVnrType_Other  Msvnr_None  \n",
       "0                1           0  \n",
       "1                0           1  \n",
       "2                1           0  \n",
       "3                0           1  \n",
       "4                1           0  "
      ]
     },
     "execution_count": 108,
     "metadata": {},
     "output_type": "execute_result"
    }
   ],
   "source": [
    "ext12_enc_df.head()"
   ]
  },
  {
   "cell_type": "markdown",
   "id": "6d7778a8",
   "metadata": {},
   "source": [
    "## Encoding of ExterQual,ExterCond,Foundation, BsmtQual,BsmtCond,BsmtExposure"
   ]
  },
  {
   "cell_type": "code",
   "execution_count": 109,
   "id": "38a24b03",
   "metadata": {},
   "outputs": [
    {
     "data": {
      "text/plain": [
       "TA    902\n",
       "Gd    459\n",
       "Ex     24\n",
       "Fa     14\n",
       "Name: ExterQual, dtype: int64"
      ]
     },
     "execution_count": 109,
     "metadata": {},
     "output_type": "execute_result"
    }
   ],
   "source": [
    "df_train['ExterQual'].value_counts()"
   ]
  },
  {
   "cell_type": "code",
   "execution_count": 110,
   "id": "b4143c22",
   "metadata": {},
   "outputs": [
    {
     "data": {
      "text/plain": [
       "TA    1225\n",
       "Gd     142\n",
       "Fa      28\n",
       "Ex       3\n",
       "Po       1\n",
       "Name: ExterCond, dtype: int64"
      ]
     },
     "execution_count": 110,
     "metadata": {},
     "output_type": "execute_result"
    }
   ],
   "source": [
    "df_train['ExterCond'].value_counts()"
   ]
  },
  {
   "cell_type": "code",
   "execution_count": 111,
   "id": "a5ebd570",
   "metadata": {},
   "outputs": [
    {
     "data": {
      "text/plain": [
       "CBlock    629\n",
       "PConc     592\n",
       "BrkTil    145\n",
       "Slab       24\n",
       "Stone       6\n",
       "Wood        3\n",
       "Name: Foundation, dtype: int64"
      ]
     },
     "execution_count": 111,
     "metadata": {},
     "output_type": "execute_result"
    }
   ],
   "source": [
    "df_train['Foundation'].value_counts()"
   ]
  },
  {
   "cell_type": "code",
   "execution_count": 112,
   "id": "0465ef47",
   "metadata": {},
   "outputs": [
    {
     "data": {
      "text/plain": [
       "CBlock             629\n",
       "PConc              592\n",
       "BrkTil             145\n",
       "Foundatio_Other     33\n",
       "Name: Foundation, dtype: int64"
      ]
     },
     "execution_count": 112,
     "metadata": {},
     "output_type": "execute_result"
    }
   ],
   "source": [
    "foundation=df_train['Foundation'].value_counts().iloc[:3].index\n",
    "df_train['Foundation']=df_train['Foundation'].apply(lambda f:f if f in foundation else 'Foundatio_Other')\n",
    "df_train['Foundation'].value_counts()"
   ]
  },
  {
   "cell_type": "code",
   "execution_count": 113,
   "id": "9999092e",
   "metadata": {},
   "outputs": [
    {
     "data": {
      "text/plain": [
       "TA    647\n",
       "Gd    604\n",
       "Ex     76\n",
       "NA     37\n",
       "Fa     35\n",
       "Name: BsmtQual, dtype: int64"
      ]
     },
     "execution_count": 113,
     "metadata": {},
     "output_type": "execute_result"
    }
   ],
   "source": [
    "df_train['BsmtQual'].value_counts()"
   ]
  },
  {
   "cell_type": "code",
   "execution_count": 114,
   "id": "0251e149",
   "metadata": {},
   "outputs": [
    {
     "data": {
      "text/plain": [
       "TA    1254\n",
       "Gd      61\n",
       "Fa      45\n",
       "NA      37\n",
       "Po       2\n",
       "Name: BsmtCond, dtype: int64"
      ]
     },
     "execution_count": 114,
     "metadata": {},
     "output_type": "execute_result"
    }
   ],
   "source": [
    "df_train['BsmtCond'].value_counts()"
   ]
  },
  {
   "cell_type": "code",
   "execution_count": 115,
   "id": "b7186965",
   "metadata": {},
   "outputs": [
    {
     "data": {
      "text/plain": [
       "No    941\n",
       "Av    205\n",
       "Mn    108\n",
       "Gd    107\n",
       "NA     38\n",
       "Name: BsmtExposure, dtype: int64"
      ]
     },
     "execution_count": 115,
     "metadata": {},
     "output_type": "execute_result"
    }
   ],
   "source": [
    "df_train['BsmtExposure'].value_counts()"
   ]
  },
  {
   "cell_type": "code",
   "execution_count": 116,
   "id": "f63299e5",
   "metadata": {},
   "outputs": [
    {
     "data": {
      "text/html": [
       "<div>\n",
       "<style scoped>\n",
       "    .dataframe tbody tr th:only-of-type {\n",
       "        vertical-align: middle;\n",
       "    }\n",
       "\n",
       "    .dataframe tbody tr th {\n",
       "        vertical-align: top;\n",
       "    }\n",
       "\n",
       "    .dataframe thead th {\n",
       "        text-align: right;\n",
       "    }\n",
       "</style>\n",
       "<table border=\"1\" class=\"dataframe\">\n",
       "  <thead>\n",
       "    <tr style=\"text-align: right;\">\n",
       "      <th></th>\n",
       "      <th>0</th>\n",
       "      <th>1</th>\n",
       "      <th>2</th>\n",
       "      <th>3</th>\n",
       "      <th>4</th>\n",
       "      <th>5</th>\n",
       "      <th>6</th>\n",
       "      <th>7</th>\n",
       "      <th>8</th>\n",
       "      <th>9</th>\n",
       "      <th>...</th>\n",
       "      <th>18</th>\n",
       "      <th>19</th>\n",
       "      <th>20</th>\n",
       "      <th>21</th>\n",
       "      <th>22</th>\n",
       "      <th>23</th>\n",
       "      <th>24</th>\n",
       "      <th>25</th>\n",
       "      <th>26</th>\n",
       "      <th>27</th>\n",
       "    </tr>\n",
       "  </thead>\n",
       "  <tbody>\n",
       "    <tr>\n",
       "      <th>0</th>\n",
       "      <td>0</td>\n",
       "      <td>0</td>\n",
       "      <td>1</td>\n",
       "      <td>0</td>\n",
       "      <td>0</td>\n",
       "      <td>0</td>\n",
       "      <td>0</td>\n",
       "      <td>0</td>\n",
       "      <td>1</td>\n",
       "      <td>0</td>\n",
       "      <td>...</td>\n",
       "      <td>0</td>\n",
       "      <td>0</td>\n",
       "      <td>0</td>\n",
       "      <td>0</td>\n",
       "      <td>1</td>\n",
       "      <td>0</td>\n",
       "      <td>0</td>\n",
       "      <td>0</td>\n",
       "      <td>0</td>\n",
       "      <td>1</td>\n",
       "    </tr>\n",
       "    <tr>\n",
       "      <th>1</th>\n",
       "      <td>0</td>\n",
       "      <td>0</td>\n",
       "      <td>0</td>\n",
       "      <td>1</td>\n",
       "      <td>0</td>\n",
       "      <td>0</td>\n",
       "      <td>0</td>\n",
       "      <td>0</td>\n",
       "      <td>1</td>\n",
       "      <td>0</td>\n",
       "      <td>...</td>\n",
       "      <td>0</td>\n",
       "      <td>0</td>\n",
       "      <td>0</td>\n",
       "      <td>0</td>\n",
       "      <td>1</td>\n",
       "      <td>0</td>\n",
       "      <td>1</td>\n",
       "      <td>0</td>\n",
       "      <td>0</td>\n",
       "      <td>0</td>\n",
       "    </tr>\n",
       "    <tr>\n",
       "      <th>2</th>\n",
       "      <td>0</td>\n",
       "      <td>0</td>\n",
       "      <td>1</td>\n",
       "      <td>0</td>\n",
       "      <td>0</td>\n",
       "      <td>0</td>\n",
       "      <td>0</td>\n",
       "      <td>0</td>\n",
       "      <td>1</td>\n",
       "      <td>0</td>\n",
       "      <td>...</td>\n",
       "      <td>0</td>\n",
       "      <td>0</td>\n",
       "      <td>0</td>\n",
       "      <td>0</td>\n",
       "      <td>1</td>\n",
       "      <td>0</td>\n",
       "      <td>0</td>\n",
       "      <td>1</td>\n",
       "      <td>0</td>\n",
       "      <td>0</td>\n",
       "    </tr>\n",
       "    <tr>\n",
       "      <th>3</th>\n",
       "      <td>0</td>\n",
       "      <td>0</td>\n",
       "      <td>0</td>\n",
       "      <td>1</td>\n",
       "      <td>0</td>\n",
       "      <td>0</td>\n",
       "      <td>0</td>\n",
       "      <td>0</td>\n",
       "      <td>1</td>\n",
       "      <td>1</td>\n",
       "      <td>...</td>\n",
       "      <td>0</td>\n",
       "      <td>1</td>\n",
       "      <td>0</td>\n",
       "      <td>0</td>\n",
       "      <td>0</td>\n",
       "      <td>0</td>\n",
       "      <td>0</td>\n",
       "      <td>0</td>\n",
       "      <td>0</td>\n",
       "      <td>1</td>\n",
       "    </tr>\n",
       "    <tr>\n",
       "      <th>4</th>\n",
       "      <td>0</td>\n",
       "      <td>0</td>\n",
       "      <td>1</td>\n",
       "      <td>0</td>\n",
       "      <td>0</td>\n",
       "      <td>0</td>\n",
       "      <td>0</td>\n",
       "      <td>0</td>\n",
       "      <td>1</td>\n",
       "      <td>0</td>\n",
       "      <td>...</td>\n",
       "      <td>0</td>\n",
       "      <td>0</td>\n",
       "      <td>0</td>\n",
       "      <td>0</td>\n",
       "      <td>1</td>\n",
       "      <td>1</td>\n",
       "      <td>0</td>\n",
       "      <td>0</td>\n",
       "      <td>0</td>\n",
       "      <td>0</td>\n",
       "    </tr>\n",
       "  </tbody>\n",
       "</table>\n",
       "<p>5 rows × 28 columns</p>\n",
       "</div>"
      ],
      "text/plain": [
       "   0   1   2   3   4   5   6   7   8   9   ...  18  19  20  21  22  23  24  \\\n",
       "0   0   0   1   0   0   0   0   0   1   0  ...   0   0   0   0   1   0   0   \n",
       "1   0   0   0   1   0   0   0   0   1   0  ...   0   0   0   0   1   0   1   \n",
       "2   0   0   1   0   0   0   0   0   1   0  ...   0   0   0   0   1   0   0   \n",
       "3   0   0   0   1   0   0   0   0   1   1  ...   0   1   0   0   0   0   0   \n",
       "4   0   0   1   0   0   0   0   0   1   0  ...   0   0   0   0   1   1   0   \n",
       "\n",
       "   25  26  27  \n",
       "0   0   0   1  \n",
       "1   0   0   0  \n",
       "2   1   0   0  \n",
       "3   0   0   1  \n",
       "4   0   0   0  \n",
       "\n",
       "[5 rows x 28 columns]"
      ]
     },
     "execution_count": 116,
     "metadata": {},
     "output_type": "execute_result"
    }
   ],
   "source": [
    "ohe9=OneHotEncoder(sparse=False)\n",
    "extrbsmt_enc=ohe9.fit_transform(df_train[['ExterQual','ExterCond','Foundation','BsmtQual','BsmtCond','BsmtExposure']])\n",
    "extrBsmt_enc_df=pd.DataFrame(data=extrbsmt_enc,dtype=int)\n",
    "extrBsmt_enc_df.head()"
   ]
  },
  {
   "cell_type": "code",
   "execution_count": 117,
   "id": "ecd4c609",
   "metadata": {},
   "outputs": [
    {
     "data": {
      "text/plain": [
       "[array(['Ex', 'Fa', 'Gd', 'TA'], dtype=object),\n",
       " array(['Ex', 'Fa', 'Gd', 'Po', 'TA'], dtype=object),\n",
       " array(['BrkTil', 'CBlock', 'Foundatio_Other', 'PConc'], dtype=object),\n",
       " array(['Ex', 'Fa', 'Gd', 'NA', 'TA'], dtype=object),\n",
       " array(['Fa', 'Gd', 'NA', 'Po', 'TA'], dtype=object),\n",
       " array(['Av', 'Gd', 'Mn', 'NA', 'No'], dtype=object)]"
      ]
     },
     "execution_count": 117,
     "metadata": {},
     "output_type": "execute_result"
    }
   ],
   "source": [
    "ohe9.categories_"
   ]
  },
  {
   "cell_type": "code",
   "execution_count": 118,
   "id": "31a27283",
   "metadata": {},
   "outputs": [],
   "source": [
    "extrBsmt_enc_df.rename(columns={0:'Ex1', 1:'Fa1', 2:'Gd1', 3:'TA1',4:'Ex2', 5:'Fa2', 6:'Gd2',7:'Po2', 8:'TA2',9:'BrkTil', 10:'CBlock', 11:'Foundatio_Other', 12:'PConc',13:'Ex3', 14:'Fa3', 15:'Gd3',16:'NA3',17:'TA3',18:'Fa4', 19:'Gd4',20:'NA4',21:'Po4',22:'TA4',23:'Av5',24:'Gd5',25:'Mn5',26:'NA5',27:'No5'},inplace=True)"
   ]
  },
  {
   "cell_type": "code",
   "execution_count": 119,
   "id": "be6004b7",
   "metadata": {},
   "outputs": [
    {
     "data": {
      "text/html": [
       "<div>\n",
       "<style scoped>\n",
       "    .dataframe tbody tr th:only-of-type {\n",
       "        vertical-align: middle;\n",
       "    }\n",
       "\n",
       "    .dataframe tbody tr th {\n",
       "        vertical-align: top;\n",
       "    }\n",
       "\n",
       "    .dataframe thead th {\n",
       "        text-align: right;\n",
       "    }\n",
       "</style>\n",
       "<table border=\"1\" class=\"dataframe\">\n",
       "  <thead>\n",
       "    <tr style=\"text-align: right;\">\n",
       "      <th></th>\n",
       "      <th>Ex1</th>\n",
       "      <th>Fa1</th>\n",
       "      <th>Gd1</th>\n",
       "      <th>TA1</th>\n",
       "      <th>Ex2</th>\n",
       "      <th>Fa2</th>\n",
       "      <th>Gd2</th>\n",
       "      <th>Po2</th>\n",
       "      <th>TA2</th>\n",
       "      <th>BrkTil</th>\n",
       "      <th>...</th>\n",
       "      <th>Fa4</th>\n",
       "      <th>Gd4</th>\n",
       "      <th>NA4</th>\n",
       "      <th>Po4</th>\n",
       "      <th>TA4</th>\n",
       "      <th>Av5</th>\n",
       "      <th>Gd5</th>\n",
       "      <th>Mn5</th>\n",
       "      <th>NA5</th>\n",
       "      <th>No5</th>\n",
       "    </tr>\n",
       "  </thead>\n",
       "  <tbody>\n",
       "    <tr>\n",
       "      <th>0</th>\n",
       "      <td>0</td>\n",
       "      <td>0</td>\n",
       "      <td>1</td>\n",
       "      <td>0</td>\n",
       "      <td>0</td>\n",
       "      <td>0</td>\n",
       "      <td>0</td>\n",
       "      <td>0</td>\n",
       "      <td>1</td>\n",
       "      <td>0</td>\n",
       "      <td>...</td>\n",
       "      <td>0</td>\n",
       "      <td>0</td>\n",
       "      <td>0</td>\n",
       "      <td>0</td>\n",
       "      <td>1</td>\n",
       "      <td>0</td>\n",
       "      <td>0</td>\n",
       "      <td>0</td>\n",
       "      <td>0</td>\n",
       "      <td>1</td>\n",
       "    </tr>\n",
       "    <tr>\n",
       "      <th>1</th>\n",
       "      <td>0</td>\n",
       "      <td>0</td>\n",
       "      <td>0</td>\n",
       "      <td>1</td>\n",
       "      <td>0</td>\n",
       "      <td>0</td>\n",
       "      <td>0</td>\n",
       "      <td>0</td>\n",
       "      <td>1</td>\n",
       "      <td>0</td>\n",
       "      <td>...</td>\n",
       "      <td>0</td>\n",
       "      <td>0</td>\n",
       "      <td>0</td>\n",
       "      <td>0</td>\n",
       "      <td>1</td>\n",
       "      <td>0</td>\n",
       "      <td>1</td>\n",
       "      <td>0</td>\n",
       "      <td>0</td>\n",
       "      <td>0</td>\n",
       "    </tr>\n",
       "    <tr>\n",
       "      <th>2</th>\n",
       "      <td>0</td>\n",
       "      <td>0</td>\n",
       "      <td>1</td>\n",
       "      <td>0</td>\n",
       "      <td>0</td>\n",
       "      <td>0</td>\n",
       "      <td>0</td>\n",
       "      <td>0</td>\n",
       "      <td>1</td>\n",
       "      <td>0</td>\n",
       "      <td>...</td>\n",
       "      <td>0</td>\n",
       "      <td>0</td>\n",
       "      <td>0</td>\n",
       "      <td>0</td>\n",
       "      <td>1</td>\n",
       "      <td>0</td>\n",
       "      <td>0</td>\n",
       "      <td>1</td>\n",
       "      <td>0</td>\n",
       "      <td>0</td>\n",
       "    </tr>\n",
       "    <tr>\n",
       "      <th>3</th>\n",
       "      <td>0</td>\n",
       "      <td>0</td>\n",
       "      <td>0</td>\n",
       "      <td>1</td>\n",
       "      <td>0</td>\n",
       "      <td>0</td>\n",
       "      <td>0</td>\n",
       "      <td>0</td>\n",
       "      <td>1</td>\n",
       "      <td>1</td>\n",
       "      <td>...</td>\n",
       "      <td>0</td>\n",
       "      <td>1</td>\n",
       "      <td>0</td>\n",
       "      <td>0</td>\n",
       "      <td>0</td>\n",
       "      <td>0</td>\n",
       "      <td>0</td>\n",
       "      <td>0</td>\n",
       "      <td>0</td>\n",
       "      <td>1</td>\n",
       "    </tr>\n",
       "    <tr>\n",
       "      <th>4</th>\n",
       "      <td>0</td>\n",
       "      <td>0</td>\n",
       "      <td>1</td>\n",
       "      <td>0</td>\n",
       "      <td>0</td>\n",
       "      <td>0</td>\n",
       "      <td>0</td>\n",
       "      <td>0</td>\n",
       "      <td>1</td>\n",
       "      <td>0</td>\n",
       "      <td>...</td>\n",
       "      <td>0</td>\n",
       "      <td>0</td>\n",
       "      <td>0</td>\n",
       "      <td>0</td>\n",
       "      <td>1</td>\n",
       "      <td>1</td>\n",
       "      <td>0</td>\n",
       "      <td>0</td>\n",
       "      <td>0</td>\n",
       "      <td>0</td>\n",
       "    </tr>\n",
       "  </tbody>\n",
       "</table>\n",
       "<p>5 rows × 28 columns</p>\n",
       "</div>"
      ],
      "text/plain": [
       "   Ex1  Fa1  Gd1  TA1  Ex2  Fa2  Gd2  Po2  TA2  BrkTil  ...  Fa4  Gd4  NA4  \\\n",
       "0    0    0    1    0    0    0    0    0    1       0  ...    0    0    0   \n",
       "1    0    0    0    1    0    0    0    0    1       0  ...    0    0    0   \n",
       "2    0    0    1    0    0    0    0    0    1       0  ...    0    0    0   \n",
       "3    0    0    0    1    0    0    0    0    1       1  ...    0    1    0   \n",
       "4    0    0    1    0    0    0    0    0    1       0  ...    0    0    0   \n",
       "\n",
       "   Po4  TA4  Av5  Gd5  Mn5  NA5  No5  \n",
       "0    0    1    0    0    0    0    1  \n",
       "1    0    1    0    1    0    0    0  \n",
       "2    0    1    0    0    1    0    0  \n",
       "3    0    0    0    0    0    0    1  \n",
       "4    0    1    1    0    0    0    0  \n",
       "\n",
       "[5 rows x 28 columns]"
      ]
     },
     "execution_count": 119,
     "metadata": {},
     "output_type": "execute_result"
    }
   ],
   "source": [
    "extrBsmt_enc_df.head()"
   ]
  },
  {
   "cell_type": "markdown",
   "id": "a10376b0",
   "metadata": {},
   "source": [
    "## Encoding of BsmtFinType1,BsmtFinType2,Heating,HeatingQC,CentralAir,Electrical"
   ]
  },
  {
   "cell_type": "code",
   "execution_count": 120,
   "id": "cc735f7a",
   "metadata": {},
   "outputs": [
    {
     "data": {
      "text/plain": [
       "Unf    419\n",
       "GLQ    372\n",
       "ALQ    218\n",
       "BLQ    147\n",
       "Rec    132\n",
       "LwQ     74\n",
       "NA      37\n",
       "Name: BsmtFinType1, dtype: int64"
      ]
     },
     "execution_count": 120,
     "metadata": {},
     "output_type": "execute_result"
    }
   ],
   "source": [
    "df_train['BsmtFinType1'].value_counts()"
   ]
  },
  {
   "cell_type": "code",
   "execution_count": 121,
   "id": "97c3efc3",
   "metadata": {},
   "outputs": [
    {
     "data": {
      "text/plain": [
       "Unf    1198\n",
       "Rec      52\n",
       "LwQ      46\n",
       "NA       38\n",
       "BLQ      33\n",
       "ALQ      18\n",
       "GLQ      14\n",
       "Name: BsmtFinType2, dtype: int64"
      ]
     },
     "execution_count": 121,
     "metadata": {},
     "output_type": "execute_result"
    }
   ],
   "source": [
    "df_train['BsmtFinType2'].value_counts()"
   ]
  },
  {
   "cell_type": "code",
   "execution_count": 122,
   "id": "ae922759",
   "metadata": {},
   "outputs": [
    {
     "data": {
      "text/plain": [
       "Unf               1198\n",
       "Fintype2_Other     201\n",
       "Name: BsmtFinType2, dtype: int64"
      ]
     },
     "execution_count": 122,
     "metadata": {},
     "output_type": "execute_result"
    }
   ],
   "source": [
    "fintype2=df_train['BsmtFinType2'].value_counts().iloc[:1].index\n",
    "df_train['BsmtFinType2']=df_train['BsmtFinType2'].apply(lambda b:b if b in fintype2 else 'Fintype2_Other')\n",
    "df_train['BsmtFinType2'].value_counts()"
   ]
  },
  {
   "cell_type": "code",
   "execution_count": 123,
   "id": "f5ea08ef",
   "metadata": {},
   "outputs": [
    {
     "data": {
      "text/plain": [
       "GasA     1368\n",
       "GasW       17\n",
       "Grav        7\n",
       "Wall        4\n",
       "OthW        2\n",
       "Floor       1\n",
       "Name: Heating, dtype: int64"
      ]
     },
     "execution_count": 123,
     "metadata": {},
     "output_type": "execute_result"
    }
   ],
   "source": [
    "df_train['Heating'].value_counts()"
   ]
  },
  {
   "cell_type": "code",
   "execution_count": 124,
   "id": "5e1d4b57",
   "metadata": {},
   "outputs": [
    {
     "data": {
      "text/plain": [
       "GasA             1368\n",
       "Heating_Other      31\n",
       "Name: Heating, dtype: int64"
      ]
     },
     "execution_count": 124,
     "metadata": {},
     "output_type": "execute_result"
    }
   ],
   "source": [
    "heating=df_train['Heating'].value_counts().iloc[:1].index\n",
    "df_train['Heating']=df_train['Heating'].apply(lambda h:h if h in heating else 'Heating_Other')\n",
    "df_train['Heating'].value_counts()"
   ]
  },
  {
   "cell_type": "code",
   "execution_count": 125,
   "id": "f5909627",
   "metadata": {},
   "outputs": [
    {
     "data": {
      "text/plain": [
       "Ex    685\n",
       "TA    426\n",
       "Gd    238\n",
       "Fa     49\n",
       "Po      1\n",
       "Name: HeatingQC, dtype: int64"
      ]
     },
     "execution_count": 125,
     "metadata": {},
     "output_type": "execute_result"
    }
   ],
   "source": [
    "df_train['HeatingQC'].value_counts()"
   ]
  },
  {
   "cell_type": "code",
   "execution_count": 126,
   "id": "f627e08d",
   "metadata": {},
   "outputs": [
    {
     "data": {
      "text/plain": [
       "Y    1304\n",
       "N      95\n",
       "Name: CentralAir, dtype: int64"
      ]
     },
     "execution_count": 126,
     "metadata": {},
     "output_type": "execute_result"
    }
   ],
   "source": [
    "df_train['CentralAir'].value_counts()"
   ]
  },
  {
   "cell_type": "code",
   "execution_count": 127,
   "id": "8594d8e1",
   "metadata": {},
   "outputs": [
    {
     "data": {
      "text/plain": [
       "SBrkr    1274\n",
       "FuseA      94\n",
       "FuseF      27\n",
       "FuseP       3\n",
       "Mix         1\n",
       "Name: Electrical, dtype: int64"
      ]
     },
     "execution_count": 127,
     "metadata": {},
     "output_type": "execute_result"
    }
   ],
   "source": [
    "df_train['Electrical'].value_counts()"
   ]
  },
  {
   "cell_type": "code",
   "execution_count": 128,
   "id": "30d51364",
   "metadata": {},
   "outputs": [
    {
     "data": {
      "text/plain": [
       "SBrkr               1274\n",
       "Electrical_Other     125\n",
       "Name: Electrical, dtype: int64"
      ]
     },
     "execution_count": 128,
     "metadata": {},
     "output_type": "execute_result"
    }
   ],
   "source": [
    "electrical=df_train['Electrical'].value_counts().iloc[:1].index\n",
    "df_train['Electrical']=df_train['Electrical'].apply(lambda e:e if e in electrical else 'Electrical_Other')\n",
    "df_train['Electrical'].value_counts()"
   ]
  },
  {
   "cell_type": "code",
   "execution_count": 129,
   "id": "1792c002",
   "metadata": {},
   "outputs": [
    {
     "data": {
      "text/html": [
       "<div>\n",
       "<style scoped>\n",
       "    .dataframe tbody tr th:only-of-type {\n",
       "        vertical-align: middle;\n",
       "    }\n",
       "\n",
       "    .dataframe tbody tr th {\n",
       "        vertical-align: top;\n",
       "    }\n",
       "\n",
       "    .dataframe thead th {\n",
       "        text-align: right;\n",
       "    }\n",
       "</style>\n",
       "<table border=\"1\" class=\"dataframe\">\n",
       "  <thead>\n",
       "    <tr style=\"text-align: right;\">\n",
       "      <th></th>\n",
       "      <th>0</th>\n",
       "      <th>1</th>\n",
       "      <th>2</th>\n",
       "      <th>3</th>\n",
       "      <th>4</th>\n",
       "      <th>5</th>\n",
       "      <th>6</th>\n",
       "      <th>7</th>\n",
       "      <th>8</th>\n",
       "      <th>9</th>\n",
       "      <th>10</th>\n",
       "      <th>11</th>\n",
       "      <th>12</th>\n",
       "      <th>13</th>\n",
       "      <th>14</th>\n",
       "      <th>15</th>\n",
       "      <th>16</th>\n",
       "      <th>17</th>\n",
       "      <th>18</th>\n",
       "      <th>19</th>\n",
       "    </tr>\n",
       "  </thead>\n",
       "  <tbody>\n",
       "    <tr>\n",
       "      <th>0</th>\n",
       "      <td>0</td>\n",
       "      <td>0</td>\n",
       "      <td>1</td>\n",
       "      <td>0</td>\n",
       "      <td>0</td>\n",
       "      <td>0</td>\n",
       "      <td>0</td>\n",
       "      <td>0</td>\n",
       "      <td>1</td>\n",
       "      <td>1</td>\n",
       "      <td>0</td>\n",
       "      <td>1</td>\n",
       "      <td>0</td>\n",
       "      <td>0</td>\n",
       "      <td>0</td>\n",
       "      <td>0</td>\n",
       "      <td>0</td>\n",
       "      <td>1</td>\n",
       "      <td>0</td>\n",
       "      <td>1</td>\n",
       "    </tr>\n",
       "    <tr>\n",
       "      <th>1</th>\n",
       "      <td>1</td>\n",
       "      <td>0</td>\n",
       "      <td>0</td>\n",
       "      <td>0</td>\n",
       "      <td>0</td>\n",
       "      <td>0</td>\n",
       "      <td>0</td>\n",
       "      <td>0</td>\n",
       "      <td>1</td>\n",
       "      <td>1</td>\n",
       "      <td>0</td>\n",
       "      <td>1</td>\n",
       "      <td>0</td>\n",
       "      <td>0</td>\n",
       "      <td>0</td>\n",
       "      <td>0</td>\n",
       "      <td>0</td>\n",
       "      <td>1</td>\n",
       "      <td>0</td>\n",
       "      <td>1</td>\n",
       "    </tr>\n",
       "    <tr>\n",
       "      <th>2</th>\n",
       "      <td>0</td>\n",
       "      <td>0</td>\n",
       "      <td>1</td>\n",
       "      <td>0</td>\n",
       "      <td>0</td>\n",
       "      <td>0</td>\n",
       "      <td>0</td>\n",
       "      <td>0</td>\n",
       "      <td>1</td>\n",
       "      <td>1</td>\n",
       "      <td>0</td>\n",
       "      <td>1</td>\n",
       "      <td>0</td>\n",
       "      <td>0</td>\n",
       "      <td>0</td>\n",
       "      <td>0</td>\n",
       "      <td>0</td>\n",
       "      <td>1</td>\n",
       "      <td>0</td>\n",
       "      <td>1</td>\n",
       "    </tr>\n",
       "    <tr>\n",
       "      <th>3</th>\n",
       "      <td>1</td>\n",
       "      <td>0</td>\n",
       "      <td>0</td>\n",
       "      <td>0</td>\n",
       "      <td>0</td>\n",
       "      <td>0</td>\n",
       "      <td>0</td>\n",
       "      <td>0</td>\n",
       "      <td>1</td>\n",
       "      <td>1</td>\n",
       "      <td>0</td>\n",
       "      <td>0</td>\n",
       "      <td>0</td>\n",
       "      <td>1</td>\n",
       "      <td>0</td>\n",
       "      <td>0</td>\n",
       "      <td>0</td>\n",
       "      <td>1</td>\n",
       "      <td>0</td>\n",
       "      <td>1</td>\n",
       "    </tr>\n",
       "    <tr>\n",
       "      <th>4</th>\n",
       "      <td>0</td>\n",
       "      <td>0</td>\n",
       "      <td>1</td>\n",
       "      <td>0</td>\n",
       "      <td>0</td>\n",
       "      <td>0</td>\n",
       "      <td>0</td>\n",
       "      <td>0</td>\n",
       "      <td>1</td>\n",
       "      <td>1</td>\n",
       "      <td>0</td>\n",
       "      <td>1</td>\n",
       "      <td>0</td>\n",
       "      <td>0</td>\n",
       "      <td>0</td>\n",
       "      <td>0</td>\n",
       "      <td>0</td>\n",
       "      <td>1</td>\n",
       "      <td>0</td>\n",
       "      <td>1</td>\n",
       "    </tr>\n",
       "  </tbody>\n",
       "</table>\n",
       "</div>"
      ],
      "text/plain": [
       "   0   1   2   3   4   5   6   7   8   9   10  11  12  13  14  15  16  17  18  \\\n",
       "0   0   0   1   0   0   0   0   0   1   1   0   1   0   0   0   0   0   1   0   \n",
       "1   1   0   0   0   0   0   0   0   1   1   0   1   0   0   0   0   0   1   0   \n",
       "2   0   0   1   0   0   0   0   0   1   1   0   1   0   0   0   0   0   1   0   \n",
       "3   1   0   0   0   0   0   0   0   1   1   0   0   0   1   0   0   0   1   0   \n",
       "4   0   0   1   0   0   0   0   0   1   1   0   1   0   0   0   0   0   1   0   \n",
       "\n",
       "   19  \n",
       "0   1  \n",
       "1   1  \n",
       "2   1  \n",
       "3   1  \n",
       "4   1  "
      ]
     },
     "execution_count": 129,
     "metadata": {},
     "output_type": "execute_result"
    }
   ],
   "source": [
    "ohe10=OneHotEncoder(sparse=False)\n",
    "fintypeHeat_enc=ohe10.fit_transform(df_train[['BsmtFinType1','BsmtFinType2','Heating','HeatingQC','CentralAir','Electrical']])\n",
    "fintypeHeat_enc_df=pd.DataFrame(data=fintypeHeat_enc,dtype=int)\n",
    "fintypeHeat_enc_df.head()"
   ]
  },
  {
   "cell_type": "code",
   "execution_count": 130,
   "id": "72455736",
   "metadata": {},
   "outputs": [
    {
     "data": {
      "text/plain": [
       "[array(['ALQ', 'BLQ', 'GLQ', 'LwQ', 'NA', 'Rec', 'Unf'], dtype=object),\n",
       " array(['Fintype2_Other', 'Unf'], dtype=object),\n",
       " array(['GasA', 'Heating_Other'], dtype=object),\n",
       " array(['Ex', 'Fa', 'Gd', 'Po', 'TA'], dtype=object),\n",
       " array(['N', 'Y'], dtype=object),\n",
       " array(['Electrical_Other', 'SBrkr'], dtype=object)]"
      ]
     },
     "execution_count": 130,
     "metadata": {},
     "output_type": "execute_result"
    }
   ],
   "source": [
    "ohe10.categories_"
   ]
  },
  {
   "cell_type": "code",
   "execution_count": 131,
   "id": "d4e211b4",
   "metadata": {},
   "outputs": [],
   "source": [
    "fintypeHeat_enc_df.rename(columns={0:'ALQ_fin1',1:'BLQ_fin1',2:'GLQ_fin1',3:'LwQ_fin1',4:'NA_fin1',5:'Rec_fin1',6:'Unf_fin1',7:'Fintype2_Other', 8:'Unf_fin2',9:'GasA', 10:'Heating_Other',11:'Ex_HQC', 12:'Fa_HQC', 13:'Gd_HQC', 14:'Po_HQC', 15:'TA_HQC',16:'N', 17:'Y', 18:'Electrical_Other', 19:'SBrkr' },inplace=True)"
   ]
  },
  {
   "cell_type": "code",
   "execution_count": 132,
   "id": "d97c3715",
   "metadata": {},
   "outputs": [
    {
     "data": {
      "text/html": [
       "<div>\n",
       "<style scoped>\n",
       "    .dataframe tbody tr th:only-of-type {\n",
       "        vertical-align: middle;\n",
       "    }\n",
       "\n",
       "    .dataframe tbody tr th {\n",
       "        vertical-align: top;\n",
       "    }\n",
       "\n",
       "    .dataframe thead th {\n",
       "        text-align: right;\n",
       "    }\n",
       "</style>\n",
       "<table border=\"1\" class=\"dataframe\">\n",
       "  <thead>\n",
       "    <tr style=\"text-align: right;\">\n",
       "      <th></th>\n",
       "      <th>ALQ_fin1</th>\n",
       "      <th>BLQ_fin1</th>\n",
       "      <th>GLQ_fin1</th>\n",
       "      <th>LwQ_fin1</th>\n",
       "      <th>NA_fin1</th>\n",
       "      <th>Rec_fin1</th>\n",
       "      <th>Unf_fin1</th>\n",
       "      <th>Fintype2_Other</th>\n",
       "      <th>Unf_fin2</th>\n",
       "      <th>GasA</th>\n",
       "      <th>Heating_Other</th>\n",
       "      <th>Ex_HQC</th>\n",
       "      <th>Fa_HQC</th>\n",
       "      <th>Gd_HQC</th>\n",
       "      <th>Po_HQC</th>\n",
       "      <th>TA_HQC</th>\n",
       "      <th>N</th>\n",
       "      <th>Y</th>\n",
       "      <th>Electrical_Other</th>\n",
       "      <th>SBrkr</th>\n",
       "    </tr>\n",
       "  </thead>\n",
       "  <tbody>\n",
       "    <tr>\n",
       "      <th>0</th>\n",
       "      <td>0</td>\n",
       "      <td>0</td>\n",
       "      <td>1</td>\n",
       "      <td>0</td>\n",
       "      <td>0</td>\n",
       "      <td>0</td>\n",
       "      <td>0</td>\n",
       "      <td>0</td>\n",
       "      <td>1</td>\n",
       "      <td>1</td>\n",
       "      <td>0</td>\n",
       "      <td>1</td>\n",
       "      <td>0</td>\n",
       "      <td>0</td>\n",
       "      <td>0</td>\n",
       "      <td>0</td>\n",
       "      <td>0</td>\n",
       "      <td>1</td>\n",
       "      <td>0</td>\n",
       "      <td>1</td>\n",
       "    </tr>\n",
       "    <tr>\n",
       "      <th>1</th>\n",
       "      <td>1</td>\n",
       "      <td>0</td>\n",
       "      <td>0</td>\n",
       "      <td>0</td>\n",
       "      <td>0</td>\n",
       "      <td>0</td>\n",
       "      <td>0</td>\n",
       "      <td>0</td>\n",
       "      <td>1</td>\n",
       "      <td>1</td>\n",
       "      <td>0</td>\n",
       "      <td>1</td>\n",
       "      <td>0</td>\n",
       "      <td>0</td>\n",
       "      <td>0</td>\n",
       "      <td>0</td>\n",
       "      <td>0</td>\n",
       "      <td>1</td>\n",
       "      <td>0</td>\n",
       "      <td>1</td>\n",
       "    </tr>\n",
       "    <tr>\n",
       "      <th>2</th>\n",
       "      <td>0</td>\n",
       "      <td>0</td>\n",
       "      <td>1</td>\n",
       "      <td>0</td>\n",
       "      <td>0</td>\n",
       "      <td>0</td>\n",
       "      <td>0</td>\n",
       "      <td>0</td>\n",
       "      <td>1</td>\n",
       "      <td>1</td>\n",
       "      <td>0</td>\n",
       "      <td>1</td>\n",
       "      <td>0</td>\n",
       "      <td>0</td>\n",
       "      <td>0</td>\n",
       "      <td>0</td>\n",
       "      <td>0</td>\n",
       "      <td>1</td>\n",
       "      <td>0</td>\n",
       "      <td>1</td>\n",
       "    </tr>\n",
       "    <tr>\n",
       "      <th>3</th>\n",
       "      <td>1</td>\n",
       "      <td>0</td>\n",
       "      <td>0</td>\n",
       "      <td>0</td>\n",
       "      <td>0</td>\n",
       "      <td>0</td>\n",
       "      <td>0</td>\n",
       "      <td>0</td>\n",
       "      <td>1</td>\n",
       "      <td>1</td>\n",
       "      <td>0</td>\n",
       "      <td>0</td>\n",
       "      <td>0</td>\n",
       "      <td>1</td>\n",
       "      <td>0</td>\n",
       "      <td>0</td>\n",
       "      <td>0</td>\n",
       "      <td>1</td>\n",
       "      <td>0</td>\n",
       "      <td>1</td>\n",
       "    </tr>\n",
       "    <tr>\n",
       "      <th>4</th>\n",
       "      <td>0</td>\n",
       "      <td>0</td>\n",
       "      <td>1</td>\n",
       "      <td>0</td>\n",
       "      <td>0</td>\n",
       "      <td>0</td>\n",
       "      <td>0</td>\n",
       "      <td>0</td>\n",
       "      <td>1</td>\n",
       "      <td>1</td>\n",
       "      <td>0</td>\n",
       "      <td>1</td>\n",
       "      <td>0</td>\n",
       "      <td>0</td>\n",
       "      <td>0</td>\n",
       "      <td>0</td>\n",
       "      <td>0</td>\n",
       "      <td>1</td>\n",
       "      <td>0</td>\n",
       "      <td>1</td>\n",
       "    </tr>\n",
       "  </tbody>\n",
       "</table>\n",
       "</div>"
      ],
      "text/plain": [
       "   ALQ_fin1  BLQ_fin1  GLQ_fin1  LwQ_fin1  NA_fin1  Rec_fin1  Unf_fin1  \\\n",
       "0         0         0         1         0        0         0         0   \n",
       "1         1         0         0         0        0         0         0   \n",
       "2         0         0         1         0        0         0         0   \n",
       "3         1         0         0         0        0         0         0   \n",
       "4         0         0         1         0        0         0         0   \n",
       "\n",
       "   Fintype2_Other  Unf_fin2  GasA  Heating_Other  Ex_HQC  Fa_HQC  Gd_HQC  \\\n",
       "0               0         1     1              0       1       0       0   \n",
       "1               0         1     1              0       1       0       0   \n",
       "2               0         1     1              0       1       0       0   \n",
       "3               0         1     1              0       0       0       1   \n",
       "4               0         1     1              0       1       0       0   \n",
       "\n",
       "   Po_HQC  TA_HQC  N  Y  Electrical_Other  SBrkr  \n",
       "0       0       0  0  1                 0      1  \n",
       "1       0       0  0  1                 0      1  \n",
       "2       0       0  0  1                 0      1  \n",
       "3       0       0  0  1                 0      1  \n",
       "4       0       0  0  1                 0      1  "
      ]
     },
     "execution_count": 132,
     "metadata": {},
     "output_type": "execute_result"
    }
   ],
   "source": [
    "fintypeHeat_enc_df.head()"
   ]
  },
  {
   "cell_type": "markdown",
   "id": "58869946",
   "metadata": {},
   "source": [
    "## Encoding of KitchenQual,Functional,FireplaceQu,GarageType,GarageFinish,GarageQual,GarageCond"
   ]
  },
  {
   "cell_type": "code",
   "execution_count": 133,
   "id": "4f14a63f",
   "metadata": {},
   "outputs": [
    {
     "data": {
      "text/plain": [
       "TA    733\n",
       "Gd    565\n",
       "Ex     62\n",
       "Fa     39\n",
       "Name: KitchenQual, dtype: int64"
      ]
     },
     "execution_count": 133,
     "metadata": {},
     "output_type": "execute_result"
    }
   ],
   "source": [
    "df_train['KitchenQual'].value_counts()"
   ]
  },
  {
   "cell_type": "code",
   "execution_count": 134,
   "id": "ca1a86a1",
   "metadata": {},
   "outputs": [
    {
     "data": {
      "text/plain": [
       "Typ     1300\n",
       "Min2      34\n",
       "Min1      31\n",
       "Maj1      14\n",
       "Mod       14\n",
       "Maj2       5\n",
       "Sev        1\n",
       "Name: Functional, dtype: int64"
      ]
     },
     "execution_count": 134,
     "metadata": {},
     "output_type": "execute_result"
    }
   ],
   "source": [
    "df_train['Functional'].value_counts()"
   ]
  },
  {
   "cell_type": "code",
   "execution_count": 135,
   "id": "3017e348",
   "metadata": {},
   "outputs": [
    {
     "data": {
      "text/plain": [
       "Typ                 1300\n",
       "Functional_Other      99\n",
       "Name: Functional, dtype: int64"
      ]
     },
     "execution_count": 135,
     "metadata": {},
     "output_type": "execute_result"
    }
   ],
   "source": [
    "functional=df_train['Functional'].value_counts().iloc[:1].index\n",
    "df_train['Functional']=df_train['Functional'].apply(lambda f:f if f in functional else 'Functional_Other')\n",
    "df_train['Functional'].value_counts()"
   ]
  },
  {
   "cell_type": "code",
   "execution_count": 136,
   "id": "7bb6b396",
   "metadata": {},
   "outputs": [
    {
     "data": {
      "text/plain": [
       "NA    689\n",
       "Gd    340\n",
       "TA    303\n",
       "Fa     33\n",
       "Po     20\n",
       "Ex     14\n",
       "Name: FireplaceQu, dtype: int64"
      ]
     },
     "execution_count": 136,
     "metadata": {},
     "output_type": "execute_result"
    }
   ],
   "source": [
    "df_train['FireplaceQu'].value_counts()"
   ]
  },
  {
   "cell_type": "code",
   "execution_count": 137,
   "id": "c0cea5c9",
   "metadata": {},
   "outputs": [
    {
     "data": {
      "text/plain": [
       "NA                 689\n",
       "Gd                 340\n",
       "TA                 303\n",
       "Fireplace_Other     67\n",
       "Name: FireplaceQu, dtype: int64"
      ]
     },
     "execution_count": 137,
     "metadata": {},
     "output_type": "execute_result"
    }
   ],
   "source": [
    "fireplace=df_train['FireplaceQu'].value_counts().iloc[:3].index\n",
    "df_train['FireplaceQu']=df_train['FireplaceQu'].apply(lambda f:f if f in fireplace else 'Fireplace_Other')\n",
    "df_train['FireplaceQu'].value_counts()"
   ]
  },
  {
   "cell_type": "code",
   "execution_count": 138,
   "id": "571b09b0",
   "metadata": {},
   "outputs": [
    {
     "data": {
      "text/plain": [
       "Attchd     826\n",
       "Detchd     386\n",
       "NA          81\n",
       "BuiltIn     73\n",
       "Basment     18\n",
       "CarPort      9\n",
       "2Types       6\n",
       "Name: GarageType, dtype: int64"
      ]
     },
     "execution_count": 138,
     "metadata": {},
     "output_type": "execute_result"
    }
   ],
   "source": [
    "df_train['GarageType'].value_counts()"
   ]
  },
  {
   "cell_type": "code",
   "execution_count": 139,
   "id": "78d2c79d",
   "metadata": {},
   "outputs": [
    {
     "data": {
      "text/plain": [
       "Attchd              826\n",
       "Detchd              386\n",
       "Garagetype_Other    187\n",
       "Name: GarageType, dtype: int64"
      ]
     },
     "execution_count": 139,
     "metadata": {},
     "output_type": "execute_result"
    }
   ],
   "source": [
    "garage=df_train['GarageType'].value_counts().iloc[:2].index\n",
    "df_train['GarageType']=df_train['GarageType'].apply(lambda g:g if g in garage else 'Garagetype_Other')\n",
    "df_train['GarageType'].value_counts()"
   ]
  },
  {
   "cell_type": "code",
   "execution_count": 140,
   "id": "7338e988",
   "metadata": {},
   "outputs": [
    {
     "data": {
      "text/plain": [
       "Unf    602\n",
       "RFn    409\n",
       "Fin    307\n",
       "NA      81\n",
       "Name: GarageFinish, dtype: int64"
      ]
     },
     "execution_count": 140,
     "metadata": {},
     "output_type": "execute_result"
    }
   ],
   "source": [
    "df_train['GarageFinish'].value_counts()"
   ]
  },
  {
   "cell_type": "code",
   "execution_count": 141,
   "id": "83402525",
   "metadata": {},
   "outputs": [
    {
     "data": {
      "text/plain": [
       "TA    1251\n",
       "NA      81\n",
       "Fa      48\n",
       "Gd      14\n",
       "Po       3\n",
       "Ex       2\n",
       "Name: GarageQual, dtype: int64"
      ]
     },
     "execution_count": 141,
     "metadata": {},
     "output_type": "execute_result"
    }
   ],
   "source": [
    "df_train['GarageQual'].value_counts()"
   ]
  },
  {
   "cell_type": "code",
   "execution_count": 142,
   "id": "5969319f",
   "metadata": {},
   "outputs": [
    {
     "data": {
      "text/plain": [
       "TA                  1251\n",
       "GarageQaul_Other     148\n",
       "Name: GarageQual, dtype: int64"
      ]
     },
     "execution_count": 142,
     "metadata": {},
     "output_type": "execute_result"
    }
   ],
   "source": [
    "garagequal=df_train['GarageQual'].value_counts().iloc[:1].index\n",
    "df_train['GarageQual']=df_train['GarageQual'].apply(lambda g:g if g in garagequal else 'GarageQaul_Other')\n",
    "df_train['GarageQual'].value_counts()"
   ]
  },
  {
   "cell_type": "code",
   "execution_count": 143,
   "id": "8edb1d9d",
   "metadata": {},
   "outputs": [
    {
     "data": {
      "text/plain": [
       "TA    1265\n",
       "NA      81\n",
       "Fa      35\n",
       "Gd       9\n",
       "Po       7\n",
       "Ex       2\n",
       "Name: GarageCond, dtype: int64"
      ]
     },
     "execution_count": 143,
     "metadata": {},
     "output_type": "execute_result"
    }
   ],
   "source": [
    "df_train['GarageCond'].value_counts()"
   ]
  },
  {
   "cell_type": "code",
   "execution_count": 144,
   "id": "6cf859b7",
   "metadata": {},
   "outputs": [
    {
     "data": {
      "text/plain": [
       "TA                  1265\n",
       "GarageCond_Other     134\n",
       "Name: GarageCond, dtype: int64"
      ]
     },
     "execution_count": 144,
     "metadata": {},
     "output_type": "execute_result"
    }
   ],
   "source": [
    "garagecond=df_train['GarageCond'].value_counts().iloc[:1].index\n",
    "df_train['GarageCond']=df_train['GarageCond'].apply(lambda g:g if g in garagecond else 'GarageCond_Other')\n",
    "df_train['GarageCond'].value_counts()"
   ]
  },
  {
   "cell_type": "code",
   "execution_count": 145,
   "id": "c6571478",
   "metadata": {},
   "outputs": [
    {
     "data": {
      "text/html": [
       "<div>\n",
       "<style scoped>\n",
       "    .dataframe tbody tr th:only-of-type {\n",
       "        vertical-align: middle;\n",
       "    }\n",
       "\n",
       "    .dataframe tbody tr th {\n",
       "        vertical-align: top;\n",
       "    }\n",
       "\n",
       "    .dataframe thead th {\n",
       "        text-align: right;\n",
       "    }\n",
       "</style>\n",
       "<table border=\"1\" class=\"dataframe\">\n",
       "  <thead>\n",
       "    <tr style=\"text-align: right;\">\n",
       "      <th></th>\n",
       "      <th>0</th>\n",
       "      <th>1</th>\n",
       "      <th>2</th>\n",
       "      <th>3</th>\n",
       "      <th>4</th>\n",
       "      <th>5</th>\n",
       "      <th>6</th>\n",
       "      <th>7</th>\n",
       "      <th>8</th>\n",
       "      <th>9</th>\n",
       "      <th>...</th>\n",
       "      <th>11</th>\n",
       "      <th>12</th>\n",
       "      <th>13</th>\n",
       "      <th>14</th>\n",
       "      <th>15</th>\n",
       "      <th>16</th>\n",
       "      <th>17</th>\n",
       "      <th>18</th>\n",
       "      <th>19</th>\n",
       "      <th>20</th>\n",
       "    </tr>\n",
       "  </thead>\n",
       "  <tbody>\n",
       "    <tr>\n",
       "      <th>0</th>\n",
       "      <td>0</td>\n",
       "      <td>0</td>\n",
       "      <td>1</td>\n",
       "      <td>0</td>\n",
       "      <td>0</td>\n",
       "      <td>1</td>\n",
       "      <td>0</td>\n",
       "      <td>0</td>\n",
       "      <td>1</td>\n",
       "      <td>0</td>\n",
       "      <td>...</td>\n",
       "      <td>0</td>\n",
       "      <td>0</td>\n",
       "      <td>0</td>\n",
       "      <td>0</td>\n",
       "      <td>1</td>\n",
       "      <td>0</td>\n",
       "      <td>0</td>\n",
       "      <td>1</td>\n",
       "      <td>0</td>\n",
       "      <td>1</td>\n",
       "    </tr>\n",
       "    <tr>\n",
       "      <th>1</th>\n",
       "      <td>0</td>\n",
       "      <td>0</td>\n",
       "      <td>0</td>\n",
       "      <td>1</td>\n",
       "      <td>0</td>\n",
       "      <td>1</td>\n",
       "      <td>0</td>\n",
       "      <td>0</td>\n",
       "      <td>0</td>\n",
       "      <td>1</td>\n",
       "      <td>...</td>\n",
       "      <td>0</td>\n",
       "      <td>0</td>\n",
       "      <td>0</td>\n",
       "      <td>0</td>\n",
       "      <td>1</td>\n",
       "      <td>0</td>\n",
       "      <td>0</td>\n",
       "      <td>1</td>\n",
       "      <td>0</td>\n",
       "      <td>1</td>\n",
       "    </tr>\n",
       "    <tr>\n",
       "      <th>2</th>\n",
       "      <td>0</td>\n",
       "      <td>0</td>\n",
       "      <td>1</td>\n",
       "      <td>0</td>\n",
       "      <td>0</td>\n",
       "      <td>1</td>\n",
       "      <td>0</td>\n",
       "      <td>0</td>\n",
       "      <td>0</td>\n",
       "      <td>1</td>\n",
       "      <td>...</td>\n",
       "      <td>0</td>\n",
       "      <td>0</td>\n",
       "      <td>0</td>\n",
       "      <td>0</td>\n",
       "      <td>1</td>\n",
       "      <td>0</td>\n",
       "      <td>0</td>\n",
       "      <td>1</td>\n",
       "      <td>0</td>\n",
       "      <td>1</td>\n",
       "    </tr>\n",
       "    <tr>\n",
       "      <th>3</th>\n",
       "      <td>0</td>\n",
       "      <td>0</td>\n",
       "      <td>1</td>\n",
       "      <td>0</td>\n",
       "      <td>0</td>\n",
       "      <td>1</td>\n",
       "      <td>0</td>\n",
       "      <td>1</td>\n",
       "      <td>0</td>\n",
       "      <td>0</td>\n",
       "      <td>...</td>\n",
       "      <td>1</td>\n",
       "      <td>0</td>\n",
       "      <td>0</td>\n",
       "      <td>0</td>\n",
       "      <td>0</td>\n",
       "      <td>1</td>\n",
       "      <td>0</td>\n",
       "      <td>1</td>\n",
       "      <td>0</td>\n",
       "      <td>1</td>\n",
       "    </tr>\n",
       "    <tr>\n",
       "      <th>4</th>\n",
       "      <td>0</td>\n",
       "      <td>0</td>\n",
       "      <td>1</td>\n",
       "      <td>0</td>\n",
       "      <td>0</td>\n",
       "      <td>1</td>\n",
       "      <td>0</td>\n",
       "      <td>0</td>\n",
       "      <td>0</td>\n",
       "      <td>1</td>\n",
       "      <td>...</td>\n",
       "      <td>0</td>\n",
       "      <td>0</td>\n",
       "      <td>0</td>\n",
       "      <td>0</td>\n",
       "      <td>1</td>\n",
       "      <td>0</td>\n",
       "      <td>0</td>\n",
       "      <td>1</td>\n",
       "      <td>0</td>\n",
       "      <td>1</td>\n",
       "    </tr>\n",
       "  </tbody>\n",
       "</table>\n",
       "<p>5 rows × 21 columns</p>\n",
       "</div>"
      ],
      "text/plain": [
       "   0   1   2   3   4   5   6   7   8   9   ...  11  12  13  14  15  16  17  \\\n",
       "0   0   0   1   0   0   1   0   0   1   0  ...   0   0   0   0   1   0   0   \n",
       "1   0   0   0   1   0   1   0   0   0   1  ...   0   0   0   0   1   0   0   \n",
       "2   0   0   1   0   0   1   0   0   0   1  ...   0   0   0   0   1   0   0   \n",
       "3   0   0   1   0   0   1   0   1   0   0  ...   1   0   0   0   0   1   0   \n",
       "4   0   0   1   0   0   1   0   0   0   1  ...   0   0   0   0   1   0   0   \n",
       "\n",
       "   18  19  20  \n",
       "0   1   0   1  \n",
       "1   1   0   1  \n",
       "2   1   0   1  \n",
       "3   1   0   1  \n",
       "4   1   0   1  \n",
       "\n",
       "[5 rows x 21 columns]"
      ]
     },
     "execution_count": 145,
     "metadata": {},
     "output_type": "execute_result"
    }
   ],
   "source": [
    "ohe11=OneHotEncoder(sparse=False)\n",
    "kitchenGarage_enc=ohe11.fit_transform(df_train[['KitchenQual','Functional','FireplaceQu','GarageType','GarageFinish','GarageQual','GarageCond']])\n",
    "kitchenGarage_enc_df=pd.DataFrame(data=kitchenGarage_enc,dtype=int)\n",
    "kitchenGarage_enc_df.head()"
   ]
  },
  {
   "cell_type": "code",
   "execution_count": 146,
   "id": "e4643532",
   "metadata": {},
   "outputs": [
    {
     "data": {
      "text/plain": [
       "[array(['Ex', 'Fa', 'Gd', 'TA'], dtype=object),\n",
       " array(['Functional_Other', 'Typ'], dtype=object),\n",
       " array(['Fireplace_Other', 'Gd', 'NA', 'TA'], dtype=object),\n",
       " array(['Attchd', 'Detchd', 'Garagetype_Other'], dtype=object),\n",
       " array(['Fin', 'NA', 'RFn', 'Unf'], dtype=object),\n",
       " array(['GarageQaul_Other', 'TA'], dtype=object),\n",
       " array(['GarageCond_Other', 'TA'], dtype=object)]"
      ]
     },
     "execution_count": 146,
     "metadata": {},
     "output_type": "execute_result"
    }
   ],
   "source": [
    "ohe11.categories_"
   ]
  },
  {
   "cell_type": "code",
   "execution_count": 147,
   "id": "0bcef109",
   "metadata": {},
   "outputs": [
    {
     "data": {
      "text/html": [
       "<div>\n",
       "<style scoped>\n",
       "    .dataframe tbody tr th:only-of-type {\n",
       "        vertical-align: middle;\n",
       "    }\n",
       "\n",
       "    .dataframe tbody tr th {\n",
       "        vertical-align: top;\n",
       "    }\n",
       "\n",
       "    .dataframe thead th {\n",
       "        text-align: right;\n",
       "    }\n",
       "</style>\n",
       "<table border=\"1\" class=\"dataframe\">\n",
       "  <thead>\n",
       "    <tr style=\"text-align: right;\">\n",
       "      <th></th>\n",
       "      <th>Ex_K</th>\n",
       "      <th>Fa_K</th>\n",
       "      <th>Gd_K</th>\n",
       "      <th>TA_K</th>\n",
       "      <th>Functional_Other</th>\n",
       "      <th>Functional_Typ</th>\n",
       "      <th>Fireplace_Other</th>\n",
       "      <th>Gd_Fire</th>\n",
       "      <th>NA_Fire</th>\n",
       "      <th>TA_Fire</th>\n",
       "      <th>...</th>\n",
       "      <th>Detchd</th>\n",
       "      <th>Garagetype_Other</th>\n",
       "      <th>Fin_FireQu</th>\n",
       "      <th>NA_FireQu</th>\n",
       "      <th>RFn_FireQu</th>\n",
       "      <th>Unf_FireQu</th>\n",
       "      <th>GarageQaul_Other</th>\n",
       "      <th>TA_GarageQual</th>\n",
       "      <th>GarageCond_Other</th>\n",
       "      <th>TA_GarageCond</th>\n",
       "    </tr>\n",
       "  </thead>\n",
       "  <tbody>\n",
       "    <tr>\n",
       "      <th>0</th>\n",
       "      <td>0</td>\n",
       "      <td>0</td>\n",
       "      <td>1</td>\n",
       "      <td>0</td>\n",
       "      <td>0</td>\n",
       "      <td>1</td>\n",
       "      <td>0</td>\n",
       "      <td>0</td>\n",
       "      <td>1</td>\n",
       "      <td>0</td>\n",
       "      <td>...</td>\n",
       "      <td>0</td>\n",
       "      <td>0</td>\n",
       "      <td>0</td>\n",
       "      <td>0</td>\n",
       "      <td>1</td>\n",
       "      <td>0</td>\n",
       "      <td>0</td>\n",
       "      <td>1</td>\n",
       "      <td>0</td>\n",
       "      <td>1</td>\n",
       "    </tr>\n",
       "    <tr>\n",
       "      <th>1</th>\n",
       "      <td>0</td>\n",
       "      <td>0</td>\n",
       "      <td>0</td>\n",
       "      <td>1</td>\n",
       "      <td>0</td>\n",
       "      <td>1</td>\n",
       "      <td>0</td>\n",
       "      <td>0</td>\n",
       "      <td>0</td>\n",
       "      <td>1</td>\n",
       "      <td>...</td>\n",
       "      <td>0</td>\n",
       "      <td>0</td>\n",
       "      <td>0</td>\n",
       "      <td>0</td>\n",
       "      <td>1</td>\n",
       "      <td>0</td>\n",
       "      <td>0</td>\n",
       "      <td>1</td>\n",
       "      <td>0</td>\n",
       "      <td>1</td>\n",
       "    </tr>\n",
       "    <tr>\n",
       "      <th>2</th>\n",
       "      <td>0</td>\n",
       "      <td>0</td>\n",
       "      <td>1</td>\n",
       "      <td>0</td>\n",
       "      <td>0</td>\n",
       "      <td>1</td>\n",
       "      <td>0</td>\n",
       "      <td>0</td>\n",
       "      <td>0</td>\n",
       "      <td>1</td>\n",
       "      <td>...</td>\n",
       "      <td>0</td>\n",
       "      <td>0</td>\n",
       "      <td>0</td>\n",
       "      <td>0</td>\n",
       "      <td>1</td>\n",
       "      <td>0</td>\n",
       "      <td>0</td>\n",
       "      <td>1</td>\n",
       "      <td>0</td>\n",
       "      <td>1</td>\n",
       "    </tr>\n",
       "    <tr>\n",
       "      <th>3</th>\n",
       "      <td>0</td>\n",
       "      <td>0</td>\n",
       "      <td>1</td>\n",
       "      <td>0</td>\n",
       "      <td>0</td>\n",
       "      <td>1</td>\n",
       "      <td>0</td>\n",
       "      <td>1</td>\n",
       "      <td>0</td>\n",
       "      <td>0</td>\n",
       "      <td>...</td>\n",
       "      <td>1</td>\n",
       "      <td>0</td>\n",
       "      <td>0</td>\n",
       "      <td>0</td>\n",
       "      <td>0</td>\n",
       "      <td>1</td>\n",
       "      <td>0</td>\n",
       "      <td>1</td>\n",
       "      <td>0</td>\n",
       "      <td>1</td>\n",
       "    </tr>\n",
       "    <tr>\n",
       "      <th>4</th>\n",
       "      <td>0</td>\n",
       "      <td>0</td>\n",
       "      <td>1</td>\n",
       "      <td>0</td>\n",
       "      <td>0</td>\n",
       "      <td>1</td>\n",
       "      <td>0</td>\n",
       "      <td>0</td>\n",
       "      <td>0</td>\n",
       "      <td>1</td>\n",
       "      <td>...</td>\n",
       "      <td>0</td>\n",
       "      <td>0</td>\n",
       "      <td>0</td>\n",
       "      <td>0</td>\n",
       "      <td>1</td>\n",
       "      <td>0</td>\n",
       "      <td>0</td>\n",
       "      <td>1</td>\n",
       "      <td>0</td>\n",
       "      <td>1</td>\n",
       "    </tr>\n",
       "  </tbody>\n",
       "</table>\n",
       "<p>5 rows × 21 columns</p>\n",
       "</div>"
      ],
      "text/plain": [
       "   Ex_K  Fa_K  Gd_K  TA_K  Functional_Other  Functional_Typ  Fireplace_Other  \\\n",
       "0     0     0     1     0                 0               1                0   \n",
       "1     0     0     0     1                 0               1                0   \n",
       "2     0     0     1     0                 0               1                0   \n",
       "3     0     0     1     0                 0               1                0   \n",
       "4     0     0     1     0                 0               1                0   \n",
       "\n",
       "   Gd_Fire  NA_Fire  TA_Fire  ...  Detchd  Garagetype_Other  Fin_FireQu  \\\n",
       "0        0        1        0  ...       0                 0           0   \n",
       "1        0        0        1  ...       0                 0           0   \n",
       "2        0        0        1  ...       0                 0           0   \n",
       "3        1        0        0  ...       1                 0           0   \n",
       "4        0        0        1  ...       0                 0           0   \n",
       "\n",
       "   NA_FireQu  RFn_FireQu  Unf_FireQu  GarageQaul_Other  TA_GarageQual  \\\n",
       "0          0           1           0                 0              1   \n",
       "1          0           1           0                 0              1   \n",
       "2          0           1           0                 0              1   \n",
       "3          0           0           1                 0              1   \n",
       "4          0           1           0                 0              1   \n",
       "\n",
       "   GarageCond_Other  TA_GarageCond  \n",
       "0                 0              1  \n",
       "1                 0              1  \n",
       "2                 0              1  \n",
       "3                 0              1  \n",
       "4                 0              1  \n",
       "\n",
       "[5 rows x 21 columns]"
      ]
     },
     "execution_count": 147,
     "metadata": {},
     "output_type": "execute_result"
    }
   ],
   "source": [
    "kitchenGarage_enc_df.rename(columns={0:'Ex_K', 1:'Fa_K', 2:'Gd_K', 3:'TA_K',4:'Functional_Other', 5:'Functional_Typ',6:'Fireplace_Other', 7:'Gd_Fire', 8:'NA_Fire', 9:'TA_Fire',10:'Attchd',11:'Detchd', 12:'Garagetype_Other',13:'Fin_FireQu', 14:'NA_FireQu', 15:'RFn_FireQu',16:'Unf_FireQu',17:'GarageQaul_Other', 18:'TA_GarageQual',19:'GarageCond_Other',20:'TA_GarageCond'},inplace=True)\n",
    "kitchenGarage_enc_df.head()"
   ]
  },
  {
   "cell_type": "markdown",
   "id": "e5df216c",
   "metadata": {},
   "source": [
    "## Encoding of 'PavedDrive','PoolQC','Fence','MiscFeature','SaleType','SaleCondition'"
   ]
  },
  {
   "cell_type": "code",
   "execution_count": 148,
   "id": "307d8d0c",
   "metadata": {},
   "outputs": [
    {
     "data": {
      "text/plain": [
       "Y    1279\n",
       "N      90\n",
       "P      30\n",
       "Name: PavedDrive, dtype: int64"
      ]
     },
     "execution_count": 148,
     "metadata": {},
     "output_type": "execute_result"
    }
   ],
   "source": [
    "df_train['PavedDrive'].value_counts()"
   ]
  },
  {
   "cell_type": "code",
   "execution_count": 149,
   "id": "2e13e980",
   "metadata": {},
   "outputs": [
    {
     "data": {
      "text/plain": [
       "NA    1393\n",
       "Gd       3\n",
       "Fa       2\n",
       "Ex       1\n",
       "Name: PoolQC, dtype: int64"
      ]
     },
     "execution_count": 149,
     "metadata": {},
     "output_type": "execute_result"
    }
   ],
   "source": [
    "df_train['PoolQC'].value_counts()"
   ]
  },
  {
   "cell_type": "code",
   "execution_count": 150,
   "id": "c0a34e8f",
   "metadata": {},
   "outputs": [
    {
     "data": {
      "text/plain": [
       "NA            1393\n",
       "Pool_Other       6\n",
       "Name: PoolQC, dtype: int64"
      ]
     },
     "execution_count": 150,
     "metadata": {},
     "output_type": "execute_result"
    }
   ],
   "source": [
    "pool=df_train['PoolQC'].value_counts().iloc[:1].index\n",
    "df_train['PoolQC']=df_train['PoolQC'].apply(lambda p:p if p in pool else 'Pool_Other')\n",
    "df_train['PoolQC'].value_counts()"
   ]
  },
  {
   "cell_type": "code",
   "execution_count": 151,
   "id": "dada1792",
   "metadata": {},
   "outputs": [
    {
     "data": {
      "text/plain": [
       "NA       1122\n",
       "MnPrv     155\n",
       "GdPrv      58\n",
       "GdWo       53\n",
       "MnWw       11\n",
       "Name: Fence, dtype: int64"
      ]
     },
     "execution_count": 151,
     "metadata": {},
     "output_type": "execute_result"
    }
   ],
   "source": [
    "df_train['Fence'].value_counts()"
   ]
  },
  {
   "cell_type": "code",
   "execution_count": 152,
   "id": "dfeb617f",
   "metadata": {},
   "outputs": [
    {
     "data": {
      "text/plain": [
       "NA             1122\n",
       "Fence_Other     277\n",
       "Name: Fence, dtype: int64"
      ]
     },
     "execution_count": 152,
     "metadata": {},
     "output_type": "execute_result"
    }
   ],
   "source": [
    "fence=df_train['Fence'].value_counts().iloc[:1].index\n",
    "df_train['Fence']=df_train['Fence'].apply(lambda f:f if f in fence else 'Fence_Other')\n",
    "df_train['Fence'].value_counts()"
   ]
  },
  {
   "cell_type": "code",
   "execution_count": 153,
   "id": "eb33b428",
   "metadata": {},
   "outputs": [
    {
     "data": {
      "text/plain": [
       "NA      1345\n",
       "Shed      49\n",
       "Othr       2\n",
       "Gar2       2\n",
       "TenC       1\n",
       "Name: MiscFeature, dtype: int64"
      ]
     },
     "execution_count": 153,
     "metadata": {},
     "output_type": "execute_result"
    }
   ],
   "source": [
    "df_train['MiscFeature'].value_counts()"
   ]
  },
  {
   "cell_type": "code",
   "execution_count": 154,
   "id": "f4675138",
   "metadata": {},
   "outputs": [
    {
     "data": {
      "text/plain": [
       "NA            1345\n",
       "Misc_Other      54\n",
       "Name: MiscFeature, dtype: int64"
      ]
     },
     "execution_count": 154,
     "metadata": {},
     "output_type": "execute_result"
    }
   ],
   "source": [
    "misc=df_train['MiscFeature'].value_counts().iloc[:1].index\n",
    "df_train['MiscFeature']=df_train['MiscFeature'].apply(lambda m:m if m in misc else 'Misc_Other')\n",
    "df_train['MiscFeature'].value_counts()"
   ]
  },
  {
   "cell_type": "code",
   "execution_count": 155,
   "id": "b34e21af",
   "metadata": {},
   "outputs": [
    {
     "data": {
      "text/plain": [
       "WD       1238\n",
       "New        91\n",
       "COD        43\n",
       "ConLD       9\n",
       "ConLw       5\n",
       "CWD         4\n",
       "ConLI       4\n",
       "Oth         3\n",
       "Con         2\n",
       "Name: SaleType, dtype: int64"
      ]
     },
     "execution_count": 155,
     "metadata": {},
     "output_type": "execute_result"
    }
   ],
   "source": [
    "df_train['SaleType'].value_counts()"
   ]
  },
  {
   "cell_type": "code",
   "execution_count": 156,
   "id": "5a870827",
   "metadata": {},
   "outputs": [
    {
     "data": {
      "text/plain": [
       "WD                1238\n",
       "SaleType_Other     161\n",
       "Name: SaleType, dtype: int64"
      ]
     },
     "execution_count": 156,
     "metadata": {},
     "output_type": "execute_result"
    }
   ],
   "source": [
    "saletype=df_train['SaleType'].value_counts().iloc[:1].index\n",
    "df_train['SaleType']=df_train['SaleType'].apply(lambda s:s if s in saletype else 'SaleType_Other')\n",
    "df_train['SaleType'].value_counts()"
   ]
  },
  {
   "cell_type": "code",
   "execution_count": 157,
   "id": "57fd8d9b",
   "metadata": {},
   "outputs": [
    {
     "data": {
      "text/plain": [
       "Normal     1170\n",
       "Abnorml     100\n",
       "Partial      94\n",
       "Family       20\n",
       "Alloca       11\n",
       "AdjLand       4\n",
       "Name: SaleCondition, dtype: int64"
      ]
     },
     "execution_count": 157,
     "metadata": {},
     "output_type": "execute_result"
    }
   ],
   "source": [
    "df_train['SaleCondition'].value_counts()"
   ]
  },
  {
   "cell_type": "code",
   "execution_count": 158,
   "id": "bb004e3d",
   "metadata": {},
   "outputs": [
    {
     "data": {
      "text/plain": [
       "Normal            1170\n",
       "SaleCond_Other     229\n",
       "Name: SaleCondition, dtype: int64"
      ]
     },
     "execution_count": 158,
     "metadata": {},
     "output_type": "execute_result"
    }
   ],
   "source": [
    "salecond=df_train['SaleCondition'].value_counts().iloc[:1].index\n",
    "df_train['SaleCondition']=df_train['SaleCondition'].apply(lambda s:s if s in salecond else 'SaleCond_Other')\n",
    "df_train['SaleCondition'].value_counts()"
   ]
  },
  {
   "cell_type": "code",
   "execution_count": 159,
   "id": "c85557b9",
   "metadata": {},
   "outputs": [
    {
     "data": {
      "text/html": [
       "<div>\n",
       "<style scoped>\n",
       "    .dataframe tbody tr th:only-of-type {\n",
       "        vertical-align: middle;\n",
       "    }\n",
       "\n",
       "    .dataframe tbody tr th {\n",
       "        vertical-align: top;\n",
       "    }\n",
       "\n",
       "    .dataframe thead th {\n",
       "        text-align: right;\n",
       "    }\n",
       "</style>\n",
       "<table border=\"1\" class=\"dataframe\">\n",
       "  <thead>\n",
       "    <tr style=\"text-align: right;\">\n",
       "      <th></th>\n",
       "      <th>0</th>\n",
       "      <th>1</th>\n",
       "      <th>2</th>\n",
       "      <th>3</th>\n",
       "      <th>4</th>\n",
       "      <th>5</th>\n",
       "      <th>6</th>\n",
       "      <th>7</th>\n",
       "      <th>8</th>\n",
       "      <th>9</th>\n",
       "      <th>10</th>\n",
       "      <th>11</th>\n",
       "      <th>12</th>\n",
       "    </tr>\n",
       "  </thead>\n",
       "  <tbody>\n",
       "    <tr>\n",
       "      <th>0</th>\n",
       "      <td>0</td>\n",
       "      <td>0</td>\n",
       "      <td>1</td>\n",
       "      <td>1</td>\n",
       "      <td>0</td>\n",
       "      <td>0</td>\n",
       "      <td>1</td>\n",
       "      <td>0</td>\n",
       "      <td>1</td>\n",
       "      <td>0</td>\n",
       "      <td>1</td>\n",
       "      <td>1</td>\n",
       "      <td>0</td>\n",
       "    </tr>\n",
       "    <tr>\n",
       "      <th>1</th>\n",
       "      <td>0</td>\n",
       "      <td>0</td>\n",
       "      <td>1</td>\n",
       "      <td>1</td>\n",
       "      <td>0</td>\n",
       "      <td>0</td>\n",
       "      <td>1</td>\n",
       "      <td>0</td>\n",
       "      <td>1</td>\n",
       "      <td>0</td>\n",
       "      <td>1</td>\n",
       "      <td>1</td>\n",
       "      <td>0</td>\n",
       "    </tr>\n",
       "    <tr>\n",
       "      <th>2</th>\n",
       "      <td>0</td>\n",
       "      <td>0</td>\n",
       "      <td>1</td>\n",
       "      <td>1</td>\n",
       "      <td>0</td>\n",
       "      <td>0</td>\n",
       "      <td>1</td>\n",
       "      <td>0</td>\n",
       "      <td>1</td>\n",
       "      <td>0</td>\n",
       "      <td>1</td>\n",
       "      <td>1</td>\n",
       "      <td>0</td>\n",
       "    </tr>\n",
       "    <tr>\n",
       "      <th>3</th>\n",
       "      <td>0</td>\n",
       "      <td>0</td>\n",
       "      <td>1</td>\n",
       "      <td>1</td>\n",
       "      <td>0</td>\n",
       "      <td>0</td>\n",
       "      <td>1</td>\n",
       "      <td>0</td>\n",
       "      <td>1</td>\n",
       "      <td>0</td>\n",
       "      <td>1</td>\n",
       "      <td>0</td>\n",
       "      <td>1</td>\n",
       "    </tr>\n",
       "    <tr>\n",
       "      <th>4</th>\n",
       "      <td>0</td>\n",
       "      <td>0</td>\n",
       "      <td>1</td>\n",
       "      <td>1</td>\n",
       "      <td>0</td>\n",
       "      <td>0</td>\n",
       "      <td>1</td>\n",
       "      <td>0</td>\n",
       "      <td>1</td>\n",
       "      <td>0</td>\n",
       "      <td>1</td>\n",
       "      <td>1</td>\n",
       "      <td>0</td>\n",
       "    </tr>\n",
       "  </tbody>\n",
       "</table>\n",
       "</div>"
      ],
      "text/plain": [
       "   0   1   2   3   4   5   6   7   8   9   10  11  12\n",
       "0   0   0   1   1   0   0   1   0   1   0   1   1   0\n",
       "1   0   0   1   1   0   0   1   0   1   0   1   1   0\n",
       "2   0   0   1   1   0   0   1   0   1   0   1   1   0\n",
       "3   0   0   1   1   0   0   1   0   1   0   1   0   1\n",
       "4   0   0   1   1   0   0   1   0   1   0   1   1   0"
      ]
     },
     "execution_count": 159,
     "metadata": {},
     "output_type": "execute_result"
    }
   ],
   "source": [
    "ohe12=OneHotEncoder(sparse=False)\n",
    "PoolSale_enc=ohe12.fit_transform(df_train[['PavedDrive','PoolQC','Fence','MiscFeature','SaleType','SaleCondition']])\n",
    "PoolSale_enc_df=pd.DataFrame(data=PoolSale_enc,dtype=int)\n",
    "PoolSale_enc_df.head()"
   ]
  },
  {
   "cell_type": "code",
   "execution_count": 160,
   "id": "dae0a0ee",
   "metadata": {},
   "outputs": [
    {
     "data": {
      "text/plain": [
       "[array(['N', 'P', 'Y'], dtype=object),\n",
       " array(['NA', 'Pool_Other'], dtype=object),\n",
       " array(['Fence_Other', 'NA'], dtype=object),\n",
       " array(['Misc_Other', 'NA'], dtype=object),\n",
       " array(['SaleType_Other', 'WD'], dtype=object),\n",
       " array(['Normal', 'SaleCond_Other'], dtype=object)]"
      ]
     },
     "execution_count": 160,
     "metadata": {},
     "output_type": "execute_result"
    }
   ],
   "source": [
    "ohe12.categories_"
   ]
  },
  {
   "cell_type": "code",
   "execution_count": 161,
   "id": "2402677b",
   "metadata": {},
   "outputs": [
    {
     "data": {
      "text/html": [
       "<div>\n",
       "<style scoped>\n",
       "    .dataframe tbody tr th:only-of-type {\n",
       "        vertical-align: middle;\n",
       "    }\n",
       "\n",
       "    .dataframe tbody tr th {\n",
       "        vertical-align: top;\n",
       "    }\n",
       "\n",
       "    .dataframe thead th {\n",
       "        text-align: right;\n",
       "    }\n",
       "</style>\n",
       "<table border=\"1\" class=\"dataframe\">\n",
       "  <thead>\n",
       "    <tr style=\"text-align: right;\">\n",
       "      <th></th>\n",
       "      <th>N_Paved</th>\n",
       "      <th>P_Paved</th>\n",
       "      <th>Y_Paved</th>\n",
       "      <th>NA_Pool</th>\n",
       "      <th>Pool_Other</th>\n",
       "      <th>Fence_Other</th>\n",
       "      <th>NA_Fence</th>\n",
       "      <th>Misc_Other</th>\n",
       "      <th>NA_Misc</th>\n",
       "      <th>SaleType_Other</th>\n",
       "      <th>WD_SaleType</th>\n",
       "      <th>Normal_SaleCond</th>\n",
       "      <th>SaleCond_Other</th>\n",
       "    </tr>\n",
       "  </thead>\n",
       "  <tbody>\n",
       "    <tr>\n",
       "      <th>0</th>\n",
       "      <td>0</td>\n",
       "      <td>0</td>\n",
       "      <td>1</td>\n",
       "      <td>1</td>\n",
       "      <td>0</td>\n",
       "      <td>0</td>\n",
       "      <td>1</td>\n",
       "      <td>0</td>\n",
       "      <td>1</td>\n",
       "      <td>0</td>\n",
       "      <td>1</td>\n",
       "      <td>1</td>\n",
       "      <td>0</td>\n",
       "    </tr>\n",
       "    <tr>\n",
       "      <th>1</th>\n",
       "      <td>0</td>\n",
       "      <td>0</td>\n",
       "      <td>1</td>\n",
       "      <td>1</td>\n",
       "      <td>0</td>\n",
       "      <td>0</td>\n",
       "      <td>1</td>\n",
       "      <td>0</td>\n",
       "      <td>1</td>\n",
       "      <td>0</td>\n",
       "      <td>1</td>\n",
       "      <td>1</td>\n",
       "      <td>0</td>\n",
       "    </tr>\n",
       "    <tr>\n",
       "      <th>2</th>\n",
       "      <td>0</td>\n",
       "      <td>0</td>\n",
       "      <td>1</td>\n",
       "      <td>1</td>\n",
       "      <td>0</td>\n",
       "      <td>0</td>\n",
       "      <td>1</td>\n",
       "      <td>0</td>\n",
       "      <td>1</td>\n",
       "      <td>0</td>\n",
       "      <td>1</td>\n",
       "      <td>1</td>\n",
       "      <td>0</td>\n",
       "    </tr>\n",
       "    <tr>\n",
       "      <th>3</th>\n",
       "      <td>0</td>\n",
       "      <td>0</td>\n",
       "      <td>1</td>\n",
       "      <td>1</td>\n",
       "      <td>0</td>\n",
       "      <td>0</td>\n",
       "      <td>1</td>\n",
       "      <td>0</td>\n",
       "      <td>1</td>\n",
       "      <td>0</td>\n",
       "      <td>1</td>\n",
       "      <td>0</td>\n",
       "      <td>1</td>\n",
       "    </tr>\n",
       "    <tr>\n",
       "      <th>4</th>\n",
       "      <td>0</td>\n",
       "      <td>0</td>\n",
       "      <td>1</td>\n",
       "      <td>1</td>\n",
       "      <td>0</td>\n",
       "      <td>0</td>\n",
       "      <td>1</td>\n",
       "      <td>0</td>\n",
       "      <td>1</td>\n",
       "      <td>0</td>\n",
       "      <td>1</td>\n",
       "      <td>1</td>\n",
       "      <td>0</td>\n",
       "    </tr>\n",
       "  </tbody>\n",
       "</table>\n",
       "</div>"
      ],
      "text/plain": [
       "   N_Paved  P_Paved  Y_Paved  NA_Pool  Pool_Other  Fence_Other  NA_Fence  \\\n",
       "0        0        0        1        1           0            0         1   \n",
       "1        0        0        1        1           0            0         1   \n",
       "2        0        0        1        1           0            0         1   \n",
       "3        0        0        1        1           0            0         1   \n",
       "4        0        0        1        1           0            0         1   \n",
       "\n",
       "   Misc_Other  NA_Misc  SaleType_Other  WD_SaleType  Normal_SaleCond  \\\n",
       "0           0        1               0            1                1   \n",
       "1           0        1               0            1                1   \n",
       "2           0        1               0            1                1   \n",
       "3           0        1               0            1                0   \n",
       "4           0        1               0            1                1   \n",
       "\n",
       "   SaleCond_Other  \n",
       "0               0  \n",
       "1               0  \n",
       "2               0  \n",
       "3               1  \n",
       "4               0  "
      ]
     },
     "execution_count": 161,
     "metadata": {},
     "output_type": "execute_result"
    }
   ],
   "source": [
    "PoolSale_enc_df.rename(columns={0:'N_Paved', 1:'P_Paved',2:'Y_Paved',3:'NA_Pool', 4:'Pool_Other',5:'Fence_Other', 6:'NA_Fence',7:'Misc_Other', 8:'NA_Misc',9:'SaleType_Other', 10:'WD_SaleType',11:'Normal_SaleCond', 12:'SaleCond_Other'},inplace=True)\n",
    "PoolSale_enc_df.head()"
   ]
  },
  {
   "cell_type": "code",
   "execution_count": null,
   "id": "9382763f",
   "metadata": {},
   "outputs": [],
   "source": []
  },
  {
   "cell_type": "code",
   "execution_count": null,
   "id": "08a1a9b5",
   "metadata": {},
   "outputs": [],
   "source": []
  },
  {
   "cell_type": "code",
   "execution_count": null,
   "id": "15406410",
   "metadata": {},
   "outputs": [],
   "source": []
  },
  {
   "cell_type": "code",
   "execution_count": 162,
   "id": "51e3a9b7",
   "metadata": {},
   "outputs": [
    {
     "data": {
      "text/plain": [
       "2005    58\n",
       "2006    57\n",
       "2004    52\n",
       "2007    44\n",
       "2003    40\n",
       "        ..\n",
       "1911     1\n",
       "1882     1\n",
       "1917     1\n",
       "1913     1\n",
       "1872     1\n",
       "Name: YearBuilt, Length: 111, dtype: int64"
      ]
     },
     "execution_count": 162,
     "metadata": {},
     "output_type": "execute_result"
    }
   ],
   "source": [
    "df_train['YearBuilt'].value_counts()"
   ]
  },
  {
   "cell_type": "code",
   "execution_count": 163,
   "id": "ffe4b495",
   "metadata": {},
   "outputs": [
    {
     "data": {
      "text/plain": [
       "1950    178\n",
       "2006     85\n",
       "2005     71\n",
       "2007     70\n",
       "2004     58\n",
       "       ... \n",
       "1983      5\n",
       "1986      5\n",
       "1952      5\n",
       "1951      4\n",
       "2010      3\n",
       "Name: YearRemodAdd, Length: 61, dtype: int64"
      ]
     },
     "execution_count": 163,
     "metadata": {},
     "output_type": "execute_result"
    }
   ],
   "source": [
    "df_train['YearRemodAdd'].value_counts()"
   ]
  },
  {
   "cell_type": "code",
   "execution_count": null,
   "id": "0548e5d4",
   "metadata": {},
   "outputs": [],
   "source": []
  },
  {
   "cell_type": "code",
   "execution_count": null,
   "id": "a6b56eed",
   "metadata": {},
   "outputs": [],
   "source": []
  },
  {
   "cell_type": "code",
   "execution_count": 164,
   "id": "d132958f",
   "metadata": {},
   "outputs": [],
   "source": [
    "X=df_train[['MSSubClass','LotArea','OverallQual', 'OverallCond','YearBuilt','YearRemodAdd',\n",
    "      'MasVnrArea','BsmtFinSF1','BsmtFinSF2','BsmtUnfSF', 'TotalBsmtSF','1stFlrSF','2ndFlrSF',\n",
    "       'LowQualFinSF', 'GrLivArea', 'BsmtFullBath', 'BsmtHalfBath', 'FullBath',\n",
    "       'HalfBath', 'BedroomAbvGr', 'KitchenAbvGr',\n",
    "       'TotRmsAbvGrd', 'Fireplaces','GarageCars','GarageArea','WoodDeckSF', 'OpenPorchSF',\n",
    "       'EnclosedPorch', '3SsnPorch', 'ScreenPorch', 'PoolArea','MiscVal', 'MoSold', 'YrSold']]\n",
    "X=pd.concat([X.reset_index(),MSZoning_enc_df,Street_enc_df,Alley_enc_df,LotLandUti_enc_df,LotLandCond12_enc_df,\n",
    "             Neighborhood_enc_df,housestyle_enc_df,roof_enc_df,ext12_enc_df,extrBsmt_enc_df,\n",
    "             fintypeHeat_enc_df,kitchenGarage_enc_df,PoolSale_enc_df],axis=1)\n",
    "y=df_train['SalePrice']"
   ]
  },
  {
   "cell_type": "code",
   "execution_count": 165,
   "id": "bbeb3fb3",
   "metadata": {},
   "outputs": [
    {
     "data": {
      "text/html": [
       "<div>\n",
       "<style scoped>\n",
       "    .dataframe tbody tr th:only-of-type {\n",
       "        vertical-align: middle;\n",
       "    }\n",
       "\n",
       "    .dataframe tbody tr th {\n",
       "        vertical-align: top;\n",
       "    }\n",
       "\n",
       "    .dataframe thead th {\n",
       "        text-align: right;\n",
       "    }\n",
       "</style>\n",
       "<table border=\"1\" class=\"dataframe\">\n",
       "  <thead>\n",
       "    <tr style=\"text-align: right;\">\n",
       "      <th></th>\n",
       "      <th>index</th>\n",
       "      <th>MSSubClass</th>\n",
       "      <th>LotArea</th>\n",
       "      <th>OverallQual</th>\n",
       "      <th>OverallCond</th>\n",
       "      <th>YearBuilt</th>\n",
       "      <th>YearRemodAdd</th>\n",
       "      <th>MasVnrArea</th>\n",
       "      <th>BsmtFinSF1</th>\n",
       "      <th>BsmtFinSF2</th>\n",
       "      <th>...</th>\n",
       "      <th>NA_Pool</th>\n",
       "      <th>Pool_Other</th>\n",
       "      <th>Fence_Other</th>\n",
       "      <th>NA_Fence</th>\n",
       "      <th>Misc_Other</th>\n",
       "      <th>NA_Misc</th>\n",
       "      <th>SaleType_Other</th>\n",
       "      <th>WD_SaleType</th>\n",
       "      <th>Normal_SaleCond</th>\n",
       "      <th>SaleCond_Other</th>\n",
       "    </tr>\n",
       "  </thead>\n",
       "  <tbody>\n",
       "    <tr>\n",
       "      <th>0</th>\n",
       "      <td>0</td>\n",
       "      <td>60</td>\n",
       "      <td>8450</td>\n",
       "      <td>7</td>\n",
       "      <td>5</td>\n",
       "      <td>2003</td>\n",
       "      <td>2003</td>\n",
       "      <td>196.0</td>\n",
       "      <td>706</td>\n",
       "      <td>0</td>\n",
       "      <td>...</td>\n",
       "      <td>1</td>\n",
       "      <td>0</td>\n",
       "      <td>0</td>\n",
       "      <td>1</td>\n",
       "      <td>0</td>\n",
       "      <td>1</td>\n",
       "      <td>0</td>\n",
       "      <td>1</td>\n",
       "      <td>1</td>\n",
       "      <td>0</td>\n",
       "    </tr>\n",
       "    <tr>\n",
       "      <th>1</th>\n",
       "      <td>1</td>\n",
       "      <td>20</td>\n",
       "      <td>9600</td>\n",
       "      <td>6</td>\n",
       "      <td>8</td>\n",
       "      <td>1976</td>\n",
       "      <td>1976</td>\n",
       "      <td>0.0</td>\n",
       "      <td>978</td>\n",
       "      <td>0</td>\n",
       "      <td>...</td>\n",
       "      <td>1</td>\n",
       "      <td>0</td>\n",
       "      <td>0</td>\n",
       "      <td>1</td>\n",
       "      <td>0</td>\n",
       "      <td>1</td>\n",
       "      <td>0</td>\n",
       "      <td>1</td>\n",
       "      <td>1</td>\n",
       "      <td>0</td>\n",
       "    </tr>\n",
       "    <tr>\n",
       "      <th>2</th>\n",
       "      <td>2</td>\n",
       "      <td>60</td>\n",
       "      <td>11250</td>\n",
       "      <td>7</td>\n",
       "      <td>5</td>\n",
       "      <td>2001</td>\n",
       "      <td>2002</td>\n",
       "      <td>162.0</td>\n",
       "      <td>486</td>\n",
       "      <td>0</td>\n",
       "      <td>...</td>\n",
       "      <td>1</td>\n",
       "      <td>0</td>\n",
       "      <td>0</td>\n",
       "      <td>1</td>\n",
       "      <td>0</td>\n",
       "      <td>1</td>\n",
       "      <td>0</td>\n",
       "      <td>1</td>\n",
       "      <td>1</td>\n",
       "      <td>0</td>\n",
       "    </tr>\n",
       "    <tr>\n",
       "      <th>3</th>\n",
       "      <td>3</td>\n",
       "      <td>70</td>\n",
       "      <td>9550</td>\n",
       "      <td>7</td>\n",
       "      <td>5</td>\n",
       "      <td>1915</td>\n",
       "      <td>1970</td>\n",
       "      <td>0.0</td>\n",
       "      <td>216</td>\n",
       "      <td>0</td>\n",
       "      <td>...</td>\n",
       "      <td>1</td>\n",
       "      <td>0</td>\n",
       "      <td>0</td>\n",
       "      <td>1</td>\n",
       "      <td>0</td>\n",
       "      <td>1</td>\n",
       "      <td>0</td>\n",
       "      <td>1</td>\n",
       "      <td>0</td>\n",
       "      <td>1</td>\n",
       "    </tr>\n",
       "    <tr>\n",
       "      <th>4</th>\n",
       "      <td>4</td>\n",
       "      <td>60</td>\n",
       "      <td>14260</td>\n",
       "      <td>8</td>\n",
       "      <td>5</td>\n",
       "      <td>2000</td>\n",
       "      <td>2000</td>\n",
       "      <td>350.0</td>\n",
       "      <td>655</td>\n",
       "      <td>0</td>\n",
       "      <td>...</td>\n",
       "      <td>1</td>\n",
       "      <td>0</td>\n",
       "      <td>0</td>\n",
       "      <td>1</td>\n",
       "      <td>0</td>\n",
       "      <td>1</td>\n",
       "      <td>0</td>\n",
       "      <td>1</td>\n",
       "      <td>1</td>\n",
       "      <td>0</td>\n",
       "    </tr>\n",
       "  </tbody>\n",
       "</table>\n",
       "<p>5 rows × 199 columns</p>\n",
       "</div>"
      ],
      "text/plain": [
       "   index  MSSubClass  LotArea  OverallQual  OverallCond  YearBuilt  \\\n",
       "0      0          60     8450            7            5       2003   \n",
       "1      1          20     9600            6            8       1976   \n",
       "2      2          60    11250            7            5       2001   \n",
       "3      3          70     9550            7            5       1915   \n",
       "4      4          60    14260            8            5       2000   \n",
       "\n",
       "   YearRemodAdd  MasVnrArea  BsmtFinSF1  BsmtFinSF2  ...  NA_Pool  Pool_Other  \\\n",
       "0          2003       196.0         706           0  ...        1           0   \n",
       "1          1976         0.0         978           0  ...        1           0   \n",
       "2          2002       162.0         486           0  ...        1           0   \n",
       "3          1970         0.0         216           0  ...        1           0   \n",
       "4          2000       350.0         655           0  ...        1           0   \n",
       "\n",
       "   Fence_Other  NA_Fence  Misc_Other  NA_Misc  SaleType_Other  WD_SaleType  \\\n",
       "0            0         1           0        1               0            1   \n",
       "1            0         1           0        1               0            1   \n",
       "2            0         1           0        1               0            1   \n",
       "3            0         1           0        1               0            1   \n",
       "4            0         1           0        1               0            1   \n",
       "\n",
       "   Normal_SaleCond  SaleCond_Other  \n",
       "0                1               0  \n",
       "1                1               0  \n",
       "2                1               0  \n",
       "3                0               1  \n",
       "4                1               0  \n",
       "\n",
       "[5 rows x 199 columns]"
      ]
     },
     "execution_count": 165,
     "metadata": {},
     "output_type": "execute_result"
    }
   ],
   "source": [
    "X.head()"
   ]
  },
  {
   "cell_type": "code",
   "execution_count": 166,
   "id": "dfd0f5b8",
   "metadata": {},
   "outputs": [
    {
     "data": {
      "text/plain": [
       "(1399, 199)"
      ]
     },
     "execution_count": 166,
     "metadata": {},
     "output_type": "execute_result"
    }
   ],
   "source": [
    "X.shape "
   ]
  },
  {
   "cell_type": "code",
   "execution_count": 167,
   "id": "1ea03842",
   "metadata": {},
   "outputs": [],
   "source": [
    "from sklearn.model_selection import train_test_split\n",
    "X_train, X_test, y_train, y_test=train_test_split(X,y,test_size=0.25,random_state=11)"
   ]
  },
  {
   "cell_type": "code",
   "execution_count": 168,
   "id": "1418272d",
   "metadata": {},
   "outputs": [],
   "source": [
    "from sklearn.preprocessing import MinMaxScaler\n",
    "scaler=MinMaxScaler()\n",
    "scaler.fit(X_train)\n",
    "X_train_scaled=scaler.transform(X_train)\n",
    "X_test_scaled=scaler.transform(X_test)"
   ]
  },
  {
   "cell_type": "code",
   "execution_count": 169,
   "id": "3e6bd38c",
   "metadata": {},
   "outputs": [],
   "source": [
    "from sklearn.ensemble import AdaBoostRegressor\n",
    "from sklearn.ensemble import RandomForestRegressor\n",
    "from sklearn.tree import DecisionTreeRegressor"
   ]
  },
  {
   "cell_type": "code",
   "execution_count": 170,
   "id": "c6a1628c",
   "metadata": {},
   "outputs": [
    {
     "data": {
      "text/plain": [
       "(0.8762568452479441, 0.8132823552280336)"
      ]
     },
     "execution_count": 170,
     "metadata": {},
     "output_type": "execute_result"
    }
   ],
   "source": [
    "model=AdaBoostRegressor(base_estimator=DecisionTreeRegressor(max_depth=3),n_estimators=450)\n",
    "model.fit(X_train_scaled,y_train)\n",
    "model.score(X_train_scaled,y_train),model.score(X_test_scaled,y_test)"
   ]
  },
  {
   "cell_type": "code",
   "execution_count": 171,
   "id": "1126be56",
   "metadata": {},
   "outputs": [
    {
     "data": {
      "text/plain": [
       "(0.8695138163211417, 0.8224141244734445)"
      ]
     },
     "execution_count": 171,
     "metadata": {},
     "output_type": "execute_result"
    }
   ],
   "source": [
    "model=AdaBoostRegressor(base_estimator=RandomForestRegressor(max_depth=3),n_estimators=450)\n",
    "model.fit(X_train_scaled,y_train)\n",
    "model.score(X_train_scaled,y_train),model.score(X_test_scaled,y_test)\n"
   ]
  },
  {
   "cell_type": "code",
   "execution_count": 172,
   "id": "b6952aa5",
   "metadata": {},
   "outputs": [
    {
     "data": {
      "text/plain": [
       "(0.9809841581482746, 0.8722659713620314)"
      ]
     },
     "execution_count": 172,
     "metadata": {},
     "output_type": "execute_result"
    }
   ],
   "source": [
    "#Using RF\n",
    "from sklearn.ensemble import RandomForestRegressor\n",
    "model=RandomForestRegressor(n_estimators=450,random_state=11)\n",
    "model.fit(X_train_scaled,y_train)\n",
    "model.score(X_train_scaled,y_train),model.score(X_test_scaled,y_test)"
   ]
  },
  {
   "cell_type": "markdown",
   "id": "196d3a2e",
   "metadata": {},
   "source": [
    "# Testing Data"
   ]
  },
  {
   "cell_type": "code",
   "execution_count": 173,
   "id": "b8bf3f6e",
   "metadata": {},
   "outputs": [],
   "source": [
    "d2={'LotFrontage':['NA',''],'MasVnrArea':'NA','MasVnrType':'NA','Electrical':'NA','GarageYrBlt':'NA','Utilities':'NA','KitchenQual':'NA','Exterior1st':'NA','Exterior2nd':'NA','BsmtFinSF1':'NA',\n",
    "   'BsmtFinSF2':'NA','BsmtUnfSF':'NA','TotalBsmtSF':'NA','BsmtFullBath':'NA','BsmtHalfBath':'NA','Functional':'NA','GarageCars':'NA','GarageArea':'NA','SaleType':'NA'} \n",
    "df_test=pd.read_csv('../../../Datasets/house-prices-advanced-regression-techniques/test.csv',keep_default_na=False,na_values=d2)"
   ]
  },
  {
   "cell_type": "code",
   "execution_count": 174,
   "id": "25ae62f1",
   "metadata": {},
   "outputs": [
    {
     "data": {
      "text/html": [
       "<div>\n",
       "<style scoped>\n",
       "    .dataframe tbody tr th:only-of-type {\n",
       "        vertical-align: middle;\n",
       "    }\n",
       "\n",
       "    .dataframe tbody tr th {\n",
       "        vertical-align: top;\n",
       "    }\n",
       "\n",
       "    .dataframe thead th {\n",
       "        text-align: right;\n",
       "    }\n",
       "</style>\n",
       "<table border=\"1\" class=\"dataframe\">\n",
       "  <thead>\n",
       "    <tr style=\"text-align: right;\">\n",
       "      <th></th>\n",
       "      <th>Id</th>\n",
       "      <th>MSSubClass</th>\n",
       "      <th>MSZoning</th>\n",
       "      <th>LotFrontage</th>\n",
       "      <th>LotArea</th>\n",
       "      <th>Street</th>\n",
       "      <th>Alley</th>\n",
       "      <th>LotShape</th>\n",
       "      <th>LandContour</th>\n",
       "      <th>Utilities</th>\n",
       "      <th>...</th>\n",
       "      <th>ScreenPorch</th>\n",
       "      <th>PoolArea</th>\n",
       "      <th>PoolQC</th>\n",
       "      <th>Fence</th>\n",
       "      <th>MiscFeature</th>\n",
       "      <th>MiscVal</th>\n",
       "      <th>MoSold</th>\n",
       "      <th>YrSold</th>\n",
       "      <th>SaleType</th>\n",
       "      <th>SaleCondition</th>\n",
       "    </tr>\n",
       "  </thead>\n",
       "  <tbody>\n",
       "    <tr>\n",
       "      <th>0</th>\n",
       "      <td>1461</td>\n",
       "      <td>20</td>\n",
       "      <td>RH</td>\n",
       "      <td>80.0</td>\n",
       "      <td>11622</td>\n",
       "      <td>Pave</td>\n",
       "      <td>NA</td>\n",
       "      <td>Reg</td>\n",
       "      <td>Lvl</td>\n",
       "      <td>AllPub</td>\n",
       "      <td>...</td>\n",
       "      <td>120</td>\n",
       "      <td>0</td>\n",
       "      <td>NA</td>\n",
       "      <td>MnPrv</td>\n",
       "      <td>NA</td>\n",
       "      <td>0</td>\n",
       "      <td>6</td>\n",
       "      <td>2010</td>\n",
       "      <td>WD</td>\n",
       "      <td>Normal</td>\n",
       "    </tr>\n",
       "    <tr>\n",
       "      <th>1</th>\n",
       "      <td>1462</td>\n",
       "      <td>20</td>\n",
       "      <td>RL</td>\n",
       "      <td>81.0</td>\n",
       "      <td>14267</td>\n",
       "      <td>Pave</td>\n",
       "      <td>NA</td>\n",
       "      <td>IR1</td>\n",
       "      <td>Lvl</td>\n",
       "      <td>AllPub</td>\n",
       "      <td>...</td>\n",
       "      <td>0</td>\n",
       "      <td>0</td>\n",
       "      <td>NA</td>\n",
       "      <td>NA</td>\n",
       "      <td>Gar2</td>\n",
       "      <td>12500</td>\n",
       "      <td>6</td>\n",
       "      <td>2010</td>\n",
       "      <td>WD</td>\n",
       "      <td>Normal</td>\n",
       "    </tr>\n",
       "    <tr>\n",
       "      <th>2</th>\n",
       "      <td>1463</td>\n",
       "      <td>60</td>\n",
       "      <td>RL</td>\n",
       "      <td>74.0</td>\n",
       "      <td>13830</td>\n",
       "      <td>Pave</td>\n",
       "      <td>NA</td>\n",
       "      <td>IR1</td>\n",
       "      <td>Lvl</td>\n",
       "      <td>AllPub</td>\n",
       "      <td>...</td>\n",
       "      <td>0</td>\n",
       "      <td>0</td>\n",
       "      <td>NA</td>\n",
       "      <td>MnPrv</td>\n",
       "      <td>NA</td>\n",
       "      <td>0</td>\n",
       "      <td>3</td>\n",
       "      <td>2010</td>\n",
       "      <td>WD</td>\n",
       "      <td>Normal</td>\n",
       "    </tr>\n",
       "    <tr>\n",
       "      <th>3</th>\n",
       "      <td>1464</td>\n",
       "      <td>60</td>\n",
       "      <td>RL</td>\n",
       "      <td>78.0</td>\n",
       "      <td>9978</td>\n",
       "      <td>Pave</td>\n",
       "      <td>NA</td>\n",
       "      <td>IR1</td>\n",
       "      <td>Lvl</td>\n",
       "      <td>AllPub</td>\n",
       "      <td>...</td>\n",
       "      <td>0</td>\n",
       "      <td>0</td>\n",
       "      <td>NA</td>\n",
       "      <td>NA</td>\n",
       "      <td>NA</td>\n",
       "      <td>0</td>\n",
       "      <td>6</td>\n",
       "      <td>2010</td>\n",
       "      <td>WD</td>\n",
       "      <td>Normal</td>\n",
       "    </tr>\n",
       "    <tr>\n",
       "      <th>4</th>\n",
       "      <td>1465</td>\n",
       "      <td>120</td>\n",
       "      <td>RL</td>\n",
       "      <td>43.0</td>\n",
       "      <td>5005</td>\n",
       "      <td>Pave</td>\n",
       "      <td>NA</td>\n",
       "      <td>IR1</td>\n",
       "      <td>HLS</td>\n",
       "      <td>AllPub</td>\n",
       "      <td>...</td>\n",
       "      <td>144</td>\n",
       "      <td>0</td>\n",
       "      <td>NA</td>\n",
       "      <td>NA</td>\n",
       "      <td>NA</td>\n",
       "      <td>0</td>\n",
       "      <td>1</td>\n",
       "      <td>2010</td>\n",
       "      <td>WD</td>\n",
       "      <td>Normal</td>\n",
       "    </tr>\n",
       "  </tbody>\n",
       "</table>\n",
       "<p>5 rows × 80 columns</p>\n",
       "</div>"
      ],
      "text/plain": [
       "     Id  MSSubClass MSZoning  LotFrontage  LotArea Street Alley LotShape  \\\n",
       "0  1461          20       RH         80.0    11622   Pave    NA      Reg   \n",
       "1  1462          20       RL         81.0    14267   Pave    NA      IR1   \n",
       "2  1463          60       RL         74.0    13830   Pave    NA      IR1   \n",
       "3  1464          60       RL         78.0     9978   Pave    NA      IR1   \n",
       "4  1465         120       RL         43.0     5005   Pave    NA      IR1   \n",
       "\n",
       "  LandContour Utilities  ... ScreenPorch PoolArea PoolQC  Fence MiscFeature  \\\n",
       "0         Lvl    AllPub  ...         120        0     NA  MnPrv          NA   \n",
       "1         Lvl    AllPub  ...           0        0     NA     NA        Gar2   \n",
       "2         Lvl    AllPub  ...           0        0     NA  MnPrv          NA   \n",
       "3         Lvl    AllPub  ...           0        0     NA     NA          NA   \n",
       "4         HLS    AllPub  ...         144        0     NA     NA          NA   \n",
       "\n",
       "  MiscVal MoSold  YrSold  SaleType  SaleCondition  \n",
       "0       0      6    2010        WD         Normal  \n",
       "1   12500      6    2010        WD         Normal  \n",
       "2       0      3    2010        WD         Normal  \n",
       "3       0      6    2010        WD         Normal  \n",
       "4       0      1    2010        WD         Normal  \n",
       "\n",
       "[5 rows x 80 columns]"
      ]
     },
     "execution_count": 174,
     "metadata": {},
     "output_type": "execute_result"
    }
   ],
   "source": [
    "df_test.head()"
   ]
  },
  {
   "cell_type": "code",
   "execution_count": 175,
   "id": "8c16dc81",
   "metadata": {},
   "outputs": [
    {
     "name": "stdout",
     "output_type": "stream",
     "text": [
      "<class 'pandas.core.frame.DataFrame'>\n",
      "RangeIndex: 1459 entries, 0 to 1458\n",
      "Data columns (total 80 columns):\n",
      " #   Column         Non-Null Count  Dtype  \n",
      "---  ------         --------------  -----  \n",
      " 0   Id             1459 non-null   int64  \n",
      " 1   MSSubClass     1459 non-null   int64  \n",
      " 2   MSZoning       1459 non-null   object \n",
      " 3   LotFrontage    1232 non-null   float64\n",
      " 4   LotArea        1459 non-null   int64  \n",
      " 5   Street         1459 non-null   object \n",
      " 6   Alley          1459 non-null   object \n",
      " 7   LotShape       1459 non-null   object \n",
      " 8   LandContour    1459 non-null   object \n",
      " 9   Utilities      1457 non-null   object \n",
      " 10  LotConfig      1459 non-null   object \n",
      " 11  LandSlope      1459 non-null   object \n",
      " 12  Neighborhood   1459 non-null   object \n",
      " 13  Condition1     1459 non-null   object \n",
      " 14  Condition2     1459 non-null   object \n",
      " 15  BldgType       1459 non-null   object \n",
      " 16  HouseStyle     1459 non-null   object \n",
      " 17  OverallQual    1459 non-null   int64  \n",
      " 18  OverallCond    1459 non-null   int64  \n",
      " 19  YearBuilt      1459 non-null   int64  \n",
      " 20  YearRemodAdd   1459 non-null   int64  \n",
      " 21  RoofStyle      1459 non-null   object \n",
      " 22  RoofMatl       1459 non-null   object \n",
      " 23  Exterior1st    1458 non-null   object \n",
      " 24  Exterior2nd    1458 non-null   object \n",
      " 25  MasVnrType     1443 non-null   object \n",
      " 26  MasVnrArea     1444 non-null   float64\n",
      " 27  ExterQual      1459 non-null   object \n",
      " 28  ExterCond      1459 non-null   object \n",
      " 29  Foundation     1459 non-null   object \n",
      " 30  BsmtQual       1459 non-null   object \n",
      " 31  BsmtCond       1459 non-null   object \n",
      " 32  BsmtExposure   1459 non-null   object \n",
      " 33  BsmtFinType1   1459 non-null   object \n",
      " 34  BsmtFinSF1     1458 non-null   float64\n",
      " 35  BsmtFinType2   1459 non-null   object \n",
      " 36  BsmtFinSF2     1458 non-null   float64\n",
      " 37  BsmtUnfSF      1458 non-null   float64\n",
      " 38  TotalBsmtSF    1458 non-null   float64\n",
      " 39  Heating        1459 non-null   object \n",
      " 40  HeatingQC      1459 non-null   object \n",
      " 41  CentralAir     1459 non-null   object \n",
      " 42  Electrical     1459 non-null   object \n",
      " 43  1stFlrSF       1459 non-null   int64  \n",
      " 44  2ndFlrSF       1459 non-null   int64  \n",
      " 45  LowQualFinSF   1459 non-null   int64  \n",
      " 46  GrLivArea      1459 non-null   int64  \n",
      " 47  BsmtFullBath   1457 non-null   float64\n",
      " 48  BsmtHalfBath   1457 non-null   float64\n",
      " 49  FullBath       1459 non-null   int64  \n",
      " 50  HalfBath       1459 non-null   int64  \n",
      " 51  BedroomAbvGr   1459 non-null   int64  \n",
      " 52  KitchenAbvGr   1459 non-null   int64  \n",
      " 53  KitchenQual    1458 non-null   object \n",
      " 54  TotRmsAbvGrd   1459 non-null   int64  \n",
      " 55  Functional     1457 non-null   object \n",
      " 56  Fireplaces     1459 non-null   int64  \n",
      " 57  FireplaceQu    1459 non-null   object \n",
      " 58  GarageType     1459 non-null   object \n",
      " 59  GarageYrBlt    1381 non-null   float64\n",
      " 60  GarageFinish   1459 non-null   object \n",
      " 61  GarageCars     1458 non-null   float64\n",
      " 62  GarageArea     1458 non-null   float64\n",
      " 63  GarageQual     1459 non-null   object \n",
      " 64  GarageCond     1459 non-null   object \n",
      " 65  PavedDrive     1459 non-null   object \n",
      " 66  WoodDeckSF     1459 non-null   int64  \n",
      " 67  OpenPorchSF    1459 non-null   int64  \n",
      " 68  EnclosedPorch  1459 non-null   int64  \n",
      " 69  3SsnPorch      1459 non-null   int64  \n",
      " 70  ScreenPorch    1459 non-null   int64  \n",
      " 71  PoolArea       1459 non-null   int64  \n",
      " 72  PoolQC         1459 non-null   object \n",
      " 73  Fence          1459 non-null   object \n",
      " 74  MiscFeature    1459 non-null   object \n",
      " 75  MiscVal        1459 non-null   int64  \n",
      " 76  MoSold         1459 non-null   int64  \n",
      " 77  YrSold         1459 non-null   int64  \n",
      " 78  SaleType       1458 non-null   object \n",
      " 79  SaleCondition  1459 non-null   object \n",
      "dtypes: float64(11), int64(26), object(43)\n",
      "memory usage: 912.0+ KB\n"
     ]
    }
   ],
   "source": [
    "df_test.info()"
   ]
  },
  {
   "cell_type": "code",
   "execution_count": 176,
   "id": "b2b11531",
   "metadata": {},
   "outputs": [
    {
     "data": {
      "text/plain": [
       "(array([  7.,  28.,  51., 119.,  67., 174., 241., 177., 131., 464.]),\n",
       " array([1879. , 1892.1, 1905.2, 1918.3, 1931.4, 1944.5, 1957.6, 1970.7,\n",
       "        1983.8, 1996.9, 2010. ]),\n",
       " <BarContainer object of 10 artists>)"
      ]
     },
     "execution_count": 176,
     "metadata": {},
     "output_type": "execute_result"
    },
    {
     "data": {
      "image/png": "[encoded data removed]",
      "text/plain": [
       "<Figure size 432x288 with 1 Axes>"
      ]
     },
     "metadata": {
      "needs_background": "light"
     },
     "output_type": "display_data"
    }
   ],
   "source": [
    "import matplotlib.pyplot as plt\n",
    "plt.hist(df_test['YearBuilt'])"
   ]
  },
  {
   "cell_type": "code",
   "execution_count": 177,
   "id": "5b1b97df",
   "metadata": {},
   "outputs": [
    {
     "data": {
      "text/plain": [
       "{'whiskers': [<matplotlib.lines.Line2D at 0x14ee5043f40>,\n",
       "  <matplotlib.lines.Line2D at 0x14ee504c2e0>],\n",
       " 'caps': [<matplotlib.lines.Line2D at 0x14ee504c640>,\n",
       "  <matplotlib.lines.Line2D at 0x14ee504c9a0>],\n",
       " 'boxes': [<matplotlib.lines.Line2D at 0x14ee5043be0>],\n",
       " 'medians': [<matplotlib.lines.Line2D at 0x14ee504cc40>],\n",
       " 'fliers': [<matplotlib.lines.Line2D at 0x14ee504cfa0>],\n",
       " 'means': []}"
      ]
     },
     "execution_count": 177,
     "metadata": {},
     "output_type": "execute_result"
    },
    {
     "data": {
      "image/png": "[encoded data removed]",
      "text/plain": [
       "<Figure size 432x288 with 1 Axes>"
      ]
     },
     "metadata": {
      "needs_background": "light"
     },
     "output_type": "display_data"
    }
   ],
   "source": [
    "plt.boxplot(df_test['YearBuilt'])"
   ]
  },
  {
   "cell_type": "code",
   "execution_count": 178,
   "id": "be39232b",
   "metadata": {},
   "outputs": [
    {
     "data": {
      "text/plain": [
       "2"
      ]
     },
     "execution_count": 178,
     "metadata": {},
     "output_type": "execute_result"
    }
   ],
   "source": [
    "sum(df_test['YearBuilt']<1890)"
   ]
  },
  {
   "cell_type": "code",
   "execution_count": 179,
   "id": "2ad9179a",
   "metadata": {},
   "outputs": [
    {
     "data": {
      "text/plain": [
       "(array([305.,   0., 363.,   0.,   0., 318.,   0., 309.,   0., 164.]),\n",
       " array([2006. , 2006.4, 2006.8, 2007.2, 2007.6, 2008. , 2008.4, 2008.8,\n",
       "        2009.2, 2009.6, 2010. ]),\n",
       " <BarContainer object of 10 artists>)"
      ]
     },
     "execution_count": 179,
     "metadata": {},
     "output_type": "execute_result"
    },
    {
     "data": {
      "image/png": "[encoded data removed]",
      "text/plain": [
       "<Figure size 432x288 with 1 Axes>"
      ]
     },
     "metadata": {
      "needs_background": "light"
     },
     "output_type": "display_data"
    }
   ],
   "source": [
    "plt.hist(df_test['YrSold'])"
   ]
  },
  {
   "cell_type": "code",
   "execution_count": 180,
   "id": "c7f88dba",
   "metadata": {},
   "outputs": [
    {
     "data": {
      "text/plain": [
       "{'whiskers': [<matplotlib.lines.Line2D at 0x14ee3edc640>,\n",
       "  <matplotlib.lines.Line2D at 0x14ee3edc9a0>],\n",
       " 'caps': [<matplotlib.lines.Line2D at 0x14ee3edcd00>,\n",
       "  <matplotlib.lines.Line2D at 0x14ee3eea0a0>],\n",
       " 'boxes': [<matplotlib.lines.Line2D at 0x14ee3edc340>],\n",
       " 'medians': [<matplotlib.lines.Line2D at 0x14ee3eea400>],\n",
       " 'fliers': [<matplotlib.lines.Line2D at 0x14ee3eea760>],\n",
       " 'means': []}"
      ]
     },
     "execution_count": 180,
     "metadata": {},
     "output_type": "execute_result"
    },
    {
     "data": {
      "image/png": "[encoded data removed]",
      "text/plain": [
       "<Figure size 432x288 with 1 Axes>"
      ]
     },
     "metadata": {
      "needs_background": "light"
     },
     "output_type": "display_data"
    }
   ],
   "source": [
    "plt.boxplot(df_test['YrSold'])"
   ]
  },
  {
   "cell_type": "code",
   "execution_count": 181,
   "id": "7366f129",
   "metadata": {},
   "outputs": [
    {
     "data": {
      "text/plain": [
       "(array([613., 151., 344.,  95.,  57.,  95.,   0.,   1.,  65.,  38.]),\n",
       " array([ 20.,  37.,  54.,  71.,  88., 105., 122., 139., 156., 173., 190.]),\n",
       " <BarContainer object of 10 artists>)"
      ]
     },
     "execution_count": 181,
     "metadata": {},
     "output_type": "execute_result"
    },
    {
     "data": {
      "image/png": "[encoded data removed]",
      "text/plain": [
       "<Figure size 432x288 with 1 Axes>"
      ]
     },
     "metadata": {
      "needs_background": "light"
     },
     "output_type": "display_data"
    }
   ],
   "source": [
    "plt.hist(df_test['MSSubClass'])"
   ]
  },
  {
   "cell_type": "code",
   "execution_count": 182,
   "id": "202b26c9",
   "metadata": {},
   "outputs": [
    {
     "data": {
      "text/plain": [
       "{'whiskers': [<matplotlib.lines.Line2D at 0x14ee70138b0>,\n",
       "  <matplotlib.lines.Line2D at 0x14ee7013c10>],\n",
       " 'caps': [<matplotlib.lines.Line2D at 0x14ee7013f70>,\n",
       "  <matplotlib.lines.Line2D at 0x14ee7023310>],\n",
       " 'boxes': [<matplotlib.lines.Line2D at 0x14ee7013550>],\n",
       " 'medians': [<matplotlib.lines.Line2D at 0x14ee7023670>],\n",
       " 'fliers': [<matplotlib.lines.Line2D at 0x14ee70239d0>],\n",
       " 'means': []}"
      ]
     },
     "execution_count": 182,
     "metadata": {},
     "output_type": "execute_result"
    },
    {
     "data": {
      "image/png": "[encoded data removed]",
      "text/plain": [
       "<Figure size 432x288 with 1 Axes>"
      ]
     },
     "metadata": {
      "needs_background": "light"
     },
     "output_type": "display_data"
    }
   ],
   "source": [
    "plt.boxplot(df_test['MSSubClass'])"
   ]
  },
  {
   "cell_type": "code",
   "execution_count": 183,
   "id": "18176204",
   "metadata": {},
   "outputs": [
    {
     "data": {
      "text/plain": [
       "104"
      ]
     },
     "execution_count": 183,
     "metadata": {},
     "output_type": "execute_result"
    }
   ],
   "source": [
    "sum(df_test['MSSubClass']>125)\n",
    "#df_test=df_test[df_test['MSSubClass']<=125] #outliers removed from test"
   ]
  },
  {
   "cell_type": "code",
   "execution_count": 184,
   "id": "d47119c1",
   "metadata": {},
   "outputs": [
    {
     "name": "stdout",
     "output_type": "stream",
     "text": [
      "<class 'pandas.core.frame.DataFrame'>\n",
      "RangeIndex: 1459 entries, 0 to 1458\n",
      "Data columns (total 80 columns):\n",
      " #   Column         Non-Null Count  Dtype  \n",
      "---  ------         --------------  -----  \n",
      " 0   Id             1459 non-null   int64  \n",
      " 1   MSSubClass     1459 non-null   int64  \n",
      " 2   MSZoning       1459 non-null   object \n",
      " 3   LotFrontage    1232 non-null   float64\n",
      " 4   LotArea        1459 non-null   int64  \n",
      " 5   Street         1459 non-null   object \n",
      " 6   Alley          1459 non-null   object \n",
      " 7   LotShape       1459 non-null   object \n",
      " 8   LandContour    1459 non-null   object \n",
      " 9   Utilities      1457 non-null   object \n",
      " 10  LotConfig      1459 non-null   object \n",
      " 11  LandSlope      1459 non-null   object \n",
      " 12  Neighborhood   1459 non-null   object \n",
      " 13  Condition1     1459 non-null   object \n",
      " 14  Condition2     1459 non-null   object \n",
      " 15  BldgType       1459 non-null   object \n",
      " 16  HouseStyle     1459 non-null   object \n",
      " 17  OverallQual    1459 non-null   int64  \n",
      " 18  OverallCond    1459 non-null   int64  \n",
      " 19  YearBuilt      1459 non-null   int64  \n",
      " 20  YearRemodAdd   1459 non-null   int64  \n",
      " 21  RoofStyle      1459 non-null   object \n",
      " 22  RoofMatl       1459 non-null   object \n",
      " 23  Exterior1st    1458 non-null   object \n",
      " 24  Exterior2nd    1458 non-null   object \n",
      " 25  MasVnrType     1443 non-null   object \n",
      " 26  MasVnrArea     1444 non-null   float64\n",
      " 27  ExterQual      1459 non-null   object \n",
      " 28  ExterCond      1459 non-null   object \n",
      " 29  Foundation     1459 non-null   object \n",
      " 30  BsmtQual       1459 non-null   object \n",
      " 31  BsmtCond       1459 non-null   object \n",
      " 32  BsmtExposure   1459 non-null   object \n",
      " 33  BsmtFinType1   1459 non-null   object \n",
      " 34  BsmtFinSF1     1458 non-null   float64\n",
      " 35  BsmtFinType2   1459 non-null   object \n",
      " 36  BsmtFinSF2     1458 non-null   float64\n",
      " 37  BsmtUnfSF      1458 non-null   float64\n",
      " 38  TotalBsmtSF    1458 non-null   float64\n",
      " 39  Heating        1459 non-null   object \n",
      " 40  HeatingQC      1459 non-null   object \n",
      " 41  CentralAir     1459 non-null   object \n",
      " 42  Electrical     1459 non-null   object \n",
      " 43  1stFlrSF       1459 non-null   int64  \n",
      " 44  2ndFlrSF       1459 non-null   int64  \n",
      " 45  LowQualFinSF   1459 non-null   int64  \n",
      " 46  GrLivArea      1459 non-null   int64  \n",
      " 47  BsmtFullBath   1457 non-null   float64\n",
      " 48  BsmtHalfBath   1457 non-null   float64\n",
      " 49  FullBath       1459 non-null   int64  \n",
      " 50  HalfBath       1459 non-null   int64  \n",
      " 51  BedroomAbvGr   1459 non-null   int64  \n",
      " 52  KitchenAbvGr   1459 non-null   int64  \n",
      " 53  KitchenQual    1458 non-null   object \n",
      " 54  TotRmsAbvGrd   1459 non-null   int64  \n",
      " 55  Functional     1457 non-null   object \n",
      " 56  Fireplaces     1459 non-null   int64  \n",
      " 57  FireplaceQu    1459 non-null   object \n",
      " 58  GarageType     1459 non-null   object \n",
      " 59  GarageYrBlt    1381 non-null   float64\n",
      " 60  GarageFinish   1459 non-null   object \n",
      " 61  GarageCars     1458 non-null   float64\n",
      " 62  GarageArea     1458 non-null   float64\n",
      " 63  GarageQual     1459 non-null   object \n",
      " 64  GarageCond     1459 non-null   object \n",
      " 65  PavedDrive     1459 non-null   object \n",
      " 66  WoodDeckSF     1459 non-null   int64  \n",
      " 67  OpenPorchSF    1459 non-null   int64  \n",
      " 68  EnclosedPorch  1459 non-null   int64  \n",
      " 69  3SsnPorch      1459 non-null   int64  \n",
      " 70  ScreenPorch    1459 non-null   int64  \n",
      " 71  PoolArea       1459 non-null   int64  \n",
      " 72  PoolQC         1459 non-null   object \n",
      " 73  Fence          1459 non-null   object \n",
      " 74  MiscFeature    1459 non-null   object \n",
      " 75  MiscVal        1459 non-null   int64  \n",
      " 76  MoSold         1459 non-null   int64  \n",
      " 77  YrSold         1459 non-null   int64  \n",
      " 78  SaleType       1458 non-null   object \n",
      " 79  SaleCondition  1459 non-null   object \n",
      "dtypes: float64(11), int64(26), object(43)\n",
      "memory usage: 912.0+ KB\n"
     ]
    }
   ],
   "source": [
    "df_test.info()"
   ]
  },
  {
   "cell_type": "markdown",
   "id": "01ee6c10",
   "metadata": {},
   "source": [
    "### Fill Missing Values"
   ]
  },
  {
   "cell_type": "code",
   "execution_count": 185,
   "id": "f0f590e5",
   "metadata": {},
   "outputs": [],
   "source": [
    "df_test['LotFrontage'].fillna(df_train['LotFrontage'].mean(),inplace=True)\n",
    "df_test['Utilities'].fillna(df_train['Utilities'].mode()[0],inplace=True)\n",
    "df_test['Exterior1st'].fillna(df_train['Exterior1st'].mode()[0],inplace=True)\n",
    "df_test['Exterior2nd'].fillna(df_train['Exterior2nd'].mode()[0],inplace=True)\n",
    "df_test['MasVnrType'].fillna(df_train['MasVnrType'].mode()[0],inplace=True)\n",
    "df_test['MasVnrArea'].fillna(df_train['MasVnrArea'].mean(),inplace=True)\n",
    "df_test['BsmtFinSF1'].fillna(df_train['BsmtFinSF1'].mean(),inplace=True)\n",
    "df_test['BsmtFinSF2'].fillna(df_train['BsmtFinSF2'].mean(),inplace=True)\n",
    "df_test['BsmtUnfSF'].fillna(df_train['BsmtUnfSF'].mean(),inplace=True)\n",
    "df_test['TotalBsmtSF'].fillna(df_train['TotalBsmtSF'].mean(),inplace=True)\n",
    "df_test['BsmtFullBath'].fillna(df_train['BsmtFullBath'].mean(),inplace=True,)\n",
    "df_test['BsmtHalfBath'].fillna(df_train['BsmtHalfBath'].mean(),inplace=True)\n",
    "df_test['KitchenQual'].fillna(df_train['KitchenQual'].mode()[0],inplace=True)\n",
    "df_test['Functional'].fillna(df_train['Functional'].mode()[0],inplace=True)\n",
    "df_test['GarageYrBlt'].fillna(df_train['GarageYrBlt'].median(),inplace=True)\n",
    "df_test['GarageCars'].fillna(df_train['GarageCars'].mean(),inplace=True)\n",
    "df_test['GarageArea'].fillna(df_train['GarageArea'].mean(),inplace=True)\n",
    "df_test['SaleType'].fillna(df_train['SaleType'].mode()[0],inplace=True)"
   ]
  },
  {
   "cell_type": "code",
   "execution_count": 186,
   "id": "22f7db24",
   "metadata": {},
   "outputs": [
    {
     "data": {
      "text/plain": [
       "0"
      ]
     },
     "execution_count": 186,
     "metadata": {},
     "output_type": "execute_result"
    }
   ],
   "source": [
    "df_train['BsmtFinSF1'].mode()[0]"
   ]
  },
  {
   "cell_type": "code",
   "execution_count": 187,
   "id": "bbf985fe",
   "metadata": {},
   "outputs": [
    {
     "data": {
      "text/plain": [
       "0.000000    849\n",
       "1.000000    584\n",
       "2.000000     23\n",
       "0.410293      2\n",
       "3.000000      1\n",
       "Name: BsmtFullBath, dtype: int64"
      ]
     },
     "execution_count": 187,
     "metadata": {},
     "output_type": "execute_result"
    }
   ],
   "source": [
    "df_test['BsmtFullBath'].value_counts()"
   ]
  },
  {
   "cell_type": "code",
   "execution_count": 188,
   "id": "46e2e235",
   "metadata": {},
   "outputs": [
    {
     "data": {
      "text/plain": [
       "0.000000    1364\n",
       "1.000000      91\n",
       "0.058613       2\n",
       "2.000000       2\n",
       "Name: BsmtHalfBath, dtype: int64"
      ]
     },
     "execution_count": 188,
     "metadata": {},
     "output_type": "execute_result"
    }
   ],
   "source": [
    "df_test['BsmtHalfBath'].value_counts()"
   ]
  },
  {
   "cell_type": "code",
   "execution_count": null,
   "id": "a0577502",
   "metadata": {},
   "outputs": [],
   "source": []
  },
  {
   "cell_type": "code",
   "execution_count": null,
   "id": "79abddd9",
   "metadata": {},
   "outputs": [],
   "source": []
  },
  {
   "cell_type": "code",
   "execution_count": 189,
   "id": "d2c5f795",
   "metadata": {},
   "outputs": [
    {
     "name": "stdout",
     "output_type": "stream",
     "text": [
      "<class 'pandas.core.frame.DataFrame'>\n",
      "RangeIndex: 1459 entries, 0 to 1458\n",
      "Data columns (total 80 columns):\n",
      " #   Column         Non-Null Count  Dtype  \n",
      "---  ------         --------------  -----  \n",
      " 0   Id             1459 non-null   int64  \n",
      " 1   MSSubClass     1459 non-null   int64  \n",
      " 2   MSZoning       1459 non-null   object \n",
      " 3   LotFrontage    1459 non-null   float64\n",
      " 4   LotArea        1459 non-null   int64  \n",
      " 5   Street         1459 non-null   object \n",
      " 6   Alley          1459 non-null   object \n",
      " 7   LotShape       1459 non-null   object \n",
      " 8   LandContour    1459 non-null   object \n",
      " 9   Utilities      1459 non-null   object \n",
      " 10  LotConfig      1459 non-null   object \n",
      " 11  LandSlope      1459 non-null   object \n",
      " 12  Neighborhood   1459 non-null   object \n",
      " 13  Condition1     1459 non-null   object \n",
      " 14  Condition2     1459 non-null   object \n",
      " 15  BldgType       1459 non-null   object \n",
      " 16  HouseStyle     1459 non-null   object \n",
      " 17  OverallQual    1459 non-null   int64  \n",
      " 18  OverallCond    1459 non-null   int64  \n",
      " 19  YearBuilt      1459 non-null   int64  \n",
      " 20  YearRemodAdd   1459 non-null   int64  \n",
      " 21  RoofStyle      1459 non-null   object \n",
      " 22  RoofMatl       1459 non-null   object \n",
      " 23  Exterior1st    1459 non-null   object \n",
      " 24  Exterior2nd    1459 non-null   object \n",
      " 25  MasVnrType     1459 non-null   object \n",
      " 26  MasVnrArea     1459 non-null   float64\n",
      " 27  ExterQual      1459 non-null   object \n",
      " 28  ExterCond      1459 non-null   object \n",
      " 29  Foundation     1459 non-null   object \n",
      " 30  BsmtQual       1459 non-null   object \n",
      " 31  BsmtCond       1459 non-null   object \n",
      " 32  BsmtExposure   1459 non-null   object \n",
      " 33  BsmtFinType1   1459 non-null   object \n",
      " 34  BsmtFinSF1     1459 non-null   float64\n",
      " 35  BsmtFinType2   1459 non-null   object \n",
      " 36  BsmtFinSF2     1459 non-null   float64\n",
      " 37  BsmtUnfSF      1459 non-null   float64\n",
      " 38  TotalBsmtSF    1459 non-null   float64\n",
      " 39  Heating        1459 non-null   object \n",
      " 40  HeatingQC      1459 non-null   object \n",
      " 41  CentralAir     1459 non-null   object \n",
      " 42  Electrical     1459 non-null   object \n",
      " 43  1stFlrSF       1459 non-null   int64  \n",
      " 44  2ndFlrSF       1459 non-null   int64  \n",
      " 45  LowQualFinSF   1459 non-null   int64  \n",
      " 46  GrLivArea      1459 non-null   int64  \n",
      " 47  BsmtFullBath   1459 non-null   float64\n",
      " 48  BsmtHalfBath   1459 non-null   float64\n",
      " 49  FullBath       1459 non-null   int64  \n",
      " 50  HalfBath       1459 non-null   int64  \n",
      " 51  BedroomAbvGr   1459 non-null   int64  \n",
      " 52  KitchenAbvGr   1459 non-null   int64  \n",
      " 53  KitchenQual    1459 non-null   object \n",
      " 54  TotRmsAbvGrd   1459 non-null   int64  \n",
      " 55  Functional     1459 non-null   object \n",
      " 56  Fireplaces     1459 non-null   int64  \n",
      " 57  FireplaceQu    1459 non-null   object \n",
      " 58  GarageType     1459 non-null   object \n",
      " 59  GarageYrBlt    1459 non-null   float64\n",
      " 60  GarageFinish   1459 non-null   object \n",
      " 61  GarageCars     1459 non-null   float64\n",
      " 62  GarageArea     1459 non-null   float64\n",
      " 63  GarageQual     1459 non-null   object \n",
      " 64  GarageCond     1459 non-null   object \n",
      " 65  PavedDrive     1459 non-null   object \n",
      " 66  WoodDeckSF     1459 non-null   int64  \n",
      " 67  OpenPorchSF    1459 non-null   int64  \n",
      " 68  EnclosedPorch  1459 non-null   int64  \n",
      " 69  3SsnPorch      1459 non-null   int64  \n",
      " 70  ScreenPorch    1459 non-null   int64  \n",
      " 71  PoolArea       1459 non-null   int64  \n",
      " 72  PoolQC         1459 non-null   object \n",
      " 73  Fence          1459 non-null   object \n",
      " 74  MiscFeature    1459 non-null   object \n",
      " 75  MiscVal        1459 non-null   int64  \n",
      " 76  MoSold         1459 non-null   int64  \n",
      " 77  YrSold         1459 non-null   int64  \n",
      " 78  SaleType       1459 non-null   object \n",
      " 79  SaleCondition  1459 non-null   object \n",
      "dtypes: float64(11), int64(26), object(43)\n",
      "memory usage: 912.0+ KB\n"
     ]
    }
   ],
   "source": [
    "df_test.info()"
   ]
  },
  {
   "cell_type": "code",
   "execution_count": null,
   "id": "32b5545c",
   "metadata": {},
   "outputs": [],
   "source": []
  },
  {
   "cell_type": "markdown",
   "id": "4a9bd73d",
   "metadata": {},
   "source": [
    "## DATA PreProcessing and Encoding"
   ]
  },
  {
   "cell_type": "code",
   "execution_count": 190,
   "id": "00d43039",
   "metadata": {},
   "outputs": [
    {
     "data": {
      "text/plain": [
       "RL                1114\n",
       "RM                 242\n",
       "FV                  74\n",
       "MSZoning_Other      29\n",
       "Name: MSZoning, dtype: int64"
      ]
     },
     "execution_count": 190,
     "metadata": {},
     "output_type": "execute_result"
    }
   ],
   "source": [
    "zoning=df_test['MSZoning'].value_counts().iloc[:3].index #selecting first 3 rows of high values\n",
    "df_test['MSZoning']=df_test['MSZoning'].apply(lambda z:z if z in zoning else 'MSZoning_Other')\n",
    "df_test['MSZoning'].value_counts()"
   ]
  },
  {
   "cell_type": "code",
   "execution_count": 191,
   "id": "d3efccb5",
   "metadata": {},
   "outputs": [
    {
     "data": {
      "text/html": [
       "<div>\n",
       "<style scoped>\n",
       "    .dataframe tbody tr th:only-of-type {\n",
       "        vertical-align: middle;\n",
       "    }\n",
       "\n",
       "    .dataframe tbody tr th {\n",
       "        vertical-align: top;\n",
       "    }\n",
       "\n",
       "    .dataframe thead th {\n",
       "        text-align: right;\n",
       "    }\n",
       "</style>\n",
       "<table border=\"1\" class=\"dataframe\">\n",
       "  <thead>\n",
       "    <tr style=\"text-align: right;\">\n",
       "      <th></th>\n",
       "      <th>FV</th>\n",
       "      <th>MSZoning_Other</th>\n",
       "      <th>RL</th>\n",
       "      <th>RM</th>\n",
       "    </tr>\n",
       "  </thead>\n",
       "  <tbody>\n",
       "    <tr>\n",
       "      <th>0</th>\n",
       "      <td>0</td>\n",
       "      <td>1</td>\n",
       "      <td>0</td>\n",
       "      <td>0</td>\n",
       "    </tr>\n",
       "    <tr>\n",
       "      <th>1</th>\n",
       "      <td>0</td>\n",
       "      <td>0</td>\n",
       "      <td>1</td>\n",
       "      <td>0</td>\n",
       "    </tr>\n",
       "    <tr>\n",
       "      <th>2</th>\n",
       "      <td>0</td>\n",
       "      <td>0</td>\n",
       "      <td>1</td>\n",
       "      <td>0</td>\n",
       "    </tr>\n",
       "    <tr>\n",
       "      <th>3</th>\n",
       "      <td>0</td>\n",
       "      <td>0</td>\n",
       "      <td>1</td>\n",
       "      <td>0</td>\n",
       "    </tr>\n",
       "    <tr>\n",
       "      <th>4</th>\n",
       "      <td>0</td>\n",
       "      <td>0</td>\n",
       "      <td>1</td>\n",
       "      <td>0</td>\n",
       "    </tr>\n",
       "  </tbody>\n",
       "</table>\n",
       "</div>"
      ],
      "text/plain": [
       "   FV  MSZoning_Other  RL  RM\n",
       "0   0               1   0   0\n",
       "1   0               0   1   0\n",
       "2   0               0   1   0\n",
       "3   0               0   1   0\n",
       "4   0               0   1   0"
      ]
     },
     "execution_count": 191,
     "metadata": {},
     "output_type": "execute_result"
    }
   ],
   "source": [
    "MSZoning_enc=Ohe.transform(df_test[['MSZoning']])\n",
    "MSZoning_enc_df=pd.DataFrame(data=MSZoning_enc,columns=Ohe.categories_[0],dtype=int)\n",
    "MSZoning_enc_df.head()"
   ]
  },
  {
   "cell_type": "code",
   "execution_count": 192,
   "id": "d70dd6a0",
   "metadata": {},
   "outputs": [
    {
     "data": {
      "text/html": [
       "<div>\n",
       "<style scoped>\n",
       "    .dataframe tbody tr th:only-of-type {\n",
       "        vertical-align: middle;\n",
       "    }\n",
       "\n",
       "    .dataframe tbody tr th {\n",
       "        vertical-align: top;\n",
       "    }\n",
       "\n",
       "    .dataframe thead th {\n",
       "        text-align: right;\n",
       "    }\n",
       "</style>\n",
       "<table border=\"1\" class=\"dataframe\">\n",
       "  <thead>\n",
       "    <tr style=\"text-align: right;\">\n",
       "      <th></th>\n",
       "      <th>Grvl</th>\n",
       "      <th>Pave</th>\n",
       "    </tr>\n",
       "  </thead>\n",
       "  <tbody>\n",
       "    <tr>\n",
       "      <th>0</th>\n",
       "      <td>0</td>\n",
       "      <td>1</td>\n",
       "    </tr>\n",
       "    <tr>\n",
       "      <th>1</th>\n",
       "      <td>0</td>\n",
       "      <td>1</td>\n",
       "    </tr>\n",
       "    <tr>\n",
       "      <th>2</th>\n",
       "      <td>0</td>\n",
       "      <td>1</td>\n",
       "    </tr>\n",
       "    <tr>\n",
       "      <th>3</th>\n",
       "      <td>0</td>\n",
       "      <td>1</td>\n",
       "    </tr>\n",
       "    <tr>\n",
       "      <th>4</th>\n",
       "      <td>0</td>\n",
       "      <td>1</td>\n",
       "    </tr>\n",
       "  </tbody>\n",
       "</table>\n",
       "</div>"
      ],
      "text/plain": [
       "   Grvl  Pave\n",
       "0     0     1\n",
       "1     0     1\n",
       "2     0     1\n",
       "3     0     1\n",
       "4     0     1"
      ]
     },
     "execution_count": 192,
     "metadata": {},
     "output_type": "execute_result"
    }
   ],
   "source": [
    "Street_enc=Ohe1.transform(df_test[['Street']])\n",
    "Street_enc_df=pd.DataFrame(data=Street_enc,columns=Ohe1.categories_[0],dtype=int)\n",
    "Street_enc_df.head()"
   ]
  },
  {
   "cell_type": "code",
   "execution_count": 193,
   "id": "4d6bb825",
   "metadata": {},
   "outputs": [
    {
     "data": {
      "text/html": [
       "<div>\n",
       "<style scoped>\n",
       "    .dataframe tbody tr th:only-of-type {\n",
       "        vertical-align: middle;\n",
       "    }\n",
       "\n",
       "    .dataframe tbody tr th {\n",
       "        vertical-align: top;\n",
       "    }\n",
       "\n",
       "    .dataframe thead th {\n",
       "        text-align: right;\n",
       "    }\n",
       "</style>\n",
       "<table border=\"1\" class=\"dataframe\">\n",
       "  <thead>\n",
       "    <tr style=\"text-align: right;\">\n",
       "      <th></th>\n",
       "      <th>Grvl</th>\n",
       "      <th>NA</th>\n",
       "      <th>Pave</th>\n",
       "    </tr>\n",
       "  </thead>\n",
       "  <tbody>\n",
       "    <tr>\n",
       "      <th>0</th>\n",
       "      <td>0</td>\n",
       "      <td>1</td>\n",
       "      <td>0</td>\n",
       "    </tr>\n",
       "    <tr>\n",
       "      <th>1</th>\n",
       "      <td>0</td>\n",
       "      <td>1</td>\n",
       "      <td>0</td>\n",
       "    </tr>\n",
       "    <tr>\n",
       "      <th>2</th>\n",
       "      <td>0</td>\n",
       "      <td>1</td>\n",
       "      <td>0</td>\n",
       "    </tr>\n",
       "    <tr>\n",
       "      <th>3</th>\n",
       "      <td>0</td>\n",
       "      <td>1</td>\n",
       "      <td>0</td>\n",
       "    </tr>\n",
       "    <tr>\n",
       "      <th>4</th>\n",
       "      <td>0</td>\n",
       "      <td>1</td>\n",
       "      <td>0</td>\n",
       "    </tr>\n",
       "  </tbody>\n",
       "</table>\n",
       "</div>"
      ],
      "text/plain": [
       "   Grvl  NA  Pave\n",
       "0     0   1     0\n",
       "1     0   1     0\n",
       "2     0   1     0\n",
       "3     0   1     0\n",
       "4     0   1     0"
      ]
     },
     "execution_count": 193,
     "metadata": {},
     "output_type": "execute_result"
    }
   ],
   "source": [
    "Alley_enc=Ohe2.transform(df_test[['Alley']])\n",
    "Alley_enc_df=pd.DataFrame(data=Alley_enc,columns=Ohe2.categories_[0],dtype=int)\n",
    "Alley_enc_df.head()"
   ]
  },
  {
   "cell_type": "code",
   "execution_count": 194,
   "id": "409b5483",
   "metadata": {},
   "outputs": [
    {
     "data": {
      "text/html": [
       "<div>\n",
       "<style scoped>\n",
       "    .dataframe tbody tr th:only-of-type {\n",
       "        vertical-align: middle;\n",
       "    }\n",
       "\n",
       "    .dataframe tbody tr th {\n",
       "        vertical-align: top;\n",
       "    }\n",
       "\n",
       "    .dataframe thead th {\n",
       "        text-align: right;\n",
       "    }\n",
       "</style>\n",
       "<table border=\"1\" class=\"dataframe\">\n",
       "  <thead>\n",
       "    <tr style=\"text-align: right;\">\n",
       "      <th></th>\n",
       "      <th>IR1</th>\n",
       "      <th>IR2</th>\n",
       "      <th>IR3</th>\n",
       "      <th>Reg</th>\n",
       "      <th>Bnk</th>\n",
       "      <th>HLS</th>\n",
       "      <th>Low</th>\n",
       "      <th>Lvl</th>\n",
       "      <th>AllPub</th>\n",
       "      <th>NoSeWa</th>\n",
       "    </tr>\n",
       "  </thead>\n",
       "  <tbody>\n",
       "    <tr>\n",
       "      <th>0</th>\n",
       "      <td>0</td>\n",
       "      <td>0</td>\n",
       "      <td>0</td>\n",
       "      <td>1</td>\n",
       "      <td>0</td>\n",
       "      <td>0</td>\n",
       "      <td>0</td>\n",
       "      <td>1</td>\n",
       "      <td>1</td>\n",
       "      <td>0</td>\n",
       "    </tr>\n",
       "    <tr>\n",
       "      <th>1</th>\n",
       "      <td>1</td>\n",
       "      <td>0</td>\n",
       "      <td>0</td>\n",
       "      <td>0</td>\n",
       "      <td>0</td>\n",
       "      <td>0</td>\n",
       "      <td>0</td>\n",
       "      <td>1</td>\n",
       "      <td>1</td>\n",
       "      <td>0</td>\n",
       "    </tr>\n",
       "    <tr>\n",
       "      <th>2</th>\n",
       "      <td>1</td>\n",
       "      <td>0</td>\n",
       "      <td>0</td>\n",
       "      <td>0</td>\n",
       "      <td>0</td>\n",
       "      <td>0</td>\n",
       "      <td>0</td>\n",
       "      <td>1</td>\n",
       "      <td>1</td>\n",
       "      <td>0</td>\n",
       "    </tr>\n",
       "    <tr>\n",
       "      <th>3</th>\n",
       "      <td>1</td>\n",
       "      <td>0</td>\n",
       "      <td>0</td>\n",
       "      <td>0</td>\n",
       "      <td>0</td>\n",
       "      <td>0</td>\n",
       "      <td>0</td>\n",
       "      <td>1</td>\n",
       "      <td>1</td>\n",
       "      <td>0</td>\n",
       "    </tr>\n",
       "    <tr>\n",
       "      <th>4</th>\n",
       "      <td>1</td>\n",
       "      <td>0</td>\n",
       "      <td>0</td>\n",
       "      <td>0</td>\n",
       "      <td>0</td>\n",
       "      <td>1</td>\n",
       "      <td>0</td>\n",
       "      <td>0</td>\n",
       "      <td>1</td>\n",
       "      <td>0</td>\n",
       "    </tr>\n",
       "  </tbody>\n",
       "</table>\n",
       "</div>"
      ],
      "text/plain": [
       "   IR1  IR2  IR3  Reg  Bnk  HLS  Low  Lvl  AllPub  NoSeWa\n",
       "0    0    0    0    1    0    0    0    1       1       0\n",
       "1    1    0    0    0    0    0    0    1       1       0\n",
       "2    1    0    0    0    0    0    0    1       1       0\n",
       "3    1    0    0    0    0    0    0    1       1       0\n",
       "4    1    0    0    0    0    1    0    0       1       0"
      ]
     },
     "execution_count": 194,
     "metadata": {},
     "output_type": "execute_result"
    }
   ],
   "source": [
    "multiple_enc=Ohe3.transform(df_test[['LotShape','LandContour','Utilities']])\n",
    "LotLandUti_enc_df=pd.DataFrame(data=multiple_enc,dtype=int)\n",
    "LotLandUti_enc_df.rename(columns={0:'IR1', 1:'IR2', 2:'IR3', 3:'Reg',4:'Bnk', 5:'HLS', 6:'Low', 7:'Lvl',8:'AllPub', 9:'NoSeWa'},inplace=True)\n",
    "LotLandUti_enc_df.head()"
   ]
  },
  {
   "cell_type": "code",
   "execution_count": 195,
   "id": "7938c5da",
   "metadata": {},
   "outputs": [
    {
     "data": {
      "text/plain": [
       "Inside             1081\n",
       "Corner              248\n",
       "LotConfig_Other     130\n",
       "Name: LotConfig, dtype: int64"
      ]
     },
     "execution_count": 195,
     "metadata": {},
     "output_type": "execute_result"
    }
   ],
   "source": [
    "lotconfig=df_test['LotConfig'].value_counts().iloc[:2].index\n",
    "df_test['LotConfig']=df_test['LotConfig'].apply(lambda l:l if l in lotconfig else 'LotConfig_Other')\n",
    "df_test['LotConfig'].value_counts()"
   ]
  },
  {
   "cell_type": "code",
   "execution_count": 196,
   "id": "f00e4f12",
   "metadata": {},
   "outputs": [
    {
     "data": {
      "text/plain": [
       "Norm           1251\n",
       "Feedr            83\n",
       "Cond1_Other      81\n",
       "Artery           44\n",
       "Name: Condition1, dtype: int64"
      ]
     },
     "execution_count": 196,
     "metadata": {},
     "output_type": "execute_result"
    }
   ],
   "source": [
    "cond1=df_test['Condition1'].value_counts().iloc[:3].index\n",
    "df_test['Condition1']=df_test['Condition1'].apply(lambda c:c if c in cond1 else 'Cond1_Other')\n",
    "df_test['Condition1'].value_counts()"
   ]
  },
  {
   "cell_type": "code",
   "execution_count": 197,
   "id": "358af955",
   "metadata": {},
   "outputs": [
    {
     "data": {
      "text/plain": [
       "Norm           1444\n",
       "Cond2_Other      15\n",
       "Name: Condition2, dtype: int64"
      ]
     },
     "execution_count": 197,
     "metadata": {},
     "output_type": "execute_result"
    }
   ],
   "source": [
    "Cond2=df_train['Condition2'].value_counts().iloc[:1].index\n",
    "df_test['Condition2']=df_test['Condition2'].apply(lambda c:c if c in Cond2 else 'Cond2_Other')\n",
    "df_test['Condition2'].value_counts()"
   ]
  },
  {
   "cell_type": "code",
   "execution_count": 198,
   "id": "702f3a4c",
   "metadata": {},
   "outputs": [
    {
     "data": {
      "text/html": [
       "<div>\n",
       "<style scoped>\n",
       "    .dataframe tbody tr th:only-of-type {\n",
       "        vertical-align: middle;\n",
       "    }\n",
       "\n",
       "    .dataframe tbody tr th {\n",
       "        vertical-align: top;\n",
       "    }\n",
       "\n",
       "    .dataframe thead th {\n",
       "        text-align: right;\n",
       "    }\n",
       "</style>\n",
       "<table border=\"1\" class=\"dataframe\">\n",
       "  <thead>\n",
       "    <tr style=\"text-align: right;\">\n",
       "      <th></th>\n",
       "      <th>Corner</th>\n",
       "      <th>Inside</th>\n",
       "      <th>LotConfig_Other</th>\n",
       "      <th>Gtl</th>\n",
       "      <th>Mod</th>\n",
       "      <th>Sev</th>\n",
       "      <th>Artery</th>\n",
       "      <th>Feedr</th>\n",
       "      <th>Norm</th>\n",
       "      <th>Cond1_Other</th>\n",
       "      <th>Norm</th>\n",
       "      <th>Cond2_Other</th>\n",
       "    </tr>\n",
       "  </thead>\n",
       "  <tbody>\n",
       "    <tr>\n",
       "      <th>0</th>\n",
       "      <td>0</td>\n",
       "      <td>1</td>\n",
       "      <td>0</td>\n",
       "      <td>1</td>\n",
       "      <td>0</td>\n",
       "      <td>0</td>\n",
       "      <td>0</td>\n",
       "      <td>0</td>\n",
       "      <td>1</td>\n",
       "      <td>0</td>\n",
       "      <td>0</td>\n",
       "      <td>1</td>\n",
       "    </tr>\n",
       "    <tr>\n",
       "      <th>1</th>\n",
       "      <td>1</td>\n",
       "      <td>0</td>\n",
       "      <td>0</td>\n",
       "      <td>1</td>\n",
       "      <td>0</td>\n",
       "      <td>0</td>\n",
       "      <td>0</td>\n",
       "      <td>0</td>\n",
       "      <td>0</td>\n",
       "      <td>1</td>\n",
       "      <td>0</td>\n",
       "      <td>1</td>\n",
       "    </tr>\n",
       "    <tr>\n",
       "      <th>2</th>\n",
       "      <td>0</td>\n",
       "      <td>1</td>\n",
       "      <td>0</td>\n",
       "      <td>1</td>\n",
       "      <td>0</td>\n",
       "      <td>0</td>\n",
       "      <td>0</td>\n",
       "      <td>0</td>\n",
       "      <td>0</td>\n",
       "      <td>1</td>\n",
       "      <td>0</td>\n",
       "      <td>1</td>\n",
       "    </tr>\n",
       "    <tr>\n",
       "      <th>3</th>\n",
       "      <td>0</td>\n",
       "      <td>1</td>\n",
       "      <td>0</td>\n",
       "      <td>1</td>\n",
       "      <td>0</td>\n",
       "      <td>0</td>\n",
       "      <td>0</td>\n",
       "      <td>0</td>\n",
       "      <td>0</td>\n",
       "      <td>1</td>\n",
       "      <td>0</td>\n",
       "      <td>1</td>\n",
       "    </tr>\n",
       "    <tr>\n",
       "      <th>4</th>\n",
       "      <td>0</td>\n",
       "      <td>1</td>\n",
       "      <td>0</td>\n",
       "      <td>1</td>\n",
       "      <td>0</td>\n",
       "      <td>0</td>\n",
       "      <td>0</td>\n",
       "      <td>0</td>\n",
       "      <td>0</td>\n",
       "      <td>1</td>\n",
       "      <td>0</td>\n",
       "      <td>1</td>\n",
       "    </tr>\n",
       "  </tbody>\n",
       "</table>\n",
       "</div>"
      ],
      "text/plain": [
       "   Corner  Inside  LotConfig_Other  Gtl  Mod  Sev  Artery  Feedr  Norm  \\\n",
       "0       0       1                0    1    0    0       0      0     1   \n",
       "1       1       0                0    1    0    0       0      0     0   \n",
       "2       0       1                0    1    0    0       0      0     0   \n",
       "3       0       1                0    1    0    0       0      0     0   \n",
       "4       0       1                0    1    0    0       0      0     0   \n",
       "\n",
       "   Cond1_Other  Norm  Cond2_Other  \n",
       "0            0     0            1  \n",
       "1            1     0            1  \n",
       "2            1     0            1  \n",
       "3            1     0            1  \n",
       "4            1     0            1  "
      ]
     },
     "execution_count": 198,
     "metadata": {},
     "output_type": "execute_result"
    }
   ],
   "source": [
    "multiple_enc2=Ohe4.transform(df_test[['LotConfig', 'LandSlope','Condition1','Condition2']])\n",
    "LotLandCond12_enc_df=pd.DataFrame(data=multiple_enc2,dtype=int)\n",
    "LotLandCond12_enc_df.rename(columns={0:'Corner', 1:'Inside', 2:'LotConfig_Other',3:'Gtl', 4:'Mod', 5:'Sev',6:'Artery', 7:'Feedr', 8:'Norm', 9:'Cond1_Other',10:'Norm', 11:'Cond2_Other'},inplace=True)\n",
    "LotLandCond12_enc_df.head()"
   ]
  },
  {
   "cell_type": "code",
   "execution_count": 199,
   "id": "cebcf746",
   "metadata": {},
   "outputs": [
    {
     "data": {
      "text/html": [
       "<div>\n",
       "<style scoped>\n",
       "    .dataframe tbody tr th:only-of-type {\n",
       "        vertical-align: middle;\n",
       "    }\n",
       "\n",
       "    .dataframe tbody tr th {\n",
       "        vertical-align: top;\n",
       "    }\n",
       "\n",
       "    .dataframe thead th {\n",
       "        text-align: right;\n",
       "    }\n",
       "</style>\n",
       "<table border=\"1\" class=\"dataframe\">\n",
       "  <thead>\n",
       "    <tr style=\"text-align: right;\">\n",
       "      <th></th>\n",
       "      <th>Blmngtn</th>\n",
       "      <th>Blueste</th>\n",
       "      <th>BrDale</th>\n",
       "      <th>BrkSide</th>\n",
       "      <th>ClearCr</th>\n",
       "      <th>CollgCr</th>\n",
       "      <th>Crawfor</th>\n",
       "      <th>Edwards</th>\n",
       "      <th>Gilbert</th>\n",
       "      <th>IDOTRR</th>\n",
       "      <th>...</th>\n",
       "      <th>NoRidge</th>\n",
       "      <th>NridgHt</th>\n",
       "      <th>OldTown</th>\n",
       "      <th>SWISU</th>\n",
       "      <th>Sawyer</th>\n",
       "      <th>SawyerW</th>\n",
       "      <th>Somerst</th>\n",
       "      <th>StoneBr</th>\n",
       "      <th>Timber</th>\n",
       "      <th>Veenker</th>\n",
       "    </tr>\n",
       "  </thead>\n",
       "  <tbody>\n",
       "    <tr>\n",
       "      <th>0</th>\n",
       "      <td>0</td>\n",
       "      <td>0</td>\n",
       "      <td>0</td>\n",
       "      <td>0</td>\n",
       "      <td>0</td>\n",
       "      <td>0</td>\n",
       "      <td>0</td>\n",
       "      <td>0</td>\n",
       "      <td>0</td>\n",
       "      <td>0</td>\n",
       "      <td>...</td>\n",
       "      <td>0</td>\n",
       "      <td>0</td>\n",
       "      <td>0</td>\n",
       "      <td>0</td>\n",
       "      <td>0</td>\n",
       "      <td>0</td>\n",
       "      <td>0</td>\n",
       "      <td>0</td>\n",
       "      <td>0</td>\n",
       "      <td>0</td>\n",
       "    </tr>\n",
       "    <tr>\n",
       "      <th>1</th>\n",
       "      <td>0</td>\n",
       "      <td>0</td>\n",
       "      <td>0</td>\n",
       "      <td>0</td>\n",
       "      <td>0</td>\n",
       "      <td>0</td>\n",
       "      <td>0</td>\n",
       "      <td>0</td>\n",
       "      <td>0</td>\n",
       "      <td>0</td>\n",
       "      <td>...</td>\n",
       "      <td>0</td>\n",
       "      <td>0</td>\n",
       "      <td>0</td>\n",
       "      <td>0</td>\n",
       "      <td>0</td>\n",
       "      <td>0</td>\n",
       "      <td>0</td>\n",
       "      <td>0</td>\n",
       "      <td>0</td>\n",
       "      <td>0</td>\n",
       "    </tr>\n",
       "    <tr>\n",
       "      <th>2</th>\n",
       "      <td>0</td>\n",
       "      <td>0</td>\n",
       "      <td>0</td>\n",
       "      <td>0</td>\n",
       "      <td>0</td>\n",
       "      <td>0</td>\n",
       "      <td>0</td>\n",
       "      <td>0</td>\n",
       "      <td>1</td>\n",
       "      <td>0</td>\n",
       "      <td>...</td>\n",
       "      <td>0</td>\n",
       "      <td>0</td>\n",
       "      <td>0</td>\n",
       "      <td>0</td>\n",
       "      <td>0</td>\n",
       "      <td>0</td>\n",
       "      <td>0</td>\n",
       "      <td>0</td>\n",
       "      <td>0</td>\n",
       "      <td>0</td>\n",
       "    </tr>\n",
       "    <tr>\n",
       "      <th>3</th>\n",
       "      <td>0</td>\n",
       "      <td>0</td>\n",
       "      <td>0</td>\n",
       "      <td>0</td>\n",
       "      <td>0</td>\n",
       "      <td>0</td>\n",
       "      <td>0</td>\n",
       "      <td>0</td>\n",
       "      <td>1</td>\n",
       "      <td>0</td>\n",
       "      <td>...</td>\n",
       "      <td>0</td>\n",
       "      <td>0</td>\n",
       "      <td>0</td>\n",
       "      <td>0</td>\n",
       "      <td>0</td>\n",
       "      <td>0</td>\n",
       "      <td>0</td>\n",
       "      <td>0</td>\n",
       "      <td>0</td>\n",
       "      <td>0</td>\n",
       "    </tr>\n",
       "    <tr>\n",
       "      <th>4</th>\n",
       "      <td>0</td>\n",
       "      <td>0</td>\n",
       "      <td>0</td>\n",
       "      <td>0</td>\n",
       "      <td>0</td>\n",
       "      <td>0</td>\n",
       "      <td>0</td>\n",
       "      <td>0</td>\n",
       "      <td>0</td>\n",
       "      <td>0</td>\n",
       "      <td>...</td>\n",
       "      <td>0</td>\n",
       "      <td>0</td>\n",
       "      <td>0</td>\n",
       "      <td>0</td>\n",
       "      <td>0</td>\n",
       "      <td>0</td>\n",
       "      <td>0</td>\n",
       "      <td>1</td>\n",
       "      <td>0</td>\n",
       "      <td>0</td>\n",
       "    </tr>\n",
       "  </tbody>\n",
       "</table>\n",
       "<p>5 rows × 25 columns</p>\n",
       "</div>"
      ],
      "text/plain": [
       "   Blmngtn  Blueste  BrDale  BrkSide  ClearCr  CollgCr  Crawfor  Edwards  \\\n",
       "0        0        0       0        0        0        0        0        0   \n",
       "1        0        0       0        0        0        0        0        0   \n",
       "2        0        0       0        0        0        0        0        0   \n",
       "3        0        0       0        0        0        0        0        0   \n",
       "4        0        0       0        0        0        0        0        0   \n",
       "\n",
       "   Gilbert  IDOTRR  ...  NoRidge  NridgHt  OldTown  SWISU  Sawyer  SawyerW  \\\n",
       "0        0       0  ...        0        0        0      0       0        0   \n",
       "1        0       0  ...        0        0        0      0       0        0   \n",
       "2        1       0  ...        0        0        0      0       0        0   \n",
       "3        1       0  ...        0        0        0      0       0        0   \n",
       "4        0       0  ...        0        0        0      0       0        0   \n",
       "\n",
       "   Somerst  StoneBr  Timber  Veenker  \n",
       "0        0        0       0        0  \n",
       "1        0        0       0        0  \n",
       "2        0        0       0        0  \n",
       "3        0        0       0        0  \n",
       "4        0        1       0        0  \n",
       "\n",
       "[5 rows x 25 columns]"
      ]
     },
     "execution_count": 199,
     "metadata": {},
     "output_type": "execute_result"
    }
   ],
   "source": [
    "Neighborhood_enc=ohe5.transform(df_test[['Neighborhood']])\n",
    "Neighborhood_enc_df=pd.DataFrame(data=Neighborhood_enc,columns=ohe5.categories_[0],dtype=int)\n",
    "Neighborhood_enc_df.head()"
   ]
  },
  {
   "cell_type": "code",
   "execution_count": 200,
   "id": "33ff420d",
   "metadata": {},
   "outputs": [],
   "source": [
    "bldtype=df_test['BldgType'].value_counts().iloc[:2].index\n",
    "df_test['BldgType']=df_test['BldgType'].apply(lambda b:b if b in bldtype else 'BldgTpe_Other')\n",
    "housestyle=df_test['HouseStyle'].value_counts().iloc[:3].index\n",
    "df_test['HouseStyle']=df_test['HouseStyle'].apply(lambda h:h if h in housestyle else 'HouseStyle_Other')"
   ]
  },
  {
   "cell_type": "code",
   "execution_count": 201,
   "id": "29af7c73",
   "metadata": {},
   "outputs": [
    {
     "data": {
      "text/html": [
       "<div>\n",
       "<style scoped>\n",
       "    .dataframe tbody tr th:only-of-type {\n",
       "        vertical-align: middle;\n",
       "    }\n",
       "\n",
       "    .dataframe tbody tr th {\n",
       "        vertical-align: top;\n",
       "    }\n",
       "\n",
       "    .dataframe thead th {\n",
       "        text-align: right;\n",
       "    }\n",
       "</style>\n",
       "<table border=\"1\" class=\"dataframe\">\n",
       "  <thead>\n",
       "    <tr style=\"text-align: right;\">\n",
       "      <th></th>\n",
       "      <th>1Fam</th>\n",
       "      <th>BldgTpe_Other</th>\n",
       "      <th>TwnhsE</th>\n",
       "      <th>1.5Fin</th>\n",
       "      <th>1Story</th>\n",
       "      <th>2Story</th>\n",
       "      <th>HouseStyle_Other</th>\n",
       "    </tr>\n",
       "  </thead>\n",
       "  <tbody>\n",
       "    <tr>\n",
       "      <th>0</th>\n",
       "      <td>1</td>\n",
       "      <td>0</td>\n",
       "      <td>0</td>\n",
       "      <td>0</td>\n",
       "      <td>1</td>\n",
       "      <td>0</td>\n",
       "      <td>0</td>\n",
       "    </tr>\n",
       "    <tr>\n",
       "      <th>1</th>\n",
       "      <td>1</td>\n",
       "      <td>0</td>\n",
       "      <td>0</td>\n",
       "      <td>0</td>\n",
       "      <td>1</td>\n",
       "      <td>0</td>\n",
       "      <td>0</td>\n",
       "    </tr>\n",
       "    <tr>\n",
       "      <th>2</th>\n",
       "      <td>1</td>\n",
       "      <td>0</td>\n",
       "      <td>0</td>\n",
       "      <td>0</td>\n",
       "      <td>0</td>\n",
       "      <td>1</td>\n",
       "      <td>0</td>\n",
       "    </tr>\n",
       "    <tr>\n",
       "      <th>3</th>\n",
       "      <td>1</td>\n",
       "      <td>0</td>\n",
       "      <td>0</td>\n",
       "      <td>0</td>\n",
       "      <td>0</td>\n",
       "      <td>1</td>\n",
       "      <td>0</td>\n",
       "    </tr>\n",
       "    <tr>\n",
       "      <th>4</th>\n",
       "      <td>0</td>\n",
       "      <td>0</td>\n",
       "      <td>1</td>\n",
       "      <td>0</td>\n",
       "      <td>1</td>\n",
       "      <td>0</td>\n",
       "      <td>0</td>\n",
       "    </tr>\n",
       "  </tbody>\n",
       "</table>\n",
       "</div>"
      ],
      "text/plain": [
       "   1Fam  BldgTpe_Other  TwnhsE  1.5Fin  1Story  2Story  HouseStyle_Other\n",
       "0     1              0       0       0       1       0                 0\n",
       "1     1              0       0       0       1       0                 0\n",
       "2     1              0       0       0       0       1                 0\n",
       "3     1              0       0       0       0       1                 0\n",
       "4     0              0       1       0       1       0                 0"
      ]
     },
     "execution_count": 201,
     "metadata": {},
     "output_type": "execute_result"
    }
   ],
   "source": [
    "housestyle_enc=ohe6.transform(df_test[['BldgType','HouseStyle']])\n",
    "housestyle_enc_df=pd.DataFrame(data=housestyle_enc,dtype=int)\n",
    "housestyle_enc_df.rename(columns={0:'1Fam', 1:'BldgTpe_Other', 2:'TwnhsE',3:'1.5Fin', 4:'1Story', 5:'2Story', 6:'HouseStyle_Other'},inplace=True)\n",
    "housestyle_enc_df.head()"
   ]
  },
  {
   "cell_type": "code",
   "execution_count": 202,
   "id": "cfcbeee6",
   "metadata": {},
   "outputs": [],
   "source": [
    "roofstyle=df_test['RoofStyle'].value_counts().iloc[:2].index\n",
    "df_test['RoofStyle']=df_test['RoofStyle'].apply(lambda r:r if r in roofstyle else 'RoofStyle_Other')\n",
    "roofmat=df_test['RoofMatl'].value_counts().iloc[:1].index\n",
    "df_test['RoofMatl']=df_test['RoofMatl'].apply(lambda r:r if r in roofmat else 'RoofMat_Other')"
   ]
  },
  {
   "cell_type": "code",
   "execution_count": 203,
   "id": "148be679",
   "metadata": {},
   "outputs": [
    {
     "data": {
      "text/html": [
       "<div>\n",
       "<style scoped>\n",
       "    .dataframe tbody tr th:only-of-type {\n",
       "        vertical-align: middle;\n",
       "    }\n",
       "\n",
       "    .dataframe tbody tr th {\n",
       "        vertical-align: top;\n",
       "    }\n",
       "\n",
       "    .dataframe thead th {\n",
       "        text-align: right;\n",
       "    }\n",
       "</style>\n",
       "<table border=\"1\" class=\"dataframe\">\n",
       "  <thead>\n",
       "    <tr style=\"text-align: right;\">\n",
       "      <th></th>\n",
       "      <th>Gable</th>\n",
       "      <th>Hip</th>\n",
       "      <th>RoofStyle_Other</th>\n",
       "      <th>CompShg</th>\n",
       "      <th>RoofMat_Other</th>\n",
       "    </tr>\n",
       "  </thead>\n",
       "  <tbody>\n",
       "    <tr>\n",
       "      <th>0</th>\n",
       "      <td>1</td>\n",
       "      <td>0</td>\n",
       "      <td>0</td>\n",
       "      <td>1</td>\n",
       "      <td>0</td>\n",
       "    </tr>\n",
       "    <tr>\n",
       "      <th>1</th>\n",
       "      <td>0</td>\n",
       "      <td>1</td>\n",
       "      <td>0</td>\n",
       "      <td>1</td>\n",
       "      <td>0</td>\n",
       "    </tr>\n",
       "    <tr>\n",
       "      <th>2</th>\n",
       "      <td>1</td>\n",
       "      <td>0</td>\n",
       "      <td>0</td>\n",
       "      <td>1</td>\n",
       "      <td>0</td>\n",
       "    </tr>\n",
       "    <tr>\n",
       "      <th>3</th>\n",
       "      <td>1</td>\n",
       "      <td>0</td>\n",
       "      <td>0</td>\n",
       "      <td>1</td>\n",
       "      <td>0</td>\n",
       "    </tr>\n",
       "    <tr>\n",
       "      <th>4</th>\n",
       "      <td>1</td>\n",
       "      <td>0</td>\n",
       "      <td>0</td>\n",
       "      <td>1</td>\n",
       "      <td>0</td>\n",
       "    </tr>\n",
       "  </tbody>\n",
       "</table>\n",
       "</div>"
      ],
      "text/plain": [
       "   Gable  Hip  RoofStyle_Other  CompShg  RoofMat_Other\n",
       "0      1    0                0        1              0\n",
       "1      0    1                0        1              0\n",
       "2      1    0                0        1              0\n",
       "3      1    0                0        1              0\n",
       "4      1    0                0        1              0"
      ]
     },
     "execution_count": 203,
     "metadata": {},
     "output_type": "execute_result"
    }
   ],
   "source": [
    "roof_enc=ohe7.transform(df_test[['RoofStyle','RoofMatl']])\n",
    "roof_enc_df=pd.DataFrame(data=roof_enc,dtype=int)\n",
    "roof_enc_df.rename(columns={0:'Gable', 1:'Hip', 2:'RoofStyle_Other',3:'CompShg', 4:'RoofMat_Other'},inplace=True)\n",
    "roof_enc_df.head()"
   ]
  },
  {
   "cell_type": "code",
   "execution_count": 204,
   "id": "80cc4f3a",
   "metadata": {},
   "outputs": [],
   "source": [
    "ext1st=df_test['Exterior1st'].value_counts().iloc[:5].index\n",
    "df_test['Exterior1st']=df_test['Exterior1st'].apply(lambda e:e if e in ext1st else 'Ext1st_Other')\n",
    "ext2nd=df_test['Exterior2nd'].value_counts().iloc[:5].index\n",
    "df_test['Exterior2nd']=df_test['Exterior2nd'].apply(lambda e:e if e in ext2nd else 'Ext2nd_Other')\n",
    "msvnrtpe=df_test['MasVnrType'].value_counts().iloc[:1].index\n",
    "df_test['MasVnrType']=df_test['MasVnrType'].apply(lambda m:m if m in msvnrtpe else 'MsVnrType_Other')"
   ]
  },
  {
   "cell_type": "code",
   "execution_count": 205,
   "id": "46fd138f",
   "metadata": {
    "scrolled": true
   },
   "outputs": [
    {
     "data": {
      "text/html": [
       "<div>\n",
       "<style scoped>\n",
       "    .dataframe tbody tr th:only-of-type {\n",
       "        vertical-align: middle;\n",
       "    }\n",
       "\n",
       "    .dataframe tbody tr th {\n",
       "        vertical-align: top;\n",
       "    }\n",
       "\n",
       "    .dataframe thead th {\n",
       "        text-align: right;\n",
       "    }\n",
       "</style>\n",
       "<table border=\"1\" class=\"dataframe\">\n",
       "  <thead>\n",
       "    <tr style=\"text-align: right;\">\n",
       "      <th></th>\n",
       "      <th>Ext1st_Other</th>\n",
       "      <th>HdBoard1</th>\n",
       "      <th>MetalSd1</th>\n",
       "      <th>Plywood1</th>\n",
       "      <th>VinylSd1</th>\n",
       "      <th>Wd Sdng1</th>\n",
       "      <th>Ext2nd_Other</th>\n",
       "      <th>HdBoard2</th>\n",
       "      <th>MetalSd2</th>\n",
       "      <th>Plywood2</th>\n",
       "      <th>VinylSd2</th>\n",
       "      <th>Wd Sdng2</th>\n",
       "      <th>MsVnrType_Other</th>\n",
       "      <th>Msvnr_None</th>\n",
       "    </tr>\n",
       "  </thead>\n",
       "  <tbody>\n",
       "    <tr>\n",
       "      <th>0</th>\n",
       "      <td>0</td>\n",
       "      <td>0</td>\n",
       "      <td>0</td>\n",
       "      <td>0</td>\n",
       "      <td>1</td>\n",
       "      <td>0</td>\n",
       "      <td>0</td>\n",
       "      <td>0</td>\n",
       "      <td>0</td>\n",
       "      <td>0</td>\n",
       "      <td>1</td>\n",
       "      <td>0</td>\n",
       "      <td>0</td>\n",
       "      <td>1</td>\n",
       "    </tr>\n",
       "    <tr>\n",
       "      <th>1</th>\n",
       "      <td>0</td>\n",
       "      <td>0</td>\n",
       "      <td>0</td>\n",
       "      <td>0</td>\n",
       "      <td>0</td>\n",
       "      <td>1</td>\n",
       "      <td>0</td>\n",
       "      <td>0</td>\n",
       "      <td>0</td>\n",
       "      <td>0</td>\n",
       "      <td>0</td>\n",
       "      <td>1</td>\n",
       "      <td>1</td>\n",
       "      <td>0</td>\n",
       "    </tr>\n",
       "    <tr>\n",
       "      <th>2</th>\n",
       "      <td>0</td>\n",
       "      <td>0</td>\n",
       "      <td>0</td>\n",
       "      <td>0</td>\n",
       "      <td>1</td>\n",
       "      <td>0</td>\n",
       "      <td>0</td>\n",
       "      <td>0</td>\n",
       "      <td>0</td>\n",
       "      <td>0</td>\n",
       "      <td>1</td>\n",
       "      <td>0</td>\n",
       "      <td>0</td>\n",
       "      <td>1</td>\n",
       "    </tr>\n",
       "    <tr>\n",
       "      <th>3</th>\n",
       "      <td>0</td>\n",
       "      <td>0</td>\n",
       "      <td>0</td>\n",
       "      <td>0</td>\n",
       "      <td>1</td>\n",
       "      <td>0</td>\n",
       "      <td>0</td>\n",
       "      <td>0</td>\n",
       "      <td>0</td>\n",
       "      <td>0</td>\n",
       "      <td>1</td>\n",
       "      <td>0</td>\n",
       "      <td>1</td>\n",
       "      <td>0</td>\n",
       "    </tr>\n",
       "    <tr>\n",
       "      <th>4</th>\n",
       "      <td>0</td>\n",
       "      <td>1</td>\n",
       "      <td>0</td>\n",
       "      <td>0</td>\n",
       "      <td>0</td>\n",
       "      <td>0</td>\n",
       "      <td>0</td>\n",
       "      <td>1</td>\n",
       "      <td>0</td>\n",
       "      <td>0</td>\n",
       "      <td>0</td>\n",
       "      <td>0</td>\n",
       "      <td>0</td>\n",
       "      <td>1</td>\n",
       "    </tr>\n",
       "  </tbody>\n",
       "</table>\n",
       "</div>"
      ],
      "text/plain": [
       "   Ext1st_Other  HdBoard1  MetalSd1  Plywood1  VinylSd1  Wd Sdng1  \\\n",
       "0             0         0         0         0         1         0   \n",
       "1             0         0         0         0         0         1   \n",
       "2             0         0         0         0         1         0   \n",
       "3             0         0         0         0         1         0   \n",
       "4             0         1         0         0         0         0   \n",
       "\n",
       "   Ext2nd_Other  HdBoard2  MetalSd2  Plywood2  VinylSd2  Wd Sdng2  \\\n",
       "0             0         0         0         0         1         0   \n",
       "1             0         0         0         0         0         1   \n",
       "2             0         0         0         0         1         0   \n",
       "3             0         0         0         0         1         0   \n",
       "4             0         1         0         0         0         0   \n",
       "\n",
       "   MsVnrType_Other  Msvnr_None  \n",
       "0                0           1  \n",
       "1                1           0  \n",
       "2                0           1  \n",
       "3                1           0  \n",
       "4                0           1  "
      ]
     },
     "execution_count": 205,
     "metadata": {},
     "output_type": "execute_result"
    }
   ],
   "source": [
    "ext12_enc=ohe8.transform(df_test[['Exterior1st','Exterior2nd','MasVnrType']])\n",
    "ext12_enc_df=pd.DataFrame(data=ext12_enc,dtype=int)\n",
    "ext12_enc_df.rename(columns={0:'Ext1st_Other', 1:'HdBoard1',2:'MetalSd1', 3:'Plywood1', 4:'VinylSd1',\n",
    "5:'Wd Sdng1',6:'Ext2nd_Other', 7:'HdBoard2', 8:'MetalSd2', 9:'Plywood2',10: 'VinylSd2',\n",
    "11:'Wd Sdng2',12:'MsVnrType_Other',13:'Msvnr_None'},inplace=True)\n",
    "ext12_enc_df.head()"
   ]
  },
  {
   "cell_type": "code",
   "execution_count": 206,
   "id": "4289ab44",
   "metadata": {},
   "outputs": [],
   "source": [
    "foundation=df_test['Foundation'].value_counts().iloc[:3].index\n",
    "df_test['Foundation']=df_test['Foundation'].apply(lambda f:f if f in foundation else 'Foundatio_Other')\n"
   ]
  },
  {
   "cell_type": "code",
   "execution_count": 207,
   "id": "7783253d",
   "metadata": {},
   "outputs": [
    {
     "data": {
      "text/html": [
       "<div>\n",
       "<style scoped>\n",
       "    .dataframe tbody tr th:only-of-type {\n",
       "        vertical-align: middle;\n",
       "    }\n",
       "\n",
       "    .dataframe tbody tr th {\n",
       "        vertical-align: top;\n",
       "    }\n",
       "\n",
       "    .dataframe thead th {\n",
       "        text-align: right;\n",
       "    }\n",
       "</style>\n",
       "<table border=\"1\" class=\"dataframe\">\n",
       "  <thead>\n",
       "    <tr style=\"text-align: right;\">\n",
       "      <th></th>\n",
       "      <th>Ex1</th>\n",
       "      <th>Fa1</th>\n",
       "      <th>Gd1</th>\n",
       "      <th>TA1</th>\n",
       "      <th>Ex2</th>\n",
       "      <th>Fa2</th>\n",
       "      <th>Gd2</th>\n",
       "      <th>Po2</th>\n",
       "      <th>TA2</th>\n",
       "      <th>BrkTil</th>\n",
       "      <th>...</th>\n",
       "      <th>Fa4</th>\n",
       "      <th>Gd4</th>\n",
       "      <th>NA4</th>\n",
       "      <th>Po4</th>\n",
       "      <th>TA4</th>\n",
       "      <th>Av5</th>\n",
       "      <th>Gd5</th>\n",
       "      <th>Mn5</th>\n",
       "      <th>NA5</th>\n",
       "      <th>No5</th>\n",
       "    </tr>\n",
       "  </thead>\n",
       "  <tbody>\n",
       "    <tr>\n",
       "      <th>0</th>\n",
       "      <td>0</td>\n",
       "      <td>0</td>\n",
       "      <td>0</td>\n",
       "      <td>1</td>\n",
       "      <td>0</td>\n",
       "      <td>0</td>\n",
       "      <td>0</td>\n",
       "      <td>0</td>\n",
       "      <td>1</td>\n",
       "      <td>0</td>\n",
       "      <td>...</td>\n",
       "      <td>0</td>\n",
       "      <td>0</td>\n",
       "      <td>0</td>\n",
       "      <td>0</td>\n",
       "      <td>1</td>\n",
       "      <td>0</td>\n",
       "      <td>0</td>\n",
       "      <td>0</td>\n",
       "      <td>0</td>\n",
       "      <td>1</td>\n",
       "    </tr>\n",
       "    <tr>\n",
       "      <th>1</th>\n",
       "      <td>0</td>\n",
       "      <td>0</td>\n",
       "      <td>0</td>\n",
       "      <td>1</td>\n",
       "      <td>0</td>\n",
       "      <td>0</td>\n",
       "      <td>0</td>\n",
       "      <td>0</td>\n",
       "      <td>1</td>\n",
       "      <td>0</td>\n",
       "      <td>...</td>\n",
       "      <td>0</td>\n",
       "      <td>0</td>\n",
       "      <td>0</td>\n",
       "      <td>0</td>\n",
       "      <td>1</td>\n",
       "      <td>0</td>\n",
       "      <td>0</td>\n",
       "      <td>0</td>\n",
       "      <td>0</td>\n",
       "      <td>1</td>\n",
       "    </tr>\n",
       "    <tr>\n",
       "      <th>2</th>\n",
       "      <td>0</td>\n",
       "      <td>0</td>\n",
       "      <td>0</td>\n",
       "      <td>1</td>\n",
       "      <td>0</td>\n",
       "      <td>0</td>\n",
       "      <td>0</td>\n",
       "      <td>0</td>\n",
       "      <td>1</td>\n",
       "      <td>0</td>\n",
       "      <td>...</td>\n",
       "      <td>0</td>\n",
       "      <td>0</td>\n",
       "      <td>0</td>\n",
       "      <td>0</td>\n",
       "      <td>1</td>\n",
       "      <td>0</td>\n",
       "      <td>0</td>\n",
       "      <td>0</td>\n",
       "      <td>0</td>\n",
       "      <td>1</td>\n",
       "    </tr>\n",
       "    <tr>\n",
       "      <th>3</th>\n",
       "      <td>0</td>\n",
       "      <td>0</td>\n",
       "      <td>0</td>\n",
       "      <td>1</td>\n",
       "      <td>0</td>\n",
       "      <td>0</td>\n",
       "      <td>0</td>\n",
       "      <td>0</td>\n",
       "      <td>1</td>\n",
       "      <td>0</td>\n",
       "      <td>...</td>\n",
       "      <td>0</td>\n",
       "      <td>0</td>\n",
       "      <td>0</td>\n",
       "      <td>0</td>\n",
       "      <td>1</td>\n",
       "      <td>0</td>\n",
       "      <td>0</td>\n",
       "      <td>0</td>\n",
       "      <td>0</td>\n",
       "      <td>1</td>\n",
       "    </tr>\n",
       "    <tr>\n",
       "      <th>4</th>\n",
       "      <td>0</td>\n",
       "      <td>0</td>\n",
       "      <td>1</td>\n",
       "      <td>0</td>\n",
       "      <td>0</td>\n",
       "      <td>0</td>\n",
       "      <td>0</td>\n",
       "      <td>0</td>\n",
       "      <td>1</td>\n",
       "      <td>0</td>\n",
       "      <td>...</td>\n",
       "      <td>0</td>\n",
       "      <td>0</td>\n",
       "      <td>0</td>\n",
       "      <td>0</td>\n",
       "      <td>1</td>\n",
       "      <td>0</td>\n",
       "      <td>0</td>\n",
       "      <td>0</td>\n",
       "      <td>0</td>\n",
       "      <td>1</td>\n",
       "    </tr>\n",
       "  </tbody>\n",
       "</table>\n",
       "<p>5 rows × 28 columns</p>\n",
       "</div>"
      ],
      "text/plain": [
       "   Ex1  Fa1  Gd1  TA1  Ex2  Fa2  Gd2  Po2  TA2  BrkTil  ...  Fa4  Gd4  NA4  \\\n",
       "0    0    0    0    1    0    0    0    0    1       0  ...    0    0    0   \n",
       "1    0    0    0    1    0    0    0    0    1       0  ...    0    0    0   \n",
       "2    0    0    0    1    0    0    0    0    1       0  ...    0    0    0   \n",
       "3    0    0    0    1    0    0    0    0    1       0  ...    0    0    0   \n",
       "4    0    0    1    0    0    0    0    0    1       0  ...    0    0    0   \n",
       "\n",
       "   Po4  TA4  Av5  Gd5  Mn5  NA5  No5  \n",
       "0    0    1    0    0    0    0    1  \n",
       "1    0    1    0    0    0    0    1  \n",
       "2    0    1    0    0    0    0    1  \n",
       "3    0    1    0    0    0    0    1  \n",
       "4    0    1    0    0    0    0    1  \n",
       "\n",
       "[5 rows x 28 columns]"
      ]
     },
     "execution_count": 207,
     "metadata": {},
     "output_type": "execute_result"
    }
   ],
   "source": [
    "extrbsmt_enc=ohe9.transform(df_test[['ExterQual','ExterCond','Foundation','BsmtQual','BsmtCond','BsmtExposure']])\n",
    "extrBsmt_enc_df=pd.DataFrame(data=extrbsmt_enc,dtype=int)\n",
    "extrBsmt_enc_df.rename(columns={0:'Ex1', 1:'Fa1', 2:'Gd1', 3:'TA1',4:'Ex2', 5:'Fa2', 6:'Gd2',7:'Po2', 8:'TA2',9:'BrkTil', 10:'CBlock', 11:'Foundatio_Other', 12:'PConc',13:'Ex3', 14:'Fa3', 15:'Gd3',16:'NA3',17:'TA3',18:'Fa4', 19:'Gd4',20:'NA4',21:'Po4',22:'TA4',23:'Av5',24:'Gd5',25:'Mn5',26:'NA5',27:'No5'},inplace=True)\n",
    "extrBsmt_enc_df.head()"
   ]
  },
  {
   "cell_type": "code",
   "execution_count": 208,
   "id": "3712a2a6",
   "metadata": {},
   "outputs": [],
   "source": [
    "fintype2=df_test['BsmtFinType2'].value_counts().iloc[:1].index\n",
    "df_test['BsmtFinType2']=df_test['BsmtFinType2'].apply(lambda b:b if b in fintype2 else 'Fintype2_Other')\n",
    "heating=df_test['Heating'].value_counts().iloc[:1].index\n",
    "df_test['Heating']=df_test['Heating'].apply(lambda h:h if h in heating else 'Heating_Other')\n",
    "electrical=df_test['Electrical'].value_counts().iloc[:1].index\n",
    "df_test['Electrical']=df_test['Electrical'].apply(lambda e:e if e in electrical else 'Electrical_Other')\n"
   ]
  },
  {
   "cell_type": "code",
   "execution_count": 209,
   "id": "ce6181f9",
   "metadata": {},
   "outputs": [
    {
     "data": {
      "text/html": [
       "<div>\n",
       "<style scoped>\n",
       "    .dataframe tbody tr th:only-of-type {\n",
       "        vertical-align: middle;\n",
       "    }\n",
       "\n",
       "    .dataframe tbody tr th {\n",
       "        vertical-align: top;\n",
       "    }\n",
       "\n",
       "    .dataframe thead th {\n",
       "        text-align: right;\n",
       "    }\n",
       "</style>\n",
       "<table border=\"1\" class=\"dataframe\">\n",
       "  <thead>\n",
       "    <tr style=\"text-align: right;\">\n",
       "      <th></th>\n",
       "      <th>ALQ_fin1</th>\n",
       "      <th>BLQ_fin1</th>\n",
       "      <th>GLQ_fin1</th>\n",
       "      <th>LwQ_fin1</th>\n",
       "      <th>NA_fin1</th>\n",
       "      <th>Rec_fin1</th>\n",
       "      <th>Unf_fin1</th>\n",
       "      <th>Fintype2_Other</th>\n",
       "      <th>Unf_fin2</th>\n",
       "      <th>GasA</th>\n",
       "      <th>Heating_Other</th>\n",
       "      <th>Ex_HQC</th>\n",
       "      <th>Fa_HQC</th>\n",
       "      <th>Gd_HQC</th>\n",
       "      <th>Po_HQC</th>\n",
       "      <th>TA_HQC</th>\n",
       "      <th>N</th>\n",
       "      <th>Y</th>\n",
       "      <th>Electrical_Other</th>\n",
       "      <th>SBrkr</th>\n",
       "    </tr>\n",
       "  </thead>\n",
       "  <tbody>\n",
       "    <tr>\n",
       "      <th>0</th>\n",
       "      <td>0</td>\n",
       "      <td>0</td>\n",
       "      <td>0</td>\n",
       "      <td>0</td>\n",
       "      <td>0</td>\n",
       "      <td>1</td>\n",
       "      <td>0</td>\n",
       "      <td>1</td>\n",
       "      <td>0</td>\n",
       "      <td>1</td>\n",
       "      <td>0</td>\n",
       "      <td>0</td>\n",
       "      <td>0</td>\n",
       "      <td>0</td>\n",
       "      <td>0</td>\n",
       "      <td>1</td>\n",
       "      <td>0</td>\n",
       "      <td>1</td>\n",
       "      <td>0</td>\n",
       "      <td>1</td>\n",
       "    </tr>\n",
       "    <tr>\n",
       "      <th>1</th>\n",
       "      <td>1</td>\n",
       "      <td>0</td>\n",
       "      <td>0</td>\n",
       "      <td>0</td>\n",
       "      <td>0</td>\n",
       "      <td>0</td>\n",
       "      <td>0</td>\n",
       "      <td>0</td>\n",
       "      <td>1</td>\n",
       "      <td>1</td>\n",
       "      <td>0</td>\n",
       "      <td>0</td>\n",
       "      <td>0</td>\n",
       "      <td>0</td>\n",
       "      <td>0</td>\n",
       "      <td>1</td>\n",
       "      <td>0</td>\n",
       "      <td>1</td>\n",
       "      <td>0</td>\n",
       "      <td>1</td>\n",
       "    </tr>\n",
       "    <tr>\n",
       "      <th>2</th>\n",
       "      <td>0</td>\n",
       "      <td>0</td>\n",
       "      <td>1</td>\n",
       "      <td>0</td>\n",
       "      <td>0</td>\n",
       "      <td>0</td>\n",
       "      <td>0</td>\n",
       "      <td>0</td>\n",
       "      <td>1</td>\n",
       "      <td>1</td>\n",
       "      <td>0</td>\n",
       "      <td>0</td>\n",
       "      <td>0</td>\n",
       "      <td>1</td>\n",
       "      <td>0</td>\n",
       "      <td>0</td>\n",
       "      <td>0</td>\n",
       "      <td>1</td>\n",
       "      <td>0</td>\n",
       "      <td>1</td>\n",
       "    </tr>\n",
       "    <tr>\n",
       "      <th>3</th>\n",
       "      <td>0</td>\n",
       "      <td>0</td>\n",
       "      <td>1</td>\n",
       "      <td>0</td>\n",
       "      <td>0</td>\n",
       "      <td>0</td>\n",
       "      <td>0</td>\n",
       "      <td>0</td>\n",
       "      <td>1</td>\n",
       "      <td>1</td>\n",
       "      <td>0</td>\n",
       "      <td>1</td>\n",
       "      <td>0</td>\n",
       "      <td>0</td>\n",
       "      <td>0</td>\n",
       "      <td>0</td>\n",
       "      <td>0</td>\n",
       "      <td>1</td>\n",
       "      <td>0</td>\n",
       "      <td>1</td>\n",
       "    </tr>\n",
       "    <tr>\n",
       "      <th>4</th>\n",
       "      <td>1</td>\n",
       "      <td>0</td>\n",
       "      <td>0</td>\n",
       "      <td>0</td>\n",
       "      <td>0</td>\n",
       "      <td>0</td>\n",
       "      <td>0</td>\n",
       "      <td>0</td>\n",
       "      <td>1</td>\n",
       "      <td>1</td>\n",
       "      <td>0</td>\n",
       "      <td>1</td>\n",
       "      <td>0</td>\n",
       "      <td>0</td>\n",
       "      <td>0</td>\n",
       "      <td>0</td>\n",
       "      <td>0</td>\n",
       "      <td>1</td>\n",
       "      <td>0</td>\n",
       "      <td>1</td>\n",
       "    </tr>\n",
       "  </tbody>\n",
       "</table>\n",
       "</div>"
      ],
      "text/plain": [
       "   ALQ_fin1  BLQ_fin1  GLQ_fin1  LwQ_fin1  NA_fin1  Rec_fin1  Unf_fin1  \\\n",
       "0         0         0         0         0        0         1         0   \n",
       "1         1         0         0         0        0         0         0   \n",
       "2         0         0         1         0        0         0         0   \n",
       "3         0         0         1         0        0         0         0   \n",
       "4         1         0         0         0        0         0         0   \n",
       "\n",
       "   Fintype2_Other  Unf_fin2  GasA  Heating_Other  Ex_HQC  Fa_HQC  Gd_HQC  \\\n",
       "0               1         0     1              0       0       0       0   \n",
       "1               0         1     1              0       0       0       0   \n",
       "2               0         1     1              0       0       0       1   \n",
       "3               0         1     1              0       1       0       0   \n",
       "4               0         1     1              0       1       0       0   \n",
       "\n",
       "   Po_HQC  TA_HQC  N  Y  Electrical_Other  SBrkr  \n",
       "0       0       1  0  1                 0      1  \n",
       "1       0       1  0  1                 0      1  \n",
       "2       0       0  0  1                 0      1  \n",
       "3       0       0  0  1                 0      1  \n",
       "4       0       0  0  1                 0      1  "
      ]
     },
     "execution_count": 209,
     "metadata": {},
     "output_type": "execute_result"
    }
   ],
   "source": [
    "fintypeHeat_enc=ohe10.transform(df_test[['BsmtFinType1','BsmtFinType2','Heating','HeatingQC','CentralAir','Electrical']])\n",
    "fintypeHeat_enc_df=pd.DataFrame(data=fintypeHeat_enc,dtype=int)\n",
    "fintypeHeat_enc_df.rename(columns={0:'ALQ_fin1',1:'BLQ_fin1',2:'GLQ_fin1',3:'LwQ_fin1',4:'NA_fin1',5:'Rec_fin1',6:'Unf_fin1',7:'Fintype2_Other', 8:'Unf_fin2',9:'GasA', 10:'Heating_Other',11:'Ex_HQC', 12:'Fa_HQC', 13:'Gd_HQC', 14:'Po_HQC', 15:'TA_HQC',16:'N', 17:'Y', 18:'Electrical_Other', 19:'SBrkr' },inplace=True)\n",
    "fintypeHeat_enc_df.head()"
   ]
  },
  {
   "cell_type": "code",
   "execution_count": 210,
   "id": "6225306f",
   "metadata": {},
   "outputs": [],
   "source": [
    "functional=df_test['Functional'].value_counts().iloc[:1].index\n",
    "df_test['Functional']=df_test['Functional'].apply(lambda f:f if f in functional else 'Functional_Other')\n",
    "fireplace=df_test['FireplaceQu'].value_counts().iloc[:3].index\n",
    "df_test['FireplaceQu']=df_test['FireplaceQu'].apply(lambda f:f if f in fireplace else 'Fireplace_Other')\n",
    "garage=df_test['GarageType'].value_counts().iloc[:2].index\n",
    "df_test['GarageType']=df_test['GarageType'].apply(lambda g:g if g in garage else 'Garagetype_Other')\n",
    "garagequal=df_test['GarageQual'].value_counts().iloc[:1].index\n",
    "df_test['GarageQual']=df_test['GarageQual'].apply(lambda g:g if g in garagequal else 'GarageQaul_Other')\n",
    "garagecond=df_test['GarageCond'].value_counts().iloc[:1].index\n",
    "df_test['GarageCond']=df_test['GarageCond'].apply(lambda g:g if g in garagecond else 'GarageCond_Other')"
   ]
  },
  {
   "cell_type": "code",
   "execution_count": 211,
   "id": "f2f5022a",
   "metadata": {},
   "outputs": [
    {
     "data": {
      "text/html": [
       "<div>\n",
       "<style scoped>\n",
       "    .dataframe tbody tr th:only-of-type {\n",
       "        vertical-align: middle;\n",
       "    }\n",
       "\n",
       "    .dataframe tbody tr th {\n",
       "        vertical-align: top;\n",
       "    }\n",
       "\n",
       "    .dataframe thead th {\n",
       "        text-align: right;\n",
       "    }\n",
       "</style>\n",
       "<table border=\"1\" class=\"dataframe\">\n",
       "  <thead>\n",
       "    <tr style=\"text-align: right;\">\n",
       "      <th></th>\n",
       "      <th>Ex_K</th>\n",
       "      <th>Fa_K</th>\n",
       "      <th>Gd_K</th>\n",
       "      <th>TA_K</th>\n",
       "      <th>Functional_Other</th>\n",
       "      <th>Functional_Typ</th>\n",
       "      <th>Fireplace_Other</th>\n",
       "      <th>Gd_Fire</th>\n",
       "      <th>NA_Fire</th>\n",
       "      <th>TA_Fire</th>\n",
       "      <th>...</th>\n",
       "      <th>Detchd</th>\n",
       "      <th>Garagetype_Other</th>\n",
       "      <th>Fin_FireQu</th>\n",
       "      <th>NA_FireQu</th>\n",
       "      <th>RFn_FireQu</th>\n",
       "      <th>Unf_FireQu</th>\n",
       "      <th>GarageQaul_Other</th>\n",
       "      <th>TA_GarageQual</th>\n",
       "      <th>GarageCond_Other</th>\n",
       "      <th>TA_GarageCond</th>\n",
       "    </tr>\n",
       "  </thead>\n",
       "  <tbody>\n",
       "    <tr>\n",
       "      <th>0</th>\n",
       "      <td>0</td>\n",
       "      <td>0</td>\n",
       "      <td>0</td>\n",
       "      <td>1</td>\n",
       "      <td>0</td>\n",
       "      <td>1</td>\n",
       "      <td>0</td>\n",
       "      <td>0</td>\n",
       "      <td>1</td>\n",
       "      <td>0</td>\n",
       "      <td>...</td>\n",
       "      <td>0</td>\n",
       "      <td>0</td>\n",
       "      <td>0</td>\n",
       "      <td>0</td>\n",
       "      <td>0</td>\n",
       "      <td>1</td>\n",
       "      <td>0</td>\n",
       "      <td>1</td>\n",
       "      <td>0</td>\n",
       "      <td>1</td>\n",
       "    </tr>\n",
       "    <tr>\n",
       "      <th>1</th>\n",
       "      <td>0</td>\n",
       "      <td>0</td>\n",
       "      <td>1</td>\n",
       "      <td>0</td>\n",
       "      <td>0</td>\n",
       "      <td>1</td>\n",
       "      <td>0</td>\n",
       "      <td>0</td>\n",
       "      <td>1</td>\n",
       "      <td>0</td>\n",
       "      <td>...</td>\n",
       "      <td>0</td>\n",
       "      <td>0</td>\n",
       "      <td>0</td>\n",
       "      <td>0</td>\n",
       "      <td>0</td>\n",
       "      <td>1</td>\n",
       "      <td>0</td>\n",
       "      <td>1</td>\n",
       "      <td>0</td>\n",
       "      <td>1</td>\n",
       "    </tr>\n",
       "    <tr>\n",
       "      <th>2</th>\n",
       "      <td>0</td>\n",
       "      <td>0</td>\n",
       "      <td>0</td>\n",
       "      <td>1</td>\n",
       "      <td>0</td>\n",
       "      <td>1</td>\n",
       "      <td>0</td>\n",
       "      <td>0</td>\n",
       "      <td>0</td>\n",
       "      <td>1</td>\n",
       "      <td>...</td>\n",
       "      <td>0</td>\n",
       "      <td>0</td>\n",
       "      <td>1</td>\n",
       "      <td>0</td>\n",
       "      <td>0</td>\n",
       "      <td>0</td>\n",
       "      <td>0</td>\n",
       "      <td>1</td>\n",
       "      <td>0</td>\n",
       "      <td>1</td>\n",
       "    </tr>\n",
       "    <tr>\n",
       "      <th>3</th>\n",
       "      <td>0</td>\n",
       "      <td>0</td>\n",
       "      <td>1</td>\n",
       "      <td>0</td>\n",
       "      <td>0</td>\n",
       "      <td>1</td>\n",
       "      <td>0</td>\n",
       "      <td>1</td>\n",
       "      <td>0</td>\n",
       "      <td>0</td>\n",
       "      <td>...</td>\n",
       "      <td>0</td>\n",
       "      <td>0</td>\n",
       "      <td>1</td>\n",
       "      <td>0</td>\n",
       "      <td>0</td>\n",
       "      <td>0</td>\n",
       "      <td>0</td>\n",
       "      <td>1</td>\n",
       "      <td>0</td>\n",
       "      <td>1</td>\n",
       "    </tr>\n",
       "    <tr>\n",
       "      <th>4</th>\n",
       "      <td>0</td>\n",
       "      <td>0</td>\n",
       "      <td>1</td>\n",
       "      <td>0</td>\n",
       "      <td>0</td>\n",
       "      <td>1</td>\n",
       "      <td>0</td>\n",
       "      <td>0</td>\n",
       "      <td>1</td>\n",
       "      <td>0</td>\n",
       "      <td>...</td>\n",
       "      <td>0</td>\n",
       "      <td>0</td>\n",
       "      <td>0</td>\n",
       "      <td>0</td>\n",
       "      <td>1</td>\n",
       "      <td>0</td>\n",
       "      <td>0</td>\n",
       "      <td>1</td>\n",
       "      <td>0</td>\n",
       "      <td>1</td>\n",
       "    </tr>\n",
       "  </tbody>\n",
       "</table>\n",
       "<p>5 rows × 21 columns</p>\n",
       "</div>"
      ],
      "text/plain": [
       "   Ex_K  Fa_K  Gd_K  TA_K  Functional_Other  Functional_Typ  Fireplace_Other  \\\n",
       "0     0     0     0     1                 0               1                0   \n",
       "1     0     0     1     0                 0               1                0   \n",
       "2     0     0     0     1                 0               1                0   \n",
       "3     0     0     1     0                 0               1                0   \n",
       "4     0     0     1     0                 0               1                0   \n",
       "\n",
       "   Gd_Fire  NA_Fire  TA_Fire  ...  Detchd  Garagetype_Other  Fin_FireQu  \\\n",
       "0        0        1        0  ...       0                 0           0   \n",
       "1        0        1        0  ...       0                 0           0   \n",
       "2        0        0        1  ...       0                 0           1   \n",
       "3        1        0        0  ...       0                 0           1   \n",
       "4        0        1        0  ...       0                 0           0   \n",
       "\n",
       "   NA_FireQu  RFn_FireQu  Unf_FireQu  GarageQaul_Other  TA_GarageQual  \\\n",
       "0          0           0           1                 0              1   \n",
       "1          0           0           1                 0              1   \n",
       "2          0           0           0                 0              1   \n",
       "3          0           0           0                 0              1   \n",
       "4          0           1           0                 0              1   \n",
       "\n",
       "   GarageCond_Other  TA_GarageCond  \n",
       "0                 0              1  \n",
       "1                 0              1  \n",
       "2                 0              1  \n",
       "3                 0              1  \n",
       "4                 0              1  \n",
       "\n",
       "[5 rows x 21 columns]"
      ]
     },
     "execution_count": 211,
     "metadata": {},
     "output_type": "execute_result"
    }
   ],
   "source": [
    "kitchenGarage_enc=ohe11.transform(df_test[['KitchenQual','Functional','FireplaceQu','GarageType','GarageFinish','GarageQual','GarageCond']])\n",
    "kitchenGarage_enc_df=pd.DataFrame(data=kitchenGarage_enc,dtype=int)\n",
    "kitchenGarage_enc_df.rename(columns={0:'Ex_K', 1:'Fa_K', 2:'Gd_K', 3:'TA_K',4:'Functional_Other', 5:'Functional_Typ',6:'Fireplace_Other', 7:'Gd_Fire', 8:'NA_Fire', 9:'TA_Fire',10:'Attchd',11:'Detchd', 12:'Garagetype_Other',13:'Fin_FireQu', 14:'NA_FireQu', 15:'RFn_FireQu',16:'Unf_FireQu',17:'GarageQaul_Other', 18:'TA_GarageQual',19:'GarageCond_Other',20:'TA_GarageCond'},inplace=True)\n",
    "kitchenGarage_enc_df.head()"
   ]
  },
  {
   "cell_type": "code",
   "execution_count": 212,
   "id": "6c6e0354",
   "metadata": {},
   "outputs": [],
   "source": [
    "pool=df_test['PoolQC'].value_counts().iloc[:1].index\n",
    "df_test['PoolQC']=df_test['PoolQC'].apply(lambda p:p if p in pool else 'Pool_Other')\n",
    "fence=df_test['Fence'].value_counts().iloc[:1].index\n",
    "df_test['Fence']=df_test['Fence'].apply(lambda f:f if f in fence else 'Fence_Other')\n",
    "misc=df_test['MiscFeature'].value_counts().iloc[:1].index\n",
    "df_test['MiscFeature']=df_test['MiscFeature'].apply(lambda m:m if m in misc else 'Misc_Other')\n",
    "saletype=df_test['SaleType'].value_counts().iloc[:1].index\n",
    "df_test['SaleType']=df_test['SaleType'].apply(lambda s:s if s in saletype else 'SaleType_Other')\n",
    "salecond=df_test['SaleCondition'].value_counts().iloc[:1].index\n",
    "df_test['SaleCondition']=df_test['SaleCondition'].apply(lambda s:s if s in salecond else 'SaleCond_Other')"
   ]
  },
  {
   "cell_type": "code",
   "execution_count": 213,
   "id": "5bd3a3ec",
   "metadata": {},
   "outputs": [
    {
     "data": {
      "text/plain": [
       "WD                1259\n",
       "SaleType_Other     200\n",
       "Name: SaleType, dtype: int64"
      ]
     },
     "execution_count": 213,
     "metadata": {},
     "output_type": "execute_result"
    }
   ],
   "source": [
    "df_test['SaleType'].value_counts()"
   ]
  },
  {
   "cell_type": "code",
   "execution_count": 214,
   "id": "7a52bcf6",
   "metadata": {},
   "outputs": [
    {
     "data": {
      "text/html": [
       "<div>\n",
       "<style scoped>\n",
       "    .dataframe tbody tr th:only-of-type {\n",
       "        vertical-align: middle;\n",
       "    }\n",
       "\n",
       "    .dataframe tbody tr th {\n",
       "        vertical-align: top;\n",
       "    }\n",
       "\n",
       "    .dataframe thead th {\n",
       "        text-align: right;\n",
       "    }\n",
       "</style>\n",
       "<table border=\"1\" class=\"dataframe\">\n",
       "  <thead>\n",
       "    <tr style=\"text-align: right;\">\n",
       "      <th></th>\n",
       "      <th>N_Paved</th>\n",
       "      <th>P_Paved</th>\n",
       "      <th>Y_Paved</th>\n",
       "      <th>NA_Pool</th>\n",
       "      <th>Pool_Other</th>\n",
       "      <th>Fence_Other</th>\n",
       "      <th>NA_Fence</th>\n",
       "      <th>Misc_Other</th>\n",
       "      <th>NA_Misc</th>\n",
       "      <th>SaleType_Other</th>\n",
       "      <th>WD_SaleType</th>\n",
       "      <th>Normal_SaleCond</th>\n",
       "      <th>SaleCond_Other</th>\n",
       "    </tr>\n",
       "  </thead>\n",
       "  <tbody>\n",
       "    <tr>\n",
       "      <th>0</th>\n",
       "      <td>0</td>\n",
       "      <td>0</td>\n",
       "      <td>1</td>\n",
       "      <td>1</td>\n",
       "      <td>0</td>\n",
       "      <td>1</td>\n",
       "      <td>0</td>\n",
       "      <td>0</td>\n",
       "      <td>1</td>\n",
       "      <td>0</td>\n",
       "      <td>1</td>\n",
       "      <td>1</td>\n",
       "      <td>0</td>\n",
       "    </tr>\n",
       "    <tr>\n",
       "      <th>1</th>\n",
       "      <td>0</td>\n",
       "      <td>0</td>\n",
       "      <td>1</td>\n",
       "      <td>1</td>\n",
       "      <td>0</td>\n",
       "      <td>0</td>\n",
       "      <td>1</td>\n",
       "      <td>1</td>\n",
       "      <td>0</td>\n",
       "      <td>0</td>\n",
       "      <td>1</td>\n",
       "      <td>1</td>\n",
       "      <td>0</td>\n",
       "    </tr>\n",
       "    <tr>\n",
       "      <th>2</th>\n",
       "      <td>0</td>\n",
       "      <td>0</td>\n",
       "      <td>1</td>\n",
       "      <td>1</td>\n",
       "      <td>0</td>\n",
       "      <td>1</td>\n",
       "      <td>0</td>\n",
       "      <td>0</td>\n",
       "      <td>1</td>\n",
       "      <td>0</td>\n",
       "      <td>1</td>\n",
       "      <td>1</td>\n",
       "      <td>0</td>\n",
       "    </tr>\n",
       "    <tr>\n",
       "      <th>3</th>\n",
       "      <td>0</td>\n",
       "      <td>0</td>\n",
       "      <td>1</td>\n",
       "      <td>1</td>\n",
       "      <td>0</td>\n",
       "      <td>0</td>\n",
       "      <td>1</td>\n",
       "      <td>0</td>\n",
       "      <td>1</td>\n",
       "      <td>0</td>\n",
       "      <td>1</td>\n",
       "      <td>1</td>\n",
       "      <td>0</td>\n",
       "    </tr>\n",
       "    <tr>\n",
       "      <th>4</th>\n",
       "      <td>0</td>\n",
       "      <td>0</td>\n",
       "      <td>1</td>\n",
       "      <td>1</td>\n",
       "      <td>0</td>\n",
       "      <td>0</td>\n",
       "      <td>1</td>\n",
       "      <td>0</td>\n",
       "      <td>1</td>\n",
       "      <td>0</td>\n",
       "      <td>1</td>\n",
       "      <td>1</td>\n",
       "      <td>0</td>\n",
       "    </tr>\n",
       "  </tbody>\n",
       "</table>\n",
       "</div>"
      ],
      "text/plain": [
       "   N_Paved  P_Paved  Y_Paved  NA_Pool  Pool_Other  Fence_Other  NA_Fence  \\\n",
       "0        0        0        1        1           0            1         0   \n",
       "1        0        0        1        1           0            0         1   \n",
       "2        0        0        1        1           0            1         0   \n",
       "3        0        0        1        1           0            0         1   \n",
       "4        0        0        1        1           0            0         1   \n",
       "\n",
       "   Misc_Other  NA_Misc  SaleType_Other  WD_SaleType  Normal_SaleCond  \\\n",
       "0           0        1               0            1                1   \n",
       "1           1        0               0            1                1   \n",
       "2           0        1               0            1                1   \n",
       "3           0        1               0            1                1   \n",
       "4           0        1               0            1                1   \n",
       "\n",
       "   SaleCond_Other  \n",
       "0               0  \n",
       "1               0  \n",
       "2               0  \n",
       "3               0  \n",
       "4               0  "
      ]
     },
     "execution_count": 214,
     "metadata": {},
     "output_type": "execute_result"
    }
   ],
   "source": [
    "PoolSale_enc=ohe12.transform(df_test[['PavedDrive','PoolQC','Fence','MiscFeature','SaleType','SaleCondition']])\n",
    "PoolSale_enc_df=pd.DataFrame(data=PoolSale_enc,dtype=int)\n",
    "PoolSale_enc_df.rename(columns={0:'N_Paved', 1:'P_Paved',2:'Y_Paved',3:'NA_Pool', 4:'Pool_Other',5:'Fence_Other', 6:'NA_Fence',7:'Misc_Other', 8:'NA_Misc',9:'SaleType_Other', 10:'WD_SaleType',11:'Normal_SaleCond', 12:'SaleCond_Other'},inplace=True)\n",
    "PoolSale_enc_df.head()"
   ]
  },
  {
   "cell_type": "code",
   "execution_count": 215,
   "id": "40465aa5",
   "metadata": {},
   "outputs": [],
   "source": [
    "A=df_test[['MSSubClass','LotArea','OverallQual', 'OverallCond', 'YearBuilt', 'YearRemodAdd',\n",
    "      'MasVnrArea','BsmtFinSF1','BsmtFinSF2','BsmtUnfSF', 'TotalBsmtSF','1stFlrSF', '2ndFlrSF',\n",
    "       'LowQualFinSF', 'GrLivArea', 'BsmtFullBath', 'BsmtHalfBath', 'FullBath',\n",
    "       'HalfBath', 'BedroomAbvGr', 'KitchenAbvGr',\n",
    "       'TotRmsAbvGrd', 'Fireplaces','GarageCars', 'GarageArea','WoodDeckSF', 'OpenPorchSF',\n",
    "       'EnclosedPorch', '3SsnPorch', 'ScreenPorch', 'PoolArea','MiscVal', 'MoSold', 'YrSold']]\n",
    "A=pd.concat([A.reset_index(),MSZoning_enc_df,Street_enc_df,Alley_enc_df,LotLandUti_enc_df,LotLandCond12_enc_df,\n",
    "             Neighborhood_enc_df,housestyle_enc_df,roof_enc_df,ext12_enc_df,extrBsmt_enc_df,\n",
    "             fintypeHeat_enc_df,kitchenGarage_enc_df,PoolSale_enc_df],axis=1)"
   ]
  },
  {
   "cell_type": "code",
   "execution_count": 216,
   "id": "da8fa50f",
   "metadata": {},
   "outputs": [
    {
     "data": {
      "text/plain": [
       "(1459, 199)"
      ]
     },
     "execution_count": 216,
     "metadata": {},
     "output_type": "execute_result"
    }
   ],
   "source": [
    "A.shape"
   ]
  },
  {
   "cell_type": "code",
   "execution_count": 217,
   "id": "3cec1c96",
   "metadata": {},
   "outputs": [
    {
     "data": {
      "text/html": [
       "<div>\n",
       "<style scoped>\n",
       "    .dataframe tbody tr th:only-of-type {\n",
       "        vertical-align: middle;\n",
       "    }\n",
       "\n",
       "    .dataframe tbody tr th {\n",
       "        vertical-align: top;\n",
       "    }\n",
       "\n",
       "    .dataframe thead th {\n",
       "        text-align: right;\n",
       "    }\n",
       "</style>\n",
       "<table border=\"1\" class=\"dataframe\">\n",
       "  <thead>\n",
       "    <tr style=\"text-align: right;\">\n",
       "      <th></th>\n",
       "      <th>index</th>\n",
       "      <th>MSSubClass</th>\n",
       "      <th>LotArea</th>\n",
       "      <th>OverallQual</th>\n",
       "      <th>OverallCond</th>\n",
       "      <th>YearBuilt</th>\n",
       "      <th>YearRemodAdd</th>\n",
       "      <th>MasVnrArea</th>\n",
       "      <th>BsmtFinSF1</th>\n",
       "      <th>BsmtFinSF2</th>\n",
       "      <th>...</th>\n",
       "      <th>NA_Pool</th>\n",
       "      <th>Pool_Other</th>\n",
       "      <th>Fence_Other</th>\n",
       "      <th>NA_Fence</th>\n",
       "      <th>Misc_Other</th>\n",
       "      <th>NA_Misc</th>\n",
       "      <th>SaleType_Other</th>\n",
       "      <th>WD_SaleType</th>\n",
       "      <th>Normal_SaleCond</th>\n",
       "      <th>SaleCond_Other</th>\n",
       "    </tr>\n",
       "  </thead>\n",
       "  <tbody>\n",
       "    <tr>\n",
       "      <th>0</th>\n",
       "      <td>0</td>\n",
       "      <td>20</td>\n",
       "      <td>11622</td>\n",
       "      <td>5</td>\n",
       "      <td>6</td>\n",
       "      <td>1961</td>\n",
       "      <td>1961</td>\n",
       "      <td>0.0</td>\n",
       "      <td>468.0</td>\n",
       "      <td>144.0</td>\n",
       "      <td>...</td>\n",
       "      <td>1</td>\n",
       "      <td>0</td>\n",
       "      <td>1</td>\n",
       "      <td>0</td>\n",
       "      <td>0</td>\n",
       "      <td>1</td>\n",
       "      <td>0</td>\n",
       "      <td>1</td>\n",
       "      <td>1</td>\n",
       "      <td>0</td>\n",
       "    </tr>\n",
       "    <tr>\n",
       "      <th>1</th>\n",
       "      <td>1</td>\n",
       "      <td>20</td>\n",
       "      <td>14267</td>\n",
       "      <td>6</td>\n",
       "      <td>6</td>\n",
       "      <td>1958</td>\n",
       "      <td>1958</td>\n",
       "      <td>108.0</td>\n",
       "      <td>923.0</td>\n",
       "      <td>0.0</td>\n",
       "      <td>...</td>\n",
       "      <td>1</td>\n",
       "      <td>0</td>\n",
       "      <td>0</td>\n",
       "      <td>1</td>\n",
       "      <td>1</td>\n",
       "      <td>0</td>\n",
       "      <td>0</td>\n",
       "      <td>1</td>\n",
       "      <td>1</td>\n",
       "      <td>0</td>\n",
       "    </tr>\n",
       "    <tr>\n",
       "      <th>2</th>\n",
       "      <td>2</td>\n",
       "      <td>60</td>\n",
       "      <td>13830</td>\n",
       "      <td>5</td>\n",
       "      <td>5</td>\n",
       "      <td>1997</td>\n",
       "      <td>1998</td>\n",
       "      <td>0.0</td>\n",
       "      <td>791.0</td>\n",
       "      <td>0.0</td>\n",
       "      <td>...</td>\n",
       "      <td>1</td>\n",
       "      <td>0</td>\n",
       "      <td>1</td>\n",
       "      <td>0</td>\n",
       "      <td>0</td>\n",
       "      <td>1</td>\n",
       "      <td>0</td>\n",
       "      <td>1</td>\n",
       "      <td>1</td>\n",
       "      <td>0</td>\n",
       "    </tr>\n",
       "    <tr>\n",
       "      <th>3</th>\n",
       "      <td>3</td>\n",
       "      <td>60</td>\n",
       "      <td>9978</td>\n",
       "      <td>6</td>\n",
       "      <td>6</td>\n",
       "      <td>1998</td>\n",
       "      <td>1998</td>\n",
       "      <td>20.0</td>\n",
       "      <td>602.0</td>\n",
       "      <td>0.0</td>\n",
       "      <td>...</td>\n",
       "      <td>1</td>\n",
       "      <td>0</td>\n",
       "      <td>0</td>\n",
       "      <td>1</td>\n",
       "      <td>0</td>\n",
       "      <td>1</td>\n",
       "      <td>0</td>\n",
       "      <td>1</td>\n",
       "      <td>1</td>\n",
       "      <td>0</td>\n",
       "    </tr>\n",
       "    <tr>\n",
       "      <th>4</th>\n",
       "      <td>4</td>\n",
       "      <td>120</td>\n",
       "      <td>5005</td>\n",
       "      <td>8</td>\n",
       "      <td>5</td>\n",
       "      <td>1992</td>\n",
       "      <td>1992</td>\n",
       "      <td>0.0</td>\n",
       "      <td>263.0</td>\n",
       "      <td>0.0</td>\n",
       "      <td>...</td>\n",
       "      <td>1</td>\n",
       "      <td>0</td>\n",
       "      <td>0</td>\n",
       "      <td>1</td>\n",
       "      <td>0</td>\n",
       "      <td>1</td>\n",
       "      <td>0</td>\n",
       "      <td>1</td>\n",
       "      <td>1</td>\n",
       "      <td>0</td>\n",
       "    </tr>\n",
       "  </tbody>\n",
       "</table>\n",
       "<p>5 rows × 199 columns</p>\n",
       "</div>"
      ],
      "text/plain": [
       "   index  MSSubClass  LotArea  OverallQual  OverallCond  YearBuilt  \\\n",
       "0      0          20    11622            5            6       1961   \n",
       "1      1          20    14267            6            6       1958   \n",
       "2      2          60    13830            5            5       1997   \n",
       "3      3          60     9978            6            6       1998   \n",
       "4      4         120     5005            8            5       1992   \n",
       "\n",
       "   YearRemodAdd  MasVnrArea  BsmtFinSF1  BsmtFinSF2  ...  NA_Pool  Pool_Other  \\\n",
       "0          1961         0.0       468.0       144.0  ...        1           0   \n",
       "1          1958       108.0       923.0         0.0  ...        1           0   \n",
       "2          1998         0.0       791.0         0.0  ...        1           0   \n",
       "3          1998        20.0       602.0         0.0  ...        1           0   \n",
       "4          1992         0.0       263.0         0.0  ...        1           0   \n",
       "\n",
       "   Fence_Other  NA_Fence  Misc_Other  NA_Misc  SaleType_Other  WD_SaleType  \\\n",
       "0            1         0           0        1               0            1   \n",
       "1            0         1           1        0               0            1   \n",
       "2            1         0           0        1               0            1   \n",
       "3            0         1           0        1               0            1   \n",
       "4            0         1           0        1               0            1   \n",
       "\n",
       "   Normal_SaleCond  SaleCond_Other  \n",
       "0                1               0  \n",
       "1                1               0  \n",
       "2                1               0  \n",
       "3                1               0  \n",
       "4                1               0  \n",
       "\n",
       "[5 rows x 199 columns]"
      ]
     },
     "execution_count": 217,
     "metadata": {},
     "output_type": "execute_result"
    }
   ],
   "source": [
    "A.head()"
   ]
  },
  {
   "cell_type": "code",
   "execution_count": 218,
   "id": "a5e3a00f",
   "metadata": {},
   "outputs": [
    {
     "name": "stdout",
     "output_type": "stream",
     "text": [
      "<class 'pandas.core.frame.DataFrame'>\n",
      "RangeIndex: 1459 entries, 0 to 1458\n",
      "Columns: 199 entries, index to SaleCond_Other\n",
      "dtypes: float64(9), int32(164), int64(26)\n",
      "memory usage: 1.3 MB\n"
     ]
    }
   ],
   "source": [
    "A.info()"
   ]
  },
  {
   "cell_type": "code",
   "execution_count": 219,
   "id": "bd0dcdea",
   "metadata": {},
   "outputs": [],
   "source": [
    "yp=model.predict(A)"
   ]
  },
  {
   "cell_type": "code",
   "execution_count": 220,
   "id": "de95adfe",
   "metadata": {},
   "outputs": [],
   "source": [
    "df_test['SalePrice']=yp"
   ]
  },
  {
   "cell_type": "code",
   "execution_count": 221,
   "id": "d0f6b1f2",
   "metadata": {},
   "outputs": [],
   "source": [
    "df_test[['Id','SalePrice']].to_csv('HouseSub1.csv', index=False)"
   ]
  },
  {
   "cell_type": "code",
   "execution_count": null,
   "id": "d12ace84",
   "metadata": {},
   "outputs": [],
   "source": []
  },
  {
   "cell_type": "code",
   "execution_count": 222,
   "id": "a7fcdfba",
   "metadata": {},
   "outputs": [],
   "source": [
    "#s1=set(X.columns)"
   ]
  },
  {
   "cell_type": "code",
   "execution_count": 223,
   "id": "5ba8bd2e",
   "metadata": {},
   "outputs": [],
   "source": [
    "#s2=set(A.columns)"
   ]
  },
  {
   "cell_type": "code",
   "execution_count": 224,
   "id": "595ac13a",
   "metadata": {},
   "outputs": [],
   "source": [
    "#s1.difference(s2)"
   ]
  },
  {
   "cell_type": "code",
   "execution_count": 225,
   "id": "86cd7437",
   "metadata": {},
   "outputs": [],
   "source": [
    "#A['NoSeWa']=0"
   ]
  },
  {
   "cell_type": "code",
   "execution_count": 226,
   "id": "93e7610b",
   "metadata": {},
   "outputs": [],
   "source": [
    "#model.predict(A)"
   ]
  },
  {
   "cell_type": "code",
   "execution_count": null,
   "id": "9d6bc626",
   "metadata": {},
   "outputs": [],
   "source": []
  }
 ],
 "metadata": {
  "kernelspec": {
   "display_name": "Python 3 (ipykernel)",
   "language": "python",
   "name": "python3"
  },
  "language_info": {
   "codemirror_mode": {
    "name": "ipython",
    "version": 3
   },
   "file_extension": ".py",
   "mimetype": "text/x-python",
   "name": "python",
   "nbconvert_exporter": "python",
   "pygments_lexer": "ipython3",
   "version": "3.9.13"
  }
 },
 "nbformat": 4,
 "nbformat_minor": 5
}
